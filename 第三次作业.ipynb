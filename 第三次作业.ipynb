{
 "cells": [
  {
   "cell_type": "raw",
   "id": "2b24b2b1",
   "metadata": {},
   "source": [
    "# 1.\t利用dir()查看dict类型的内置函数，取出其中六个函数进行解释并举例说明"
   ]
  },
  {
   "cell_type": "code",
   "execution_count": 17,
   "id": "9dfd3059",
   "metadata": {},
   "outputs": [
    {
     "data": {
      "text/plain": [
       "['__class__',\n",
       " '__class_getitem__',\n",
       " '__contains__',\n",
       " '__delattr__',\n",
       " '__delitem__',\n",
       " '__dir__',\n",
       " '__doc__',\n",
       " '__eq__',\n",
       " '__format__',\n",
       " '__ge__',\n",
       " '__getattribute__',\n",
       " '__getitem__',\n",
       " '__gt__',\n",
       " '__hash__',\n",
       " '__init__',\n",
       " '__init_subclass__',\n",
       " '__ior__',\n",
       " '__iter__',\n",
       " '__le__',\n",
       " '__len__',\n",
       " '__lt__',\n",
       " '__ne__',\n",
       " '__new__',\n",
       " '__or__',\n",
       " '__reduce__',\n",
       " '__reduce_ex__',\n",
       " '__repr__',\n",
       " '__reversed__',\n",
       " '__ror__',\n",
       " '__setattr__',\n",
       " '__setitem__',\n",
       " '__sizeof__',\n",
       " '__str__',\n",
       " '__subclasshook__',\n",
       " 'clear',\n",
       " 'copy',\n",
       " 'fromkeys',\n",
       " 'get',\n",
       " 'items',\n",
       " 'keys',\n",
       " 'pop',\n",
       " 'popitem',\n",
       " 'setdefault',\n",
       " 'update',\n",
       " 'values']"
      ]
     },
     "execution_count": 17,
     "metadata": {},
     "output_type": "execute_result"
    }
   ],
   "source": [
    "dir(dict)"
   ]
  },
  {
   "cell_type": "markdown",
   "id": "ddc39d77",
   "metadata": {},
   "source": [
    "**1.dict.clear**\n",
    "\n",
    "清除字典中所有键值对。"
   ]
  },
  {
   "cell_type": "code",
   "execution_count": 18,
   "id": "514029c2",
   "metadata": {},
   "outputs": [
    {
     "name": "stdout",
     "output_type": "stream",
     "text": [
      "{}\n"
     ]
    }
   ],
   "source": [
    "dict = {'a':10, 'b':20, 'c':30}\n",
    "dict.clear()\n",
    "print(dict)"
   ]
  },
  {
   "cell_type": "markdown",
   "id": "8d1402fc",
   "metadata": {},
   "source": [
    "**2.dict.get**\n",
    "\n",
    "如果键存在于字典中，则返回该键的值。\n",
    "\n",
    "如果未找到，则返回 None。\n",
    "\n",
    "指定可选参数之后，未找到返回默认值。"
   ]
  },
  {
   "cell_type": "code",
   "execution_count": 19,
   "id": "6735d4df",
   "metadata": {},
   "outputs": [
    {
     "name": "stdout",
     "output_type": "stream",
     "text": [
      "30\n",
      "None\n"
     ]
    }
   ],
   "source": [
    "dict = {'a':10, 'b':20, 'c':30}\n",
    "print(dict.get('c')) \n",
    "print(dict.get('g'))"
   ]
  },
  {
   "cell_type": "markdown",
   "id": "da873ec6",
   "metadata": {},
   "source": [
    "**3.dict.items**\n",
    "\n",
    "返回字典中的键值对列表。\n",
    "\n",
    "items() 返回包含键值对的元组列表。\n",
    "\n",
    "每个元组中的第一项是键，第二项是键的值。"
   ]
  },
  {
   "cell_type": "code",
   "execution_count": 20,
   "id": "81263235",
   "metadata": {},
   "outputs": [
    {
     "name": "stdout",
     "output_type": "stream",
     "text": [
      "30\n",
      "None\n",
      "-1\n"
     ]
    }
   ],
   "source": [
    "dict = {'a':10, 'b':20, 'c':30}\n",
    "print(dict.get('c')) \n",
    "print(dict.get('g')) \n",
    "print(dict.get('g', -1)) "
   ]
  },
  {
   "cell_type": "markdown",
   "id": "f2e3aea6",
   "metadata": {},
   "source": [
    "**4.dict.keys**\n",
    "\n",
    "返回字典中的键列表。"
   ]
  },
  {
   "cell_type": "code",
   "execution_count": 21,
   "id": "ceb4f8f1",
   "metadata": {},
   "outputs": [
    {
     "data": {
      "text/plain": [
       "['a', 'b', 'c']"
      ]
     },
     "execution_count": 21,
     "metadata": {},
     "output_type": "execute_result"
    }
   ],
   "source": [
    "dict = {'a':10, 'b':20, 'c':30}\n",
    "dict.keys()\n",
    "list(dict.keys()) "
   ]
  },
  {
   "cell_type": "markdown",
   "id": "883819c1",
   "metadata": {},
   "source": [
    "**5.dict.values**\n",
    "\n",
    "返回字典中的值列表。"
   ]
  },
  {
   "cell_type": "code",
   "execution_count": 23,
   "id": "01e80adb",
   "metadata": {},
   "outputs": [
    {
     "data": {
      "text/plain": [
       "[10, 10, 30]"
      ]
     },
     "execution_count": 23,
     "metadata": {},
     "output_type": "execute_result"
    }
   ],
   "source": [
    "dict = {'a':10, 'b':20, 'c':30}\n",
    "dict.values() \n",
    "list(dict.values()) \n",
    "dict2 = {'a':10, 'b':10, 'c':30}\n",
    "list(dict2.values())\n"
   ]
  },
  {
   "cell_type": "markdown",
   "id": "4724c60e",
   "metadata": {},
   "source": [
    "**6.dict.pop**\n",
    "\n",
    "从字典中删除一个键，如果它存在，并返回它的值。\n",
    "\n",
    "如果不存在，则引发异常 KeyError。\n",
    "\n",
    "指定可选参数，不存在时返回默认值，不引发异常。"
   ]
  },
  {
   "cell_type": "code",
   "execution_count": 26,
   "id": "0b636de7",
   "metadata": {},
   "outputs": [
    {
     "name": "stdout",
     "output_type": "stream",
     "text": [
      "{'a': 10, 'c': 30}\n"
     ]
    },
    {
     "ename": "KeyError",
     "evalue": "'g'",
     "output_type": "error",
     "traceback": [
      "\u001b[1;31m---------------------------------------------------------------------------\u001b[0m",
      "\u001b[1;31mKeyError\u001b[0m                                  Traceback (most recent call last)",
      "\u001b[1;32m~\\AppData\\Local\\Temp/ipykernel_43236/3659896257.py\u001b[0m in \u001b[0;36m<module>\u001b[1;34m\u001b[0m\n\u001b[0;32m      2\u001b[0m \u001b[0mdict\u001b[0m\u001b[1;33m.\u001b[0m\u001b[0mpop\u001b[0m\u001b[1;33m(\u001b[0m\u001b[1;34m'b'\u001b[0m\u001b[1;33m)\u001b[0m\u001b[1;33m\u001b[0m\u001b[1;33m\u001b[0m\u001b[0m\n\u001b[0;32m      3\u001b[0m \u001b[0mprint\u001b[0m\u001b[1;33m(\u001b[0m\u001b[0mdict\u001b[0m\u001b[1;33m)\u001b[0m\u001b[1;33m\u001b[0m\u001b[1;33m\u001b[0m\u001b[0m\n\u001b[1;32m----> 4\u001b[1;33m \u001b[0mdict\u001b[0m\u001b[1;33m.\u001b[0m\u001b[0mpop\u001b[0m\u001b[1;33m(\u001b[0m\u001b[1;34m'g'\u001b[0m\u001b[1;33m)\u001b[0m\u001b[1;33m\u001b[0m\u001b[1;33m\u001b[0m\u001b[0m\n\u001b[0m\u001b[0;32m      5\u001b[0m \u001b[0mdict\u001b[0m\u001b[1;33m.\u001b[0m\u001b[0mpop\u001b[0m\u001b[1;33m(\u001b[0m\u001b[1;34m'g'\u001b[0m\u001b[1;33m,\u001b[0m \u001b[1;33m-\u001b[0m\u001b[1;36m1\u001b[0m\u001b[1;33m)\u001b[0m\u001b[1;33m\u001b[0m\u001b[1;33m\u001b[0m\u001b[0m\n",
      "\u001b[1;31mKeyError\u001b[0m: 'g'"
     ]
    }
   ],
   "source": [
    "dict = {'a':10, 'b':20, 'c':30}\n",
    "dict.pop('b') \n",
    "print(dict) \n",
    "dict.pop('g')\n",
    "dict.pop('g', -1) \n"
   ]
  },
  {
   "cell_type": "markdown",
   "id": "0697d676",
   "metadata": {},
   "source": [
    "# 2.\t利用dir()查看set类型的内置函数，取出其中三个函数进行解释并举例说明"
   ]
  },
  {
   "cell_type": "code",
   "execution_count": 27,
   "id": "96c1079d",
   "metadata": {},
   "outputs": [
    {
     "data": {
      "text/plain": [
       "['__and__',\n",
       " '__class__',\n",
       " '__class_getitem__',\n",
       " '__contains__',\n",
       " '__delattr__',\n",
       " '__dir__',\n",
       " '__doc__',\n",
       " '__eq__',\n",
       " '__format__',\n",
       " '__ge__',\n",
       " '__getattribute__',\n",
       " '__gt__',\n",
       " '__hash__',\n",
       " '__iand__',\n",
       " '__init__',\n",
       " '__init_subclass__',\n",
       " '__ior__',\n",
       " '__isub__',\n",
       " '__iter__',\n",
       " '__ixor__',\n",
       " '__le__',\n",
       " '__len__',\n",
       " '__lt__',\n",
       " '__ne__',\n",
       " '__new__',\n",
       " '__or__',\n",
       " '__rand__',\n",
       " '__reduce__',\n",
       " '__reduce_ex__',\n",
       " '__repr__',\n",
       " '__ror__',\n",
       " '__rsub__',\n",
       " '__rxor__',\n",
       " '__setattr__',\n",
       " '__sizeof__',\n",
       " '__str__',\n",
       " '__sub__',\n",
       " '__subclasshook__',\n",
       " '__xor__',\n",
       " 'add',\n",
       " 'clear',\n",
       " 'copy',\n",
       " 'difference',\n",
       " 'difference_update',\n",
       " 'discard',\n",
       " 'intersection',\n",
       " 'intersection_update',\n",
       " 'isdisjoint',\n",
       " 'issubset',\n",
       " 'issuperset',\n",
       " 'pop',\n",
       " 'remove',\n",
       " 'symmetric_difference',\n",
       " 'symmetric_difference_update',\n",
       " 'union',\n",
       " 'update']"
      ]
     },
     "execution_count": 27,
     "metadata": {},
     "output_type": "execute_result"
    }
   ],
   "source": [
    "dir(set)"
   ]
  },
  {
   "cell_type": "markdown",
   "id": "85ccdb99",
   "metadata": {},
   "source": [
    "**1.set.discard()**\n",
    "\n",
    "移除不存的元素不会报错"
   ]
  },
  {
   "cell_type": "code",
   "execution_count": 29,
   "id": "db2ceaab",
   "metadata": {},
   "outputs": [
    {
     "name": "stdout",
     "output_type": "stream",
     "text": [
      "{33, 22}\n"
     ]
    }
   ],
   "source": [
    "set = {11, 22, 33}\n",
    "set.discard(11)\n",
    "set.discard(44)  \n",
    "print(set)"
   ]
  },
  {
   "cell_type": "markdown",
   "id": "31708d79",
   "metadata": {},
   "source": [
    "**2.set.remove()**\n",
    "\n",
    "移除不存的元素会报错"
   ]
  },
  {
   "cell_type": "code",
   "execution_count": 30,
   "id": "6bdbb2b4",
   "metadata": {},
   "outputs": [
    {
     "ename": "KeyError",
     "evalue": "44",
     "output_type": "error",
     "traceback": [
      "\u001b[1;31m---------------------------------------------------------------------------\u001b[0m",
      "\u001b[1;31mKeyError\u001b[0m                                  Traceback (most recent call last)",
      "\u001b[1;32m~\\AppData\\Local\\Temp/ipykernel_43236/149858404.py\u001b[0m in \u001b[0;36m<module>\u001b[1;34m\u001b[0m\n\u001b[0;32m      1\u001b[0m \u001b[0mset\u001b[0m \u001b[1;33m=\u001b[0m \u001b[1;33m{\u001b[0m\u001b[1;36m11\u001b[0m\u001b[1;33m,\u001b[0m \u001b[1;36m22\u001b[0m\u001b[1;33m,\u001b[0m \u001b[1;36m33\u001b[0m\u001b[1;33m}\u001b[0m\u001b[1;33m\u001b[0m\u001b[1;33m\u001b[0m\u001b[0m\n\u001b[0;32m      2\u001b[0m \u001b[0mset\u001b[0m\u001b[1;33m.\u001b[0m\u001b[0mremove\u001b[0m\u001b[1;33m(\u001b[0m\u001b[1;36m11\u001b[0m\u001b[1;33m)\u001b[0m\u001b[1;33m\u001b[0m\u001b[1;33m\u001b[0m\u001b[0m\n\u001b[1;32m----> 3\u001b[1;33m \u001b[0mset\u001b[0m\u001b[1;33m.\u001b[0m\u001b[0mremove\u001b[0m\u001b[1;33m(\u001b[0m\u001b[1;36m44\u001b[0m\u001b[1;33m)\u001b[0m\u001b[1;33m\u001b[0m\u001b[1;33m\u001b[0m\u001b[0m\n\u001b[0m\u001b[0;32m      4\u001b[0m \u001b[0mprint\u001b[0m\u001b[1;33m(\u001b[0m\u001b[0mset\u001b[0m\u001b[1;33m)\u001b[0m\u001b[1;33m\u001b[0m\u001b[1;33m\u001b[0m\u001b[0m\n",
      "\u001b[1;31mKeyError\u001b[0m: 44"
     ]
    }
   ],
   "source": [
    "set = {11, 22, 33}\n",
    "set.remove(11)\n",
    "set.remove(44)  \n",
    "print(set)"
   ]
  },
  {
   "cell_type": "markdown",
   "id": "6550080c",
   "metadata": {},
   "source": [
    "**3.set.pop()**\n",
    "\n",
    "移除末尾元素并把移除的元素赋给新值"
   ]
  },
  {
   "cell_type": "code",
   "execution_count": 32,
   "id": "ee3fc6fb",
   "metadata": {},
   "outputs": [
    {
     "name": "stdout",
     "output_type": "stream",
     "text": [
      "33\n",
      "{11, 22}\n"
     ]
    }
   ],
   "source": [
    "set = {11, 22, 33}  \n",
    "temp = set.pop()\n",
    "print(temp)  \n",
    "print(set) "
   ]
  },
  {
   "cell_type": "markdown",
   "id": "245725c6",
   "metadata": {},
   "source": [
    "#  3.\t已知字符串“CCACATCACTTACTACCCGGTCTCAATGGCCAACATGGAAATTAAGGCTTAACCGGCATTCAACGGCTTCCCACCGGATCTTACATGGATAACACTCGGTACCAACATGGTTTACCTCCGGCCACTCCTCGGAACAATACAGGTTATTACCCGGCATTTCCTTGGTAATATCCTGGCTTATTCAAGGCCTTCTCACGGTACCTAAATGGCTTTATTCCGGTTCTCAATTGGCCAATTCCAGGAATTCTCCCGGTAATCTAAAGGCACTTATTCGGTTCCTCCATGGTCCTTTACTGGCCTCCCCACGGTCCACATCTGGTTACTTATCGGCTCCTCCAAGGTATCTTATCGGACCACTCTCGGTCTCCCCTTGGCACAACACTGGTATACCAACGGCACTTTCTCGGATCACTCAAGGAACATAAAAGGTTCCCACTTGGTTCCTAACAGGATAATCATAGGCAACCCACAGGCCAAATTAAGGTCACCCAACGGAATTATCAAGGACATATCTTGGATAACCTTAGGTTCCTATACGGCCTTATCTTGGCTCATCTCTGGCATACTCCAGGCAATCATCCGGCTATAACCTGGTCCTAAATTGGTCAAACTTAGGATAATAAATGGCCTCTTAACGGATCCAAATAGGAACCCTCATGGACCCTTACTGGACCTAACACGGTTCCTCACAGGCTCTCATAAGGATCACCACTGGATCACTCATGGTATACCCTAGGTCAAATCTAGGCTTATATTAGGTAACAACCAGGTAATTCATCGGCCCTAAACCGGAATCATCCCGGACCACACACGGACTCATAATGGCAATTTACCGGTCTCCATAAGGCTCACTATAGGCCTCCCATCGGCATCTTCATGGAACCTCTTAGGACAAACCCAGGACACTCACAGGTCTTCTATTGGACCTTCATTGGAACCTTTCTGGAATCATACGGATCATATGGTAAACTAGGATCCCTAGGTATCACAACTACCTCACAAAAAAAAAA”， 我们称任意长度碱基是一个motif，例如ACA为长度3的motif，统计该字符串中长度为3，4，5，6，7的motif有哪些，出现了多少次？ 提示：motif为key，value为该motif出现的次数"
   ]
  },
  {
   "cell_type": "code",
   "execution_count": 16,
   "id": "edfbb379",
   "metadata": {},
   "outputs": [
    {
     "name": "stdout",
     "output_type": "stream",
     "text": [
      "{'CCA': 25, 'CAC': 30, 'ACA': 24, 'CAT': 27, 'ATC': 29, 'TCA': 32, 'ACT': 22, 'CTT': 28, 'TTA': 25, 'TAC': 18, 'CTA': 16, 'ACC': 27, 'CCC': 19, 'CCG': 11, 'CGG': 30, 'GGT': 30, 'GTC': 10, 'TCT': 24, 'CTC': 33, 'CAA': 25, 'AAT': 23, 'ATG': 12, 'TGG': 30, 'GGC': 30, 'GCC': 10, 'AAC': 26, 'GGA': 30, 'GAA': 10, 'AAA': 22, 'ATT': 18, 'TAA': 25, 'AAG': 10, 'AGG': 30, 'GCT': 10, 'GCA': 10, 'TTC': 21, 'ACG': 10, 'TCC': 28, 'GAT': 11, 'ATA': 23, 'TCG': 9, 'GTA': 11, 'GTT': 9, 'TTT': 7, 'CCT': 30, 'CAG': 9, 'TAT': 21, 'TTG': 9, 'CTG': 9, 'GAC': 9, 'TAG': 11}\n",
      "{'CCAC': 10, 'CACA': 10, 'ACAT': 7, 'CATC': 8, 'ATCA': 11, 'TCAC': 11, 'CACT': 13, 'ACTT': 6, 'CTTA': 14, 'TTAC': 8, 'TACT': 5, 'ACTA': 4, 'CTAC': 2, 'TACC': 9, 'ACCC': 8, 'CCCG': 4, 'CCGG': 11, 'CGGT': 10, 'GGTC': 10, 'GTCT': 4, 'TCTC': 10, 'CTCA': 13, 'TCAA': 8, 'CAAT': 6, 'AATG': 4, 'ATGG': 12, 'TGGC': 10, 'GGCC': 10, 'GCCA': 4, 'CCAA': 8, 'CAAC': 9, 'AACA': 9, 'CATG': 7, 'TGGA': 10, 'GGAA': 10, 'GAAA': 1, 'AAAT': 7, 'AATT': 9, 'ATTA': 5, 'TTAA': 4, 'TAAG': 4, 'AAGG': 10, 'AGGC': 10, 'GGCT': 10, 'GCTT': 5, 'TAAC': 8, 'AACC': 10, 'ACCG': 4, 'CGGC': 10, 'GGCA': 10, 'GCAT': 4, 'CATT': 3, 'ATTC': 7, 'TTCA': 5, 'AACG': 4, 'ACGG': 10, 'CTTC': 5, 'TTCC': 9, 'TCCC': 8, 'CCCA': 7, 'CACC': 3, 'CGGA': 10, 'GGAT': 11, 'GATC': 7, 'ATCT': 9, 'TCTT': 8, 'TACA': 2, 'GATA': 4, 'ATAA': 10, 'ACAC': 6, 'ACTC': 8, 'CTCG': 4, 'TCGG': 9, 'GGTA': 11, 'GTAC': 2, 'ACCA': 6, 'TGGT': 10, 'GGTT': 9, 'GTTT': 1, 'TTTA': 4, 'ACCT': 9, 'CCTC': 11, 'CTCC': 11, 'TCCG': 3, 'TCCT': 10, 'GAAC': 5, 'ACAA': 6, 'AATA': 4, 'ATAC': 6, 'ACAG': 5, 'CAGG': 9, 'AGGT': 10, 'GTTA': 2, 'TTAT': 9, 'TATT': 6, 'ATTT': 2, 'TTTC': 3, 'CCTT': 9, 'CTTG': 5, 'TTGG': 9, 'GTAA': 5, 'TAAT': 6, 'ATAT': 4, 'TATC': 8, 'ATCC': 5, 'CCTG': 2, 'CTGG': 9, 'CAAG': 4, 'GCCT': 5, 'TTCT': 6, 'CACG': 4, 'CCTA': 8, 'CTAA': 6, 'TAAA': 7, 'CTTT': 4, 'GTTC': 6, 'ATTG': 4, 'TCCA': 7, 'CCAG': 4, 'AGGA': 10, 'GAAT': 4, 'AATC': 6, 'TCTA': 3, 'AAAG': 2, 'GCAC': 3, 'TTCG': 1, 'CCAT': 3, 'GTCC': 3, 'ACTG': 4, 'CCCC': 2, 'TCTG': 3, 'ATCG': 4, 'GCTC': 4, 'GTAT': 4, 'GGAC': 9, 'GACC': 5, 'CTCT': 5, 'CCCT': 6, 'TATA': 6, 'CATA': 9, 'AAAA': 8, 'TCAT': 13, 'ATAG': 3, 'TAGG': 11, 'GCAA': 3, 'CAAA': 6, 'GTCA': 3, 'GACA': 3, 'TTAG': 4, 'CTAT': 4, 'TACG': 2, 'GCTA': 1, 'AAAC': 4, 'AACT': 3, 'CTAG': 4, 'GCCC': 1, 'GACT': 1, 'TATG': 1}\n",
      "{'CCACA': 4, 'CACAT': 2, 'ACATC': 2, 'CATCA': 1, 'ATCAC': 5, 'TCACT': 4, 'CACTT': 4, 'ACTTA': 4, 'CTTAC': 3, 'TTACT': 4, 'TACTA': 1, 'ACTAC': 2, 'CTACC': 2, 'TACCC': 3, 'ACCCG': 2, 'CCCGG': 4, 'CCGGT': 4, 'CGGTC': 4, 'GGTCT': 4, 'GTCTC': 3, 'TCTCA': 4, 'CTCAA': 3, 'TCAAT': 2, 'CAATG': 1, 'AATGG': 4, 'ATGGC': 4, 'TGGCC': 4, 'GGCCA': 4, 'GCCAA': 3, 'CCAAC': 4, 'CAACA': 3, 'AACAT': 3, 'ACATG': 3, 'CATGG': 7, 'ATGGA': 4, 'TGGAA': 4, 'GGAAA': 1, 'GAAAT': 1, 'AAATT': 3, 'AATTA': 3, 'ATTAA': 2, 'TTAAG': 2, 'TAAGG': 4, 'AAGGC': 4, 'AGGCT': 4, 'GGCTT': 5, 'GCTTA': 3, 'CTTAA': 2, 'TTAAC': 2, 'TAACC': 3, 'AACCG': 2, 'ACCGG': 4, 'CCGGC': 4, 'CGGCA': 4, 'GGCAT': 4, 'GCATT': 2, 'CATTC': 1, 'ATTCA': 3, 'TTCAA': 2, 'TCAAC': 1, 'CAACG': 3, 'AACGG': 4, 'ACGGC': 3, 'CGGCT': 3, 'GCTTC': 1, 'CTTCC': 1, 'TTCCC': 2, 'TCCCA': 3, 'CCCAC': 4, 'CCACC': 1, 'CACCG': 1, 'CCGGA': 3, 'CGGAT': 4, 'GGATC': 7, 'GATCT': 1, 'ATCTT': 5, 'TCTTA': 4, 'TTACA': 1, 'TACAT': 1, 'TGGAT': 3, 'GGATA': 4, 'GATAA': 4, 'ATAAC': 3, 'TAACA': 4, 'AACAC': 3, 'ACACT': 3, 'CACTC': 6, 'ACTCG': 1, 'CTCGG': 4, 'TCGGT': 3, 'CGGTA': 3, 'GGTAC': 2, 'GTACC': 2, 'TACCA': 2, 'ACCAA': 2, 'ATGGT': 4, 'TGGTT': 3, 'GGTTT': 1, 'GTTTA': 1, 'TTTAC': 3, 'TTACC': 3, 'TACCT': 3, 'ACCTC': 3, 'CCTCC': 5, 'CTCCG': 1, 'TCCGG': 3, 'CGGCC': 3, 'GCCAC': 1, 'CCACT': 4, 'ACTCC': 2, 'CTCCT': 2, 'TCCTC': 4, 'CCTCG': 1, 'TCGGA': 3, 'CGGAA': 3, 'GGAAC': 5, 'GAACA': 2, 'AACAA': 2, 'ACAAT': 1, 'CAATA': 1, 'AATAC': 1, 'ATACA': 1, 'TACAG': 1, 'ACAGG': 5, 'CAGGT': 3, 'AGGTT': 3, 'GGTTA': 2, 'GTTAT': 1, 'TTATT': 4, 'TATTA': 2, 'ATTAC': 1, 'CATTT': 1, 'ATTTC': 1, 'TTTCC': 1, 'TTCCT': 5, 'TCCTT': 2, 'CCTTG': 2, 'CTTGG': 5, 'TTGGT': 3, 'TGGTA': 4, 'GGTAA': 5, 'GTAAT': 3, 'TAATA': 2, 'AATAT': 1, 'ATATC': 2, 'TATCC': 1, 'ATCCT': 1, 'TCCTG': 1, 'CCTGG': 2, 'CTGGC': 3, 'TGGCT': 3, 'CTTAT': 6, 'TATTC': 3, 'TCAAG': 3, 'CAAGG': 4, 'AGGCC': 3, 'GGCCT': 5, 'GCCTT': 2, 'CCTTC': 2, 'CTTCT': 2, 'TTCTC': 4, 'CTCAC': 5, 'TCACG': 1, 'CACGG': 4, 'ACGGT': 3, 'ACCTA': 2, 'CCTAA': 5, 'CTAAA': 4, 'TAAAT': 3, 'AAATG': 2, 'GCTTT': 1, 'CTTTA': 2, 'TTTAT': 1, 'ATTCC': 2, 'TTCCG': 1, 'CGGTT': 3, 'GGTTC': 6, 'GTTCT': 1, 'CAATT': 3, 'AATTG': 2, 'ATTGG': 4, 'TTGGC': 3, 'CCAAT': 1, 'AATTC': 3, 'TTCCA': 1, 'TCCAG': 2, 'CCAGG': 4, 'CAGGA': 3, 'AGGAA': 3, 'GGAAT': 4, 'GAATT': 2, 'ATTCT': 1, 'TCTCC': 3, 'CTCCC': 4, 'TCCCG': 2, 'TAATC': 2, 'AATCT': 2, 'ATCTA': 2, 'TCTAA': 1, 'TAAAG': 1, 'AAAGG': 2, 'AGGCA': 3, 'GGCAC': 3, 'GCACT': 2, 'ATTCG': 1, 'TTCGG': 1, 'GTTCC': 5, 'CTCCA': 4, 'TCCAT': 2, 'CCATG': 1, 'TGGTC': 3, 'GGTCC': 3, 'GTCCT': 2, 'CCTTT': 2, 'TACTG': 2, 'ACTGG': 4, 'GCCTC': 3, 'TCCCC': 2, 'CCCCA': 1, 'CCACG': 1, 'GTCCA': 1, 'TCCAC': 1, 'CATCT': 3, 'ATCTG': 1, 'TCTGG': 3, 'CTGGT': 3, 'GTTAC': 1, 'TACTT': 1, 'TTATC': 4, 'TATCG': 2, 'ATCGG': 4, 'TCGGC': 3, 'GGCTC': 4, 'GCTCC': 1, 'TCCAA': 2, 'CCAAG': 1, 'AAGGT': 3, 'AGGTA': 4, 'GGTAT': 4, 'GTATC': 2, 'TATCT': 3, 'CGGAC': 3, 'GGACC': 5, 'GACCA': 2, 'ACCAC': 3, 'ACTCT': 1, 'CTCTC': 2, 'TCTCG': 2, 'CCCCT': 1, 'CCCTT': 2, 'TGGCA': 3, 'GCACA': 1, 'CACAA': 3, 'ACAAC': 3, 'CACTG': 2, 'GTATA': 2, 'TATAC': 3, 'ATACC': 2, 'ACTTT': 1, 'CTTTC': 2, 'TTTCT': 2, 'GATCA': 4, 'ACTCA': 4, 'AAGGA': 3, 'ACATA': 2, 'CATAA': 4, 'ATAAA': 2, 'TAAAA': 1, 'AAAAG': 1, 'ACTTG': 1, 'TCCTA': 3, 'CTAAC': 2, 'AACAG': 1, 'AGGAT': 4, 'ATAAT': 3, 'AATCA': 4, 'ATCAT': 5, 'TCATA': 5, 'CATAG': 1, 'ATAGG': 3, 'TAGGC': 3, 'GGCAA': 3, 'GCAAC': 1, 'CAACC': 2, 'AACCC': 3, 'ACCCA': 3, 'CACAG': 3, 'CAGGC': 3, 'CCAAA': 2, 'CAAAT': 3, 'AGGTC': 3, 'GGTCA': 3, 'GTCAC': 1, 'TCACC': 2, 'CACCC': 1, 'CCCAA': 1, 'ACGGA': 4, 'ATTAT': 1, 'TATCA': 2, 'ATCAA': 1, 'AGGAC': 3, 'GGACA': 3, 'GACAT': 1, 'CATAT': 2, 'TCTTG': 2, 'TTGGA': 3, 'AACCT': 4, 'ACCTT': 3, 'CCTTA': 3, 'CTTAG': 3, 'TTAGG': 4, 'TAGGT': 4, 'CCTAT': 1, 'CTATA': 3, 'ATACG': 2, 'TACGG': 2, 'GCTCA': 2, 'CTCAT': 5, 'TCATC': 4, 'ATCTC': 1, 'TCTCT': 1, 'CTCTG': 1, 'GCATA': 1, 'CATAC': 2, 'ATACT': 1, 'TACTC': 1, 'GCAAT': 2, 'CAATC': 1, 'CATCC': 2, 'ATCCG': 1, 'GGCTA': 1, 'GCTAT': 1, 'TATAA': 1, 'ACCTG': 1, 'GTCAA': 2, 'TCAAA': 2, 'CAAAC': 2, 'AAACT': 2, 'AACTT': 1, 'TAGGA': 4, 'AATAA': 1, 'CCTCT': 2, 'CTCTT': 2, 'TAACG': 1, 'GATCC': 2, 'ATCCA': 1, 'AAATA': 1, 'AATAG': 1, 'GAACC': 3, 'ACCCT': 3, 'CCCTC': 1, 'CCTCA': 3, 'TCATG': 3, 'TGGAC': 3, 'GACCC': 1, 'CTGGA': 3, 'GACCT': 2, 'ACACG': 2, 'TCACA': 4, 'GCTCT': 1, 'ATAAG': 2, 'CACCA': 1, 'CCCTA': 3, 'CCTAG': 2, 'CTAGG': 4, 'AAATC': 1, 'TCTAG': 1, 'TTATA': 1, 'TATAT': 1, 'ATATT': 1, 'ATTAG': 1, 'GTAAC': 1, 'AACCA': 1, 'ACCAG': 1, 'TAATT': 1, 'TTCAT': 3, 'CATCG': 2, 'GGCCC': 1, 'GCCCT': 1, 'TAAAC': 2, 'AAACC': 2, 'GAATC': 2, 'ATCCC': 2, 'CACAC': 2, 'ACACA': 1, 'GGACT': 1, 'GACTC': 1, 'TAATG': 1, 'AATTT': 1, 'ATTTA': 1, 'TACCG': 1, 'CCATA': 1, 'CACTA': 1, 'ACTAT': 1, 'TATAG': 1, 'CCCAT': 1, 'CCATC': 1, 'GCATC': 1, 'TCTTC': 2, 'CTTCA': 2, 'GACAA': 1, 'ACAAA': 2, 'CCCAG': 1, 'GACAC': 1, 'GTCTT': 1, 'TTCTA': 1, 'TCTAT': 1, 'CTATT': 1, 'TATTG': 1, 'TCATT': 1, 'CATTG': 1, 'TTCTG': 1, 'ATATG': 1, 'TATGG': 1, 'GTAAA': 1, 'AACTA': 2, 'ACTAG': 1, 'TCCCT': 1, 'CAACT': 1, 'CAAAA': 1, 'AAAAA': 6}\n",
      "{'CCACAT': 2, 'CACATC': 2, 'ACATCA': 1, 'CATCAC': 1, 'ATCACT': 3, 'TCACTT': 1, 'CACTTA': 2, 'ACTTAC': 1, 'CTTACT': 2, 'TTACTA': 1, 'TACTAC': 1, 'ACTACC': 2, 'CTACCC': 1, 'TACCCG': 2, 'ACCCGG': 2, 'CCCGGT': 2, 'CCGGTC': 2, 'CGGTCT': 3, 'GGTCTC': 3, 'GTCTCA': 1, 'TCTCAA': 2, 'CTCAAT': 2, 'TCAATG': 1, 'CAATGG': 1, 'AATGGC': 4, 'ATGGCC': 2, 'TGGCCA': 2, 'GGCCAA': 3, 'GCCAAC': 1, 'CCAACA': 2, 'CAACAT': 2, 'AACATG': 2, 'ACATGG': 3, 'CATGGA': 4, 'ATGGAA': 2, 'TGGAAA': 1, 'GGAAAT': 1, 'GAAATT': 1, 'AAATTA': 2, 'AATTAA': 2, 'ATTAAG': 2, 'TTAAGG': 2, 'TAAGGC': 2, 'AAGGCT': 2, 'AGGCTT': 2, 'GGCTTA': 3, 'GCTTAA': 1, 'CTTAAC': 2, 'TTAACC': 1, 'TAACCG': 1, 'AACCGG': 2, 'ACCGGC': 1, 'CCGGCA': 2, 'CGGCAT': 3, 'GGCATT': 2, 'GCATTC': 1, 'CATTCA': 1, 'ATTCAA': 2, 'TTCAAC': 1, 'TCAACG': 1, 'CAACGG': 3, 'AACGGC': 2, 'ACGGCT': 1, 'CGGCTT': 1, 'GGCTTC': 1, 'GCTTCC': 1, 'CTTCCC': 1, 'TTCCCA': 2, 'TCCCAC': 2, 'CCCACC': 1, 'CCACCG': 1, 'CACCGG': 1, 'ACCGGA': 2, 'CCGGAT': 1, 'CGGATC': 4, 'GGATCT': 1, 'GATCTT': 1, 'ATCTTA': 2, 'TCTTAC': 1, 'CTTACA': 1, 'TTACAT': 1, 'TACATG': 1, 'ATGGAT': 1, 'TGGATA': 2, 'GGATAA': 4, 'GATAAC': 2, 'ATAACA': 1, 'TAACAC': 2, 'AACACT': 2, 'ACACTC': 2, 'CACTCG': 1, 'ACTCGG': 1, 'CTCGGT': 2, 'TCGGTA': 1, 'CGGTAC': 2, 'GGTACC': 2, 'GTACCA': 1, 'TACCAA': 2, 'ACCAAC': 2, 'CATGGT': 3, 'ATGGTT': 1, 'TGGTTT': 1, 'GGTTTA': 1, 'GTTTAC': 1, 'TTTACC': 2, 'TTACCT': 1, 'TACCTC': 2, 'ACCTCC': 1, 'CCTCCG': 1, 'CTCCGG': 1, 'TCCGGC': 2, 'CCGGCC': 1, 'CGGCCA': 1, 'GGCCAC': 1, 'GCCACT': 1, 'CCACTC': 2, 'CACTCC': 1, 'ACTCCT': 1, 'CTCCTC': 2, 'TCCTCG': 1, 'CCTCGG': 1, 'CTCGGA': 2, 'TCGGAA': 1, 'CGGAAC': 1, 'GGAACA': 2, 'GAACAA': 1, 'AACAAT': 1, 'ACAATA': 1, 'CAATAC': 1, 'AATACA': 1, 'ATACAG': 1, 'TACAGG': 1, 'ACAGGT': 2, 'CAGGTT': 1, 'AGGTTA': 1, 'GGTTAT': 1, 'GTTATT': 1, 'TTATTA': 1, 'TATTAC': 1, 'ATTACC': 1, 'TTACCC': 1, 'CCCGGC': 1, 'GCATTT': 1, 'CATTTC': 1, 'ATTTCC': 1, 'TTTCCT': 1, 'TTCCTT': 1, 'TCCTTG': 1, 'CCTTGG': 2, 'CTTGGT': 2, 'TTGGTA': 1, 'TGGTAA': 2, 'GGTAAT': 3, 'GTAATA': 1, 'TAATAT': 1, 'AATATC': 1, 'ATATCC': 1, 'TATCCT': 1, 'ATCCTG': 1, 'TCCTGG': 1, 'CCTGGC': 1, 'CTGGCT': 1, 'TGGCTT': 2, 'GCTTAT': 2, 'CTTATT': 2, 'TTATTC': 3, 'TATTCA': 1, 'TTCAAG': 1, 'TCAAGG': 3, 'CAAGGC': 1, 'AAGGCC': 1, 'AGGCCT': 2, 'GGCCTT': 2, 'GCCTTC': 1, 'CCTTCT': 1, 'CTTCTC': 1, 'TTCTCA': 2, 'TCTCAC': 1, 'CTCACG': 1, 'TCACGG': 1, 'CACGGT': 3, 'ACGGTA': 1, 'GTACCT': 1, 'TACCTA': 1, 'ACCTAA': 2, 'CCTAAA': 3, 'CTAAAT': 2, 'TAAATG': 2, 'AAATGG': 2, 'ATGGCT': 1, 'GGCTTT': 1, 'GCTTTA': 1, 'CTTTAT': 1, 'TTTATT': 1, 'TATTCC': 1, 'ATTCCG': 1, 'TTCCGG': 1, 'TCCGGT': 1, 'CCGGTT': 1, 'CGGTTC': 3, 'GGTTCT': 1, 'GTTCTC': 1, 'TCAATT': 1, 'CAATTG': 1, 'AATTGG': 2, 'ATTGGC': 1, 'TTGGCC': 1, 'GCCAAT': 1, 'CCAATT': 1, 'CAATTC': 1, 'AATTCC': 1, 'ATTCCA': 1, 'TTCCAG': 1, 'TCCAGG': 2, 'CCAGGA': 2, 'CAGGAA': 1, 'AGGAAT': 1, 'GGAATT': 2, 'GAATTC': 1, 'AATTCT': 1, 'ATTCTC': 1, 'TTCTCC': 1, 'TCTCCC': 2, 'CTCCCG': 1, 'TCCCGG': 2, 'CCGGTA': 1, 'CGGTAA': 1, 'GTAATC': 1, 'TAATCT': 1, 'AATCTA': 2, 'ATCTAA': 1, 'TCTAAA': 1, 'CTAAAG': 1, 'TAAAGG': 1, 'AAAGGC': 1, 'AAGGCA': 1, 'AGGCAC': 1, 'GGCACT': 2, 'GCACTT': 2, 'ACTTAT': 2, 'TATTCG': 1, 'ATTCGG': 1, 'TTCGGT': 1, 'TCGGTT': 1, 'GGTTCC': 5, 'GTTCCT': 4, 'TTCCTC': 2, 'TCCTCC': 2, 'CCTCCA': 2, 'CTCCAT': 2, 'TCCATG': 1, 'CCATGG': 1, 'ATGGTC': 1, 'TGGTCC': 2, 'GGTCCT': 2, 'GTCCTT': 1, 'TCCTTT': 1, 'CCTTTA': 1, 'CTTTAC': 1, 'TTTACT': 1, 'TTACTG': 2, 'TACTGG': 2, 'ACTGGC': 1, 'CTGGCC': 1, 'TGGCCT': 2, 'GGCCTC': 3, 'GCCTCC': 2, 'CCTCCC': 2, 'CTCCCC': 2, 'TCCCCA': 1, 'CCCCAC': 1, 'CCCACG': 1, 'CCACGG': 1, 'ACGGTC': 1, 'CGGTCC': 1, 'GGTCCA': 1, 'GTCCAC': 1, 'TCCACA': 1, 'ACATCT': 1, 'CATCTG': 1, 'ATCTGG': 1, 'TCTGGT': 1, 'CTGGTT': 1, 'TGGTTA': 1, 'GGTTAC': 1, 'GTTACT': 1, 'TTACTT': 1, 'TACTTA': 1, 'CTTATC': 3, 'TTATCG': 2, 'TATCGG': 2, 'ATCGGC': 3, 'TCGGCT': 1, 'CGGCTC': 1, 'GGCTCC': 1, 'GCTCCT': 1, 'CTCCAA': 1, 'TCCAAG': 1, 'CCAAGG': 1, 'CAAGGT': 1, 'AAGGTA': 1, 'AGGTAT': 2, 'GGTATC': 2, 'GTATCT': 1, 'TATCTT': 3, 'TCTTAT': 1, 'ATCGGA': 1, 'TCGGAC': 1, 'CGGACC': 2, 'GGACCA': 2, 'GACCAC': 2, 'ACCACT': 2, 'CACTCT': 1, 'ACTCTC': 1, 'CTCTCG': 1, 'TCTCGG': 2, 'TCGGTC': 1, 'GTCTCC': 2, 'TCCCCT': 1, 'CCCCTT': 1, 'CCCTTG': 1, 'CTTGGC': 2, 'TTGGCA': 1, 'TGGCAC': 1, 'GGCACA': 1, 'GCACAA': 1, 'CACAAC': 2, 'ACAACA': 1, 'CAACAC': 1, 'ACACTG': 1, 'CACTGG': 2, 'ACTGGT': 1, 'CTGGTA': 1, 'TGGTAT': 2, 'GGTATA': 2, 'GTATAC': 2, 'TATACC': 2, 'ATACCA': 1, 'CCAACG': 2, 'ACGGCA': 1, 'CGGCAC': 1, 'CACTTT': 1, 'ACTTTC': 1, 'CTTTCT': 2, 'TTTCTC': 1, 'TTCTCG': 1, 'TCGGAT': 1, 'GGATCA': 4, 'GATCAC': 3, 'TCACTC': 2, 'CACTCA': 3, 'ACTCAA': 1, 'CTCAAG': 1, 'CAAGGA': 2, 'AAGGAA': 1, 'AGGAAC': 2, 'GAACAT': 1, 'AACATA': 1, 'ACATAA': 1, 'CATAAA': 1, 'ATAAAA': 1, 'TAAAAG': 1, 'AAAAGG': 1, 'AAAGGT': 1, 'AAGGTT': 1, 'AGGTTC': 2, 'GTTCCC': 1, 'CCCACT': 1, 'CCACTT': 1, 'CACTTG': 1, 'ACTTGG': 1, 'TTGGTT': 1, 'TGGTTC': 1, 'TTCCTA': 2, 'TCCTAA': 2, 'CCTAAC': 2, 'CTAACA': 2, 'TAACAG': 1, 'AACAGG': 1, 'ACAGGA': 1, 'CAGGAT': 1, 'AGGATA': 2, 'GATAAT': 2, 'ATAATC': 1, 'TAATCA': 1, 'AATCAT': 4, 'ATCATA': 3, 'TCATAG': 1, 'CATAGG': 1, 'ATAGGC': 2, 'TAGGCA': 1, 'AGGCAA': 2, 'GGCAAC': 1, 'GCAACC': 1, 'CAACCC': 1, 'AACCCA': 2, 'ACCCAC': 1, 'CCCACA': 1, 'CCACAG': 1, 'CACAGG': 3, 'ACAGGC': 2, 'CAGGCC': 1, 'AGGCCA': 1, 'GCCAAA': 1, 'CCAAAT': 2, 'CAAATT': 1, 'TAAGGT': 1, 'AAGGTC': 1, 'AGGTCA': 2, 'GGTCAC': 1, 'GTCACC': 1, 'TCACCC': 1, 'CACCCA': 1, 'ACCCAA': 1, 'CCCAAC': 1, 'AACGGA': 2, 'ACGGAA': 1, 'CGGAAT': 2, 'GAATTA': 1, 'AATTAT': 1, 'ATTATC': 1, 'TTATCA': 1, 'TATCAA': 1, 'ATCAAG': 1, 'AAGGAC': 1, 'AGGACA': 3, 'GGACAT': 1, 'GACATA': 1, 'ACATAT': 1, 'CATATC': 1, 'ATATCT': 1, 'ATCTTG': 2, 'TCTTGG': 2, 'CTTGGA': 1, 'TTGGAT': 1, 'ATAACC': 2, 'TAACCT': 2, 'AACCTT': 2, 'ACCTTA': 1, 'CCTTAG': 1, 'CTTAGG': 3, 'TTAGGT': 2, 'TAGGTT': 1, 'TCCTAT': 1, 'CCTATA': 1, 'CTATAC': 1, 'TATACG': 1, 'ATACGG': 2, 'TACGGC': 1, 'ACGGCC': 1, 'CGGCCT': 1, 'GCCTTA': 1, 'CCTTAT': 1, 'TTATCT': 1, 'TTGGCT': 1, 'TGGCTC': 1, 'GGCTCA': 2, 'GCTCAT': 1, 'CTCATC': 1, 'TCATCT': 1, 'CATCTC': 1, 'ATCTCT': 1, 'TCTCTG': 1, 'CTCTGG': 1, 'TCTGGC': 1, 'CTGGCA': 1, 'TGGCAT': 1, 'GGCATA': 1, 'GCATAC': 1, 'CATACT': 1, 'ATACTC': 1, 'TACTCC': 1, 'ACTCCA': 1, 'CTCCAG': 1, 'CCAGGC': 1, 'CAGGCA': 1, 'GGCAAT': 2, 'GCAATC': 1, 'CAATCA': 1, 'ATCATC': 2, 'TCATCC': 2, 'CATCCG': 1, 'ATCCGG': 1, 'CCGGCT': 1, 'CGGCTA': 1, 'GGCTAT': 1, 'GCTATA': 1, 'CTATAA': 1, 'TATAAC': 1, 'AACCTG': 1, 'ACCTGG': 1, 'CCTGGT': 1, 'CTGGTC': 1, 'GTCCTA': 1, 'TAAATT': 1, 'AAATTG': 1, 'ATTGGT': 1, 'TTGGTC': 1, 'TGGTCA': 1, 'GGTCAA': 2, 'GTCAAA': 2, 'TCAAAC': 1, 'CAAACT': 1, 'AAACTT': 1, 'AACTTA': 1, 'ACTTAG': 1, 'TTAGGA': 2, 'TAGGAT': 2, 'ATAATA': 1, 'TAATAA': 1, 'AATAAA': 1, 'ATAAAT': 1, 'GCCTCT': 1, 'CCTCTT': 2, 'CTCTTA': 2, 'TCTTAA': 1, 'TTAACG': 1, 'TAACGG': 1, 'ACGGAT': 2, 'GGATCC': 2, 'GATCCA': 1, 'ATCCAA': 1, 'TCCAAA': 1, 'CAAATA': 1, 'AAATAG': 1, 'AATAGG': 1, 'ATAGGA': 1, 'TAGGAA': 1, 'GGAACC': 3, 'GAACCC': 1, 'AACCCT': 1, 'ACCCTC': 1, 'CCCTCA': 1, 'CCTCAT': 1, 'CTCATG': 2, 'TCATGG': 3, 'ATGGAC': 1, 'TGGACC': 3, 'GGACCC': 1, 'GACCCT': 1, 'ACCCTT': 1, 'CCCTTA': 1, 'CCTTAC': 1, 'ACTGGA': 2, 'CTGGAC': 1, 'GGACCT': 2, 'GACCTA': 1, 'AACACG': 1, 'ACACGG': 2, 'ACGGTT': 1, 'TCCTCA': 1, 'CCTCAC': 2, 'CTCACA': 3, 'TCACAG': 2, 'CAGGCT': 1, 'AGGCTC': 2, 'GGCTCT': 1, 'GCTCTC': 1, 'CTCTCA': 1, 'TCTCAT': 1, 'CTCATA': 2, 'TCATAA': 2, 'CATAAG': 2, 'ATAAGG': 2, 'TAAGGA': 1, 'AAGGAT': 1, 'AGGATC': 2, 'ATCACC': 1, 'TCACCA': 1, 'CACCAC': 1, 'CCACTG': 1, 'CTGGAT': 1, 'TGGATC': 1, 'ACTCAT': 2, 'ATGGTA': 2, 'ATACCC': 1, 'TACCCT': 1, 'ACCCTA': 1, 'CCCTAG': 2, 'CCTAGG': 2, 'CTAGGT': 2, 'TAGGTC': 1, 'TCAAAT': 1, 'CAAATC': 1, 'AAATCT': 1, 'ATCTAG': 1, 'TCTAGG': 1, 'CTAGGC': 1, 'TAGGCT': 1, 'CTTATA': 1, 'TTATAT': 1, 'TATATT': 1, 'ATATTA': 1, 'TATTAG': 1, 'ATTAGG': 1, 'TAGGTA': 2, 'AGGTAA': 2, 'GGTAAC': 1, 'GTAACA': 1, 'TAACAA': 1, 'AACAAC': 1, 'ACAACC': 1, 'CAACCA': 1, 'AACCAG': 1, 'ACCAGG': 1, 'CCAGGT': 1, 'CAGGTA': 1, 'GTAATT': 1, 'TAATTC': 1, 'AATTCA': 1, 'ATTCAT': 1, 'TTCATC': 1, 'TCATCG': 1, 'CATCGG': 2, 'TCGGCC': 1, 'CGGCCC': 1, 'GGCCCT': 1, 'GCCCTA': 1, 'CCCTAA': 1, 'CTAAAC': 1, 'TAAACC': 1, 'AAACCG': 1, 'CCGGAA': 1, 'GGAATC': 2, 'GAATCA': 2, 'CATCCC': 1, 'ATCCCG': 1, 'CCCGGA': 1, 'CCGGAC': 1, 'ACCACA': 1, 'CCACAC': 1, 'CACACA': 1, 'ACACAC': 1, 'CACACG': 1, 'CACGGA': 1, 'ACGGAC': 1, 'CGGACT': 1, 'GGACTC': 1, 'GACTCA': 1, 'CATAAT': 1, 'ATAATG': 1, 'TAATGG': 1, 'ATGGCA': 1, 'TGGCAA': 1, 'GCAATT': 1, 'CAATTT': 1, 'AATTTA': 1, 'ATTTAC': 1, 'TTACCG': 1, 'TACCGG': 1, 'ACCGGT': 1, 'TCTCCA': 1, 'TCCATA': 1, 'CCATAA': 1, 'GCTCAC': 1, 'CTCACT': 1, 'TCACTA': 1, 'CACTAT': 1, 'ACTATA': 1, 'CTATAG': 1, 'TATAGG': 1, 'TAGGCC': 1, 'CTCCCA': 1, 'TCCCAT': 1, 'CCCATC': 1, 'CCATCG': 1, 'TCGGCA': 1, 'GGCATC': 1, 'GCATCT': 1, 'CATCTT': 1, 'ATCTTC': 1, 'TCTTCA': 1, 'CTTCAT': 2, 'TTCATG': 1, 'TGGAAC': 2, 'GAACCT': 2, 'AACCTC': 1, 'ACCTCT': 1, 'TCTTAG': 1, 'TAGGAC': 1, 'GGACAA': 1, 'GACAAA': 1, 'ACAAAC': 1, 'CAAACC': 1, 'AAACCC': 1, 'ACCCAG': 1, 'CCCAGG': 1, 'CAGGAC': 1, 'GGACAC': 1, 'GACACT': 1, 'ACTCAC': 1, 'CAGGTC': 1, 'AGGTCT': 1, 'GGTCTT': 1, 'GTCTTC': 1, 'TCTTCT': 1, 'CTTCTA': 1, 'TTCTAT': 1, 'TCTATT': 1, 'CTATTG': 1, 'TATTGG': 1, 'ATTGGA': 2, 'TTGGAC': 1, 'GACCTT': 1, 'ACCTTC': 1, 'CCTTCA': 1, 'TTCATT': 1, 'TCATTG': 1, 'CATTGG': 1, 'TTGGAA': 1, 'ACCTTT': 1, 'CCTTTC': 1, 'TTTCTG': 1, 'TTCTGG': 1, 'TCTGGA': 1, 'CTGGAA': 1, 'TGGAAT': 1, 'TCATAC': 1, 'CATACG': 1, 'TACGGA': 1, 'GATCAT': 1, 'TCATAT': 1, 'CATATG': 1, 'ATATGG': 1, 'TATGGT': 1, 'GGTAAA': 1, 'GTAAAC': 1, 'TAAACT': 1, 'AAACTA': 1, 'AACTAG': 1, 'ACTAGG': 1, 'CTAGGA': 1, 'GATCCC': 1, 'ATCCCT': 1, 'TCCCTA': 1, 'GTATCA': 1, 'TATCAC': 1, 'ATCACA': 1, 'TCACAA': 2, 'ACAACT': 1, 'CAACTA': 1, 'AACTAC': 1, 'CTACCT': 1, 'ACCTCA': 1, 'CACAAA': 1, 'ACAAAA': 1, 'CAAAAA': 1, 'AAAAAA': 5}\n",
      "{'CCACATC': 2, 'CACATCA': 1, 'ACATCAC': 1, 'CATCACT': 1, 'ATCACTT': 1, 'TCACTTA': 1, 'CACTTAC': 1, 'ACTTACT': 1, 'CTTACTA': 1, 'TTACTAC': 1, 'TACTACC': 1, 'ACTACCC': 1, 'CTACCCG': 1, 'TACCCGG': 2, 'ACCCGGT': 1, 'CCCGGTC': 1, 'CCGGTCT': 2, 'CGGTCTC': 3, 'GGTCTCA': 1, 'GTCTCAA': 1, 'TCTCAAT': 2, 'CTCAATG': 1, 'TCAATGG': 1, 'CAATGGC': 1, 'AATGGCC': 2, 'ATGGCCA': 1, 'TGGCCAA': 2, 'GGCCAAC': 1, 'GCCAACA': 1, 'CCAACAT': 2, 'CAACATG': 2, 'AACATGG': 2, 'ACATGGA': 2, 'CATGGAA': 2, 'ATGGAAA': 1, 'TGGAAAT': 1, 'GGAAATT': 1, 'GAAATTA': 1, 'AAATTAA': 2, 'AATTAAG': 2, 'ATTAAGG': 2, 'TTAAGGC': 1, 'TAAGGCT': 2, 'AAGGCTT': 1, 'AGGCTTA': 2, 'GGCTTAA': 1, 'GCTTAAC': 1, 'CTTAACC': 1, 'TTAACCG': 1, 'TAACCGG': 1, 'AACCGGC': 1, 'ACCGGCA': 1, 'CCGGCAT': 2, 'CGGCATT': 2, 'GGCATTC': 1, 'GCATTCA': 1, 'CATTCAA': 1, 'ATTCAAC': 1, 'TTCAACG': 1, 'TCAACGG': 1, 'CAACGGC': 2, 'AACGGCT': 1, 'ACGGCTT': 1, 'CGGCTTC': 1, 'GGCTTCC': 1, 'GCTTCCC': 1, 'CTTCCCA': 1, 'TTCCCAC': 2, 'TCCCACC': 1, 'CCCACCG': 1, 'CCACCGG': 1, 'CACCGGA': 1, 'ACCGGAT': 1, 'CCGGATC': 1, 'CGGATCT': 1, 'GGATCTT': 1, 'GATCTTA': 1, 'ATCTTAC': 1, 'TCTTACA': 1, 'CTTACAT': 1, 'TTACATG': 1, 'TACATGG': 1, 'CATGGAT': 1, 'ATGGATA': 1, 'TGGATAA': 2, 'GGATAAC': 2, 'GATAACA': 1, 'ATAACAC': 1, 'TAACACT': 1, 'AACACTC': 1, 'ACACTCG': 1, 'CACTCGG': 1, 'ACTCGGT': 1, 'CTCGGTA': 1, 'TCGGTAC': 1, 'CGGTACC': 2, 'GGTACCA': 1, 'GTACCAA': 1, 'TACCAAC': 2, 'ACCAACA': 1, 'ACATGGT': 1, 'CATGGTT': 1, 'ATGGTTT': 1, 'TGGTTTA': 1, 'GGTTTAC': 1, 'GTTTACC': 1, 'TTTACCT': 1, 'TTACCTC': 1, 'TACCTCC': 1, 'ACCTCCG': 1, 'CCTCCGG': 1, 'CTCCGGC': 1, 'TCCGGCC': 1, 'CCGGCCA': 1, 'CGGCCAC': 1, 'GGCCACT': 1, 'GCCACTC': 1, 'CCACTCC': 1, 'CACTCCT': 1, 'ACTCCTC': 1, 'CTCCTCG': 1, 'TCCTCGG': 1, 'CCTCGGA': 1, 'CTCGGAA': 1, 'TCGGAAC': 1, 'CGGAACA': 1, 'GGAACAA': 1, 'GAACAAT': 1, 'AACAATA': 1, 'ACAATAC': 1, 'CAATACA': 1, 'AATACAG': 1, 'ATACAGG': 1, 'TACAGGT': 1, 'ACAGGTT': 1, 'CAGGTTA': 1, 'AGGTTAT': 1, 'GGTTATT': 1, 'GTTATTA': 1, 'TTATTAC': 1, 'TATTACC': 1, 'ATTACCC': 1, 'TTACCCG': 1, 'ACCCGGC': 1, 'CCCGGCA': 1, 'GGCATTT': 1, 'GCATTTC': 1, 'CATTTCC': 1, 'ATTTCCT': 1, 'TTTCCTT': 1, 'TTCCTTG': 1, 'TCCTTGG': 1, 'CCTTGGT': 1, 'CTTGGTA': 1, 'TTGGTAA': 1, 'TGGTAAT': 1, 'GGTAATA': 1, 'GTAATAT': 1, 'TAATATC': 1, 'AATATCC': 1, 'ATATCCT': 1, 'TATCCTG': 1, 'ATCCTGG': 1, 'TCCTGGC': 1, 'CCTGGCT': 1, 'CTGGCTT': 1, 'TGGCTTA': 1, 'GGCTTAT': 2, 'GCTTATT': 1, 'CTTATTC': 2, 'TTATTCA': 1, 'TATTCAA': 1, 'ATTCAAG': 1, 'TTCAAGG': 1, 'TCAAGGC': 1, 'CAAGGCC': 1, 'AAGGCCT': 1, 'AGGCCTT': 1, 'GGCCTTC': 1, 'GCCTTCT': 1, 'CCTTCTC': 1, 'CTTCTCA': 1, 'TTCTCAC': 1, 'TCTCACG': 1, 'CTCACGG': 1, 'TCACGGT': 1, 'CACGGTA': 1, 'ACGGTAC': 1, 'GGTACCT': 1, 'GTACCTA': 1, 'TACCTAA': 1, 'ACCTAAA': 1, 'CCTAAAT': 2, 'CTAAATG': 1, 'TAAATGG': 2, 'AAATGGC': 2, 'AATGGCT': 1, 'ATGGCTT': 1, 'TGGCTTT': 1, 'GGCTTTA': 1, 'GCTTTAT': 1, 'CTTTATT': 1, 'TTTATTC': 1, 'TTATTCC': 1, 'TATTCCG': 1, 'ATTCCGG': 1, 'TTCCGGT': 1, 'TCCGGTT': 1, 'CCGGTTC': 1, 'CGGTTCT': 1, 'GGTTCTC': 1, 'GTTCTCA': 1, 'TTCTCAA': 1, 'CTCAATT': 1, 'TCAATTG': 1, 'CAATTGG': 1, 'AATTGGC': 1, 'ATTGGCC': 1, 'TTGGCCA': 1, 'GGCCAAT': 1, 'GCCAATT': 1, 'CCAATTC': 1, 'CAATTCC': 1, 'AATTCCA': 1, 'ATTCCAG': 1, 'TTCCAGG': 1, 'TCCAGGA': 1, 'CCAGGAA': 1, 'CAGGAAT': 1, 'AGGAATT': 1, 'GGAATTC': 1, 'GAATTCT': 1, 'AATTCTC': 1, 'ATTCTCC': 1, 'TTCTCCC': 1, 'TCTCCCG': 1, 'CTCCCGG': 1, 'TCCCGGT': 1, 'CCCGGTA': 1, 'CCGGTAA': 1, 'CGGTAAT': 1, 'GGTAATC': 1, 'GTAATCT': 1, 'TAATCTA': 1, 'AATCTAA': 1, 'ATCTAAA': 1, 'TCTAAAG': 1, 'CTAAAGG': 1, 'TAAAGGC': 1, 'AAAGGCA': 1, 'AAGGCAC': 1, 'AGGCACT': 1, 'GGCACTT': 2, 'GCACTTA': 1, 'CACTTAT': 1, 'ACTTATT': 1, 'TTATTCG': 1, 'TATTCGG': 1, 'ATTCGGT': 1, 'TTCGGTT': 1, 'TCGGTTC': 1, 'CGGTTCC': 2, 'GGTTCCT': 4, 'GTTCCTC': 2, 'TTCCTCC': 1, 'TCCTCCA': 2, 'CCTCCAT': 1, 'CTCCATG': 1, 'TCCATGG': 1, 'CCATGGT': 1, 'CATGGTC': 1, 'ATGGTCC': 1, 'TGGTCCT': 2, 'GGTCCTT': 1, 'GTCCTTT': 1, 'TCCTTTA': 1, 'CCTTTAC': 1, 'CTTTACT': 1, 'TTTACTG': 1, 'TTACTGG': 2, 'TACTGGC': 1, 'ACTGGCC': 1, 'CTGGCCT': 1, 'TGGCCTC': 2, 'GGCCTCC': 2, 'GCCTCCC': 2, 'CCTCCCC': 1, 'CTCCCCA': 1, 'TCCCCAC': 1, 'CCCCACG': 1, 'CCCACGG': 1, 'CCACGGT': 1, 'CACGGTC': 1, 'ACGGTCC': 1, 'CGGTCCA': 1, 'GGTCCAC': 1, 'GTCCACA': 1, 'TCCACAT': 1, 'CACATCT': 1, 'ACATCTG': 1, 'CATCTGG': 1, 'ATCTGGT': 1, 'TCTGGTT': 1, 'CTGGTTA': 1, 'TGGTTAC': 1, 'GGTTACT': 1, 'GTTACTT': 1, 'TTACTTA': 1, 'TACTTAT': 1, 'ACTTATC': 1, 'CTTATCG': 2, 'TTATCGG': 2, 'TATCGGC': 1, 'ATCGGCT': 1, 'TCGGCTC': 1, 'CGGCTCC': 1, 'GGCTCCT': 1, 'GCTCCTC': 1, 'CTCCTCC': 1, 'CCTCCAA': 1, 'CTCCAAG': 1, 'TCCAAGG': 1, 'CCAAGGT': 1, 'CAAGGTA': 1, 'AAGGTAT': 1, 'AGGTATC': 2, 'GGTATCT': 1, 'GTATCTT': 1, 'TATCTTA': 1, 'ATCTTAT': 1, 'TCTTATC': 1, 'TATCGGA': 1, 'ATCGGAC': 1, 'TCGGACC': 1, 'CGGACCA': 2, 'GGACCAC': 2, 'GACCACT': 1, 'ACCACTC': 1, 'CCACTCT': 1, 'CACTCTC': 1, 'ACTCTCG': 1, 'CTCTCGG': 1, 'TCTCGGT': 1, 'CTCGGTC': 1, 'TCGGTCT': 1, 'GGTCTCC': 2, 'GTCTCCC': 1, 'TCTCCCC': 1, 'CTCCCCT': 1, 'TCCCCTT': 1, 'CCCCTTG': 1, 'CCCTTGG': 1, 'CCTTGGC': 1, 'CTTGGCA': 1, 'TTGGCAC': 1, 'TGGCACA': 1, 'GGCACAA': 1, 'GCACAAC': 1, 'CACAACA': 1, 'ACAACAC': 1, 'CAACACT': 1, 'AACACTG': 1, 'ACACTGG': 1, 'CACTGGT': 1, 'ACTGGTA': 1, 'CTGGTAT': 1, 'TGGTATA': 2, 'GGTATAC': 2, 'GTATACC': 2, 'TATACCA': 1, 'ATACCAA': 1, 'ACCAACG': 1, 'CCAACGG': 2, 'AACGGCA': 1, 'ACGGCAC': 1, 'CGGCACT': 1, 'GCACTTT': 1, 'CACTTTC': 1, 'ACTTTCT': 1, 'CTTTCTC': 1, 'TTTCTCG': 1, 'TTCTCGG': 1, 'TCTCGGA': 1, 'CTCGGAT': 1, 'TCGGATC': 1, 'CGGATCA': 2, 'GGATCAC': 3, 'GATCACT': 2, 'ATCACTC': 2, 'TCACTCA': 2, 'CACTCAA': 1, 'ACTCAAG': 1, 'CTCAAGG': 1, 'TCAAGGA': 2, 'CAAGGAA': 1, 'AAGGAAC': 1, 'AGGAACA': 1, 'GGAACAT': 1, 'GAACATA': 1, 'AACATAA': 1, 'ACATAAA': 1, 'CATAAAA': 1, 'ATAAAAG': 1, 'TAAAAGG': 1, 'AAAAGGT': 1, 'AAAGGTT': 1, 'AAGGTTC': 1, 'AGGTTCC': 2, 'GGTTCCC': 1, 'GTTCCCA': 1, 'TCCCACT': 1, 'CCCACTT': 1, 'CCACTTG': 1, 'CACTTGG': 1, 'ACTTGGT': 1, 'CTTGGTT': 1, 'TTGGTTC': 1, 'TGGTTCC': 1, 'GTTCCTA': 2, 'TTCCTAA': 1, 'TCCTAAC': 1, 'CCTAACA': 2, 'CTAACAG': 1, 'TAACAGG': 1, 'AACAGGA': 1, 'ACAGGAT': 1, 'CAGGATA': 1, 'AGGATAA': 2, 'GGATAAT': 2, 'GATAATC': 1, 'ATAATCA': 1, 'TAATCAT': 1, 'AATCATA': 2, 'ATCATAG': 1, 'TCATAGG': 1, 'CATAGGC': 1, 'ATAGGCA': 1, 'TAGGCAA': 1, 'AGGCAAC': 1, 'GGCAACC': 1, 'GCAACCC': 1, 'CAACCCA': 1, 'AACCCAC': 1, 'ACCCACA': 1, 'CCCACAG': 1, 'CCACAGG': 1, 'CACAGGC': 2, 'ACAGGCC': 1, 'CAGGCCA': 1, 'AGGCCAA': 1, 'GGCCAAA': 1, 'GCCAAAT': 1, 'CCAAATT': 1, 'CAAATTA': 1, 'TTAAGGT': 1, 'TAAGGTC': 1, 'AAGGTCA': 1, 'AGGTCAC': 1, 'GGTCACC': 1, 'GTCACCC': 1, 'TCACCCA': 1, 'CACCCAA': 1, 'ACCCAAC': 1, 'CCCAACG': 1, 'CAACGGA': 1, 'AACGGAA': 1, 'ACGGAAT': 1, 'CGGAATT': 1, 'GGAATTA': 1, 'GAATTAT': 1, 'AATTATC': 1, 'ATTATCA': 1, 'TTATCAA': 1, 'TATCAAG': 1, 'ATCAAGG': 1, 'CAAGGAC': 1, 'AAGGACA': 1, 'AGGACAT': 1, 'GGACATA': 1, 'GACATAT': 1, 'ACATATC': 1, 'CATATCT': 1, 'ATATCTT': 1, 'TATCTTG': 2, 'ATCTTGG': 2, 'TCTTGGA': 1, 'CTTGGAT': 1, 'TTGGATA': 1, 'GATAACC': 1, 'ATAACCT': 2, 'TAACCTT': 1, 'AACCTTA': 1, 'ACCTTAG': 1, 'CCTTAGG': 1, 'CTTAGGT': 1, 'TTAGGTT': 1, 'TAGGTTC': 1, 'TTCCTAT': 1, 'TCCTATA': 1, 'CCTATAC': 1, 'CTATACG': 1, 'TATACGG': 1, 'ATACGGC': 1, 'TACGGCC': 1, 'ACGGCCT': 1, 'CGGCCTT': 1, 'GGCCTTA': 1, 'GCCTTAT': 1, 'CCTTATC': 1, 'CTTATCT': 1, 'TTATCTT': 1, 'TCTTGGC': 1, 'CTTGGCT': 1, 'TTGGCTC': 1, 'TGGCTCA': 1, 'GGCTCAT': 1, 'GCTCATC': 1, 'CTCATCT': 1, 'TCATCTC': 1, 'CATCTCT': 1, 'ATCTCTG': 1, 'TCTCTGG': 1, 'CTCTGGC': 1, 'TCTGGCA': 1, 'CTGGCAT': 1, 'TGGCATA': 1, 'GGCATAC': 1, 'GCATACT': 1, 'CATACTC': 1, 'ATACTCC': 1, 'TACTCCA': 1, 'ACTCCAG': 1, 'CTCCAGG': 1, 'TCCAGGC': 1, 'CCAGGCA': 1, 'CAGGCAA': 1, 'AGGCAAT': 1, 'GGCAATC': 1, 'GCAATCA': 1, 'CAATCAT': 1, 'AATCATC': 2, 'ATCATCC': 2, 'TCATCCG': 1, 'CATCCGG': 1, 'ATCCGGC': 1, 'TCCGGCT': 1, 'CCGGCTA': 1, 'CGGCTAT': 1, 'GGCTATA': 1, 'GCTATAA': 1, 'CTATAAC': 1, 'TATAACC': 1, 'TAACCTG': 1, 'AACCTGG': 1, 'ACCTGGT': 1, 'CCTGGTC': 1, 'CTGGTCC': 1, 'GGTCCTA': 1, 'GTCCTAA': 1, 'TCCTAAA': 1, 'CTAAATT': 1, 'TAAATTG': 1, 'AAATTGG': 1, 'AATTGGT': 1, 'ATTGGTC': 1, 'TTGGTCA': 1, 'TGGTCAA': 1, 'GGTCAAA': 2, 'GTCAAAC': 1, 'TCAAACT': 1, 'CAAACTT': 1, 'AAACTTA': 1, 'AACTTAG': 1, 'ACTTAGG': 1, 'CTTAGGA': 2, 'TTAGGAT': 1, 'TAGGATA': 1, 'GATAATA': 1, 'ATAATAA': 1, 'TAATAAA': 1, 'AATAAAT': 1, 'ATAAATG': 1, 'ATGGCCT': 1, 'GGCCTCT': 1, 'GCCTCTT': 1, 'CCTCTTA': 2, 'CTCTTAA': 1, 'TCTTAAC': 1, 'CTTAACG': 1, 'TTAACGG': 1, 'TAACGGA': 1, 'AACGGAT': 1, 'ACGGATC': 2, 'CGGATCC': 1, 'GGATCCA': 1, 'GATCCAA': 1, 'ATCCAAA': 1, 'TCCAAAT': 1, 'CCAAATA': 1, 'CAAATAG': 1, 'AAATAGG': 1, 'AATAGGA': 1, 'ATAGGAA': 1, 'TAGGAAC': 1, 'AGGAACC': 1, 'GGAACCC': 1, 'GAACCCT': 1, 'AACCCTC': 1, 'ACCCTCA': 1, 'CCCTCAT': 1, 'CCTCATG': 1, 'CTCATGG': 2, 'TCATGGA': 2, 'CATGGAC': 1, 'ATGGACC': 1, 'TGGACCC': 1, 'GGACCCT': 1, 'GACCCTT': 1, 'ACCCTTA': 1, 'CCCTTAC': 1, 'CCTTACT': 1, 'CTTACTG': 1, 'TACTGGA': 1, 'ACTGGAC': 1, 'CTGGACC': 1, 'TGGACCT': 2, 'GGACCTA': 1, 'GACCTAA': 1, 'ACCTAAC': 1, 'CTAACAC': 1, 'TAACACG': 1, 'AACACGG': 1, 'ACACGGT': 1, 'CACGGTT': 1, 'ACGGTTC': 1, 'TTCCTCA': 1, 'TCCTCAC': 1, 'CCTCACA': 2, 'CTCACAG': 2, 'TCACAGG': 2, 'ACAGGCT': 1, 'CAGGCTC': 1, 'AGGCTCT': 1, 'GGCTCTC': 1, 'GCTCTCA': 1, 'CTCTCAT': 1, 'TCTCATA': 1, 'CTCATAA': 2, 'TCATAAG': 1, 'CATAAGG': 2, 'ATAAGGA': 1, 'TAAGGAT': 1, 'AAGGATC': 1, 'AGGATCA': 1, 'GATCACC': 1, 'ATCACCA': 1, 'TCACCAC': 1, 'CACCACT': 1, 'ACCACTG': 1, 'CCACTGG': 1, 'CACTGGA': 1, 'ACTGGAT': 1, 'CTGGATC': 1, 'TGGATCA': 1, 'CACTCAT': 1, 'ACTCATG': 1, 'TCATGGT': 1, 'CATGGTA': 1, 'ATGGTAT': 1, 'TATACCC': 1, 'ATACCCT': 1, 'TACCCTA': 1, 'ACCCTAG': 1, 'CCCTAGG': 2, 'CCTAGGT': 2, 'CTAGGTC': 1, 'TAGGTCA': 1, 'AGGTCAA': 1, 'GTCAAAT': 1, 'TCAAATC': 1, 'CAAATCT': 1, 'AAATCTA': 1, 'AATCTAG': 1, 'ATCTAGG': 1, 'TCTAGGC': 1, 'CTAGGCT': 1, 'TAGGCTT': 1, 'GCTTATA': 1, 'CTTATAT': 1, 'TTATATT': 1, 'TATATTA': 1, 'ATATTAG': 1, 'TATTAGG': 1, 'ATTAGGT': 1, 'TTAGGTA': 1, 'TAGGTAA': 1, 'AGGTAAC': 1, 'GGTAACA': 1, 'GTAACAA': 1, 'TAACAAC': 1, 'AACAACC': 1, 'ACAACCA': 1, 'CAACCAG': 1, 'AACCAGG': 1, 'ACCAGGT': 1, 'CCAGGTA': 1, 'CAGGTAA': 1, 'AGGTAAT': 1, 'GGTAATT': 1, 'GTAATTC': 1, 'TAATTCA': 1, 'AATTCAT': 1, 'ATTCATC': 1, 'TTCATCG': 1, 'TCATCGG': 1, 'CATCGGC': 2, 'ATCGGCC': 1, 'TCGGCCC': 1, 'CGGCCCT': 1, 'GGCCCTA': 1, 'GCCCTAA': 1, 'CCCTAAA': 1, 'CCTAAAC': 1, 'CTAAACC': 1, 'TAAACCG': 1, 'AAACCGG': 1, 'AACCGGA': 1, 'ACCGGAA': 1, 'CCGGAAT': 1, 'CGGAATC': 1, 'GGAATCA': 2, 'GAATCAT': 2, 'TCATCCC': 1, 'CATCCCG': 1, 'ATCCCGG': 1, 'TCCCGGA': 1, 'CCCGGAC': 1, 'CCGGACC': 1, 'GACCACA': 1, 'ACCACAC': 1, 'CCACACA': 1, 'CACACAC': 1, 'ACACACG': 1, 'CACACGG': 1, 'ACACGGA': 1, 'CACGGAC': 1, 'ACGGACT': 1, 'CGGACTC': 1, 'GGACTCA': 1, 'GACTCAT': 1, 'ACTCATA': 1, 'TCATAAT': 1, 'CATAATG': 1, 'ATAATGG': 1, 'TAATGGC': 1, 'AATGGCA': 1, 'ATGGCAA': 1, 'TGGCAAT': 1, 'GGCAATT': 1, 'GCAATTT': 1, 'CAATTTA': 1, 'AATTTAC': 1, 'ATTTACC': 1, 'TTTACCG': 1, 'TTACCGG': 1, 'TACCGGT': 1, 'ACCGGTC': 1, 'GTCTCCA': 1, 'TCTCCAT': 1, 'CTCCATA': 1, 'TCCATAA': 1, 'CCATAAG': 1, 'ATAAGGC': 1, 'AAGGCTC': 1, 'AGGCTCA': 1, 'GGCTCAC': 1, 'GCTCACT': 1, 'CTCACTA': 1, 'TCACTAT': 1, 'CACTATA': 1, 'ACTATAG': 1, 'CTATAGG': 1, 'TATAGGC': 1, 'ATAGGCC': 1, 'TAGGCCT': 1, 'AGGCCTC': 1, 'CCTCCCA': 1, 'CTCCCAT': 1, 'TCCCATC': 1, 'CCCATCG': 1, 'CCATCGG': 1, 'ATCGGCA': 1, 'TCGGCAT': 1, 'CGGCATC': 1, 'GGCATCT': 1, 'GCATCTT': 1, 'CATCTTC': 1, 'ATCTTCA': 1, 'TCTTCAT': 1, 'CTTCATG': 1, 'TTCATGG': 1, 'ATGGAAC': 1, 'TGGAACC': 2, 'GGAACCT': 2, 'GAACCTC': 1, 'AACCTCT': 1, 'ACCTCTT': 1, 'CTCTTAG': 1, 'TCTTAGG': 1, 'TTAGGAC': 1, 'TAGGACA': 1, 'AGGACAA': 1, 'GGACAAA': 1, 'GACAAAC': 1, 'ACAAACC': 1, 'CAAACCC': 1, 'AAACCCA': 1, 'AACCCAG': 1, 'ACCCAGG': 1, 'CCCAGGA': 1, 'CCAGGAC': 1, 'CAGGACA': 1, 'AGGACAC': 1, 'GGACACT': 1, 'GACACTC': 1, 'ACACTCA': 1, 'CACTCAC': 1, 'ACTCACA': 1, 'CACAGGT': 1, 'ACAGGTC': 1, 'CAGGTCT': 1, 'AGGTCTT': 1, 'GGTCTTC': 1, 'GTCTTCT': 1, 'TCTTCTA': 1, 'CTTCTAT': 1, 'TTCTATT': 1, 'TCTATTG': 1, 'CTATTGG': 1, 'TATTGGA': 1, 'ATTGGAC': 1, 'TTGGACC': 1, 'GGACCTT': 1, 'GACCTTC': 1, 'ACCTTCA': 1, 'CCTTCAT': 1, 'CTTCATT': 1, 'TTCATTG': 1, 'TCATTGG': 1, 'CATTGGA': 1, 'ATTGGAA': 1, 'TTGGAAC': 1, 'GAACCTT': 1, 'AACCTTT': 1, 'ACCTTTC': 1, 'CCTTTCT': 1, 'CTTTCTG': 1, 'TTTCTGG': 1, 'TTCTGGA': 1, 'TCTGGAA': 1, 'CTGGAAT': 1, 'TGGAATC': 1, 'ATCATAC': 1, 'TCATACG': 1, 'CATACGG': 1, 'ATACGGA': 1, 'TACGGAT': 1, 'GGATCAT': 1, 'GATCATA': 1, 'ATCATAT': 1, 'TCATATG': 1, 'CATATGG': 1, 'ATATGGT': 1, 'TATGGTA': 1, 'ATGGTAA': 1, 'TGGTAAA': 1, 'GGTAAAC': 1, 'GTAAACT': 1, 'TAAACTA': 1, 'AAACTAG': 1, 'AACTAGG': 1, 'ACTAGGA': 1, 'CTAGGAT': 1, 'TAGGATC': 1, 'AGGATCC': 1, 'GGATCCC': 1, 'GATCCCT': 1, 'ATCCCTA': 1, 'TCCCTAG': 1, 'CTAGGTA': 1, 'TAGGTAT': 1, 'GGTATCA': 1, 'GTATCAC': 1, 'TATCACA': 1, 'ATCACAA': 1, 'TCACAAC': 1, 'CACAACT': 1, 'ACAACTA': 1, 'CAACTAC': 1, 'AACTACC': 1, 'ACTACCT': 1, 'CTACCTC': 1, 'TACCTCA': 1, 'ACCTCAC': 1, 'CTCACAA': 1, 'TCACAAA': 1, 'CACAAAA': 1, 'ACAAAAA': 1, 'CAAAAAA': 1, 'AAAAAAA': 4}\n"
     ]
    }
   ],
   "source": [
    "str_3 = 'CCACATCACTTACTACCCGGTCTCAATGGCCAACATGGAAATTAAGGCTTAACCGGCATTCAACGGCTTCCCACCGGATCTTACATGGATAACACTCGGTACCAACATGGTTTACCTCCGGCCACTCCTCGGAACAATACAGGTTATTACCCGGCATTTCCTTGGTAATATCCTGGCTTATTCAAGGCCTTCTCACGGTACCTAAATGGCTTTATTCCGGTTCTCAATTGGCCAATTCCAGGAATTCTCCCGGTAATCTAAAGGCACTTATTCGGTTCCTCCATGGTCCTTTACTGGCCTCCCCACGGTCCACATCTGGTTACTTATCGGCTCCTCCAAGGTATCTTATCGGACCACTCTCGGTCTCCCCTTGGCACAACACTGGTATACCAACGGCACTTTCTCGGATCACTCAAGGAACATAAAAGGTTCCCACTTGGTTCCTAACAGGATAATCATAGGCAACCCACAGGCCAAATTAAGGTCACCCAACGGAATTATCAAGGACATATCTTGGATAACCTTAGGTTCCTATACGGCCTTATCTTGGCTCATCTCTGGCATACTCCAGGCAATCATCCGGCTATAACCTGGTCCTAAATTGGTCAAACTTAGGATAATAAATGGCCTCTTAACGGATCCAAATAGGAACCCTCATGGACCCTTACTGGACCTAACACGGTTCCTCACAGGCTCTCATAAGGATCACCACTGGATCACTCATGGTATACCCTAGGTCAAATCTAGGCTTATATTAGGTAACAACCAGGTAATTCATCGGCCCTAAACCGGAATCATCCCGGACCACACACGGACTCATAATGGCAATTTACCGGTCTCCATAAGGCTCACTATAGGCCTCCCATCGGCATCTTCATGGAACCTCTTAGGACAAACCCAGGACACTCACAGGTCTTCTATTGGACCTTCATTGGAACCTTTCTGGAATCATACGGATCATATGGTAAACTAGGATCCCTAGGTATCACAACTACCTCACAAAAAAAAAA'\n",
    "def count_motif(n):\n",
    "    result = {}\n",
    "    for i in range(len(str_3)-n+1):\n",
    "        try:\n",
    "            result[str_3[i:i+n]] += 1\n",
    "        except:\n",
    "            result[str_3[i:i+n]] = 1\n",
    "    return result\n",
    "\n",
    "print(count_motif(3))\n",
    "print(count_motif(4))\n",
    "print(count_motif(5))\n",
    "print(count_motif(6))\n",
    "print(count_motif(7))"
   ]
  },
  {
   "cell_type": "markdown",
   "id": "7e9b9ade",
   "metadata": {},
   "source": [
    "# 4.\t 定义不定长参数的函数，实现最小值，最大值，中位数，平均值和方差计算"
   ]
  },
  {
   "cell_type": "code",
   "execution_count": 16,
   "id": "0310563a",
   "metadata": {},
   "outputs": [
    {
     "name": "stdout",
     "output_type": "stream",
     "text": [
      "请输入一串数字12,13,14,15\n",
      "[12, 13, 14, 15]\n",
      "输入数据： [12, 13, 14, 15]\n",
      "和为： 54 平均值 13.5 最大值 15 最小值 12 中位数 13.5 方差 1.25\n"
     ]
    }
   ],
   "source": [
    "def numFun(*numbers):\n",
    "    \n",
    "    firstList = numbers[0]\n",
    "   \n",
    "    sumnum = sum(firstList)\n",
    "    maxnum = max(firstList)\n",
    "    minnum = min(firstList)\n",
    "    avernum = sum(firstList)/len(firstList)\n",
    "    import numpy as np \n",
    "    medinum = np.median(firstList)\n",
    "    varnum = np.var(firstList)\n",
    "   \n",
    "    print(\"输入数据：\", firstList)\n",
    "    print('和为：', sumnum, '平均值', avernum, '最大值', maxnum, '最小值', minnum ,'中位数',medinum,'方差', varnum)\n",
    "\n",
    "\n",
    "\n",
    "numbers = input(\"请输入一串数字\")\n",
    "numbers = numbers.split(',')\n",
    "for x in range(len(numbers)):\n",
    "    numbers[x] = int(numbers[x])\n",
    "print(numbers)\n",
    "\n",
    "numFun(numbers)\n"
   ]
  },
  {
   "cell_type": "markdown",
   "id": "08caff32",
   "metadata": {},
   "source": [
    "# 5.\t 定义不定长参数，实现关键词传递，记录个人信息，包括姓名，学号， 专业， 爱好，等参数\n",
    "\n",
    "\n"
   ]
  },
  {
   "cell_type": "code",
   "execution_count": 42,
   "id": "9556ef2f",
   "metadata": {},
   "outputs": [
    {
     "name": "stdout",
     "output_type": "stream",
     "text": [
      "姓名: hhx 学号: U110 专业: math 爱好: money\tgame\tgame\tgame\tgame\tgame\tgame\tgame\t\n"
     ]
    }
   ],
   "source": [
    "def func(name,SID,major,*hoby):\n",
    "    hobys = ''\n",
    "    for i in hoby:\n",
    "        hobys += i + '\\t'\n",
    "    print(\"姓名:\",name,\"学号:\",SID,\"专业:\",major,\"爱好:\",hobys)\n",
    "\n",
    "func('hhx','U110','math','money','game','game','game','game','game','game','game')\n"
   ]
  },
  {
   "cell_type": "markdown",
   "id": "48fdc43c",
   "metadata": {},
   "source": [
    "# 6.\t定义函数查找字符串中最长的回文（1）\t对两个已排序的数据集，定义函数实现合并这两个数据集并进行排序(2）\t求合并数据集的中位数#\n"
   ]
  },
  {
   "cell_type": "markdown",
   "id": "3ce4bb56",
   "metadata": {},
   "source": [
    "**1,定义函数查找字符串中最长的回文**"
   ]
  },
  {
   "cell_type": "code",
   "execution_count": 1,
   "id": "3f1ed4d7",
   "metadata": {},
   "outputs": [
    {
     "name": "stdout",
     "output_type": "stream",
     "text": [
      "qweewq 6\n"
     ]
    }
   ],
   "source": [
    "class Solution:\n",
    "    def expandAroundCenter(self, s, left, right):\n",
    "        while left >= 0 and right < len(s) and s[left] == s[right]:\n",
    "            left -= 1\n",
    "            right += 1\n",
    "        return left + 1, right - 1\n",
    "\n",
    "    def longestPalindrome(self, s):\n",
    "        start, end = 0, 0\n",
    "        for i in range(len(s)):\n",
    "            left1, right1 = self.expandAroundCenter(s, i, i)\n",
    "            left2, right2 = self.expandAroundCenter(s, i, i + 1)\n",
    "            if right1 - left1 > end - start:\n",
    "                start, end = left1, right1\n",
    "            if right2 - left2 > end - start:\n",
    "                start, end = left2, right2\n",
    "        return s[start: end + 1]\n",
    "\n",
    "str=\"qweewquikhgipiuyttur\"\n",
    "a=Solution()\n",
    "b=a.longestPalindrome(str)\n",
    "print(b,len(b))\n"
   ]
  },
  {
   "cell_type": "markdown",
   "id": "588c9cde",
   "metadata": {},
   "source": [
    "**（1） 对两个已排序的数据集，定义函数实现合并这两个数据集并进行排序**"
   ]
  },
  {
   "cell_type": "code",
   "execution_count": 3,
   "id": "21008d76",
   "metadata": {},
   "outputs": [
    {
     "name": "stdout",
     "output_type": "stream",
     "text": [
      "[91, 95, 97, 99, 92, 93, 96, 98]\n",
      "[91, 92, 93, 95, 96, 97, 98, 99]\n"
     ]
    }
   ],
   "source": [
    "\n",
    "\n",
    "list1 =  [91, 95, 97, 99]  \n",
    "list2 =  [92, 93, 96, 98]\n",
    "list3 =list1\n",
    "list3.extend(list2)\n",
    "print(list3)\n",
    "list3= [91, 95, 97, 99, 92, 93, 96, 98]\n",
    "list3.sort()\n",
    "print(list3)\n"
   ]
  },
  {
   "cell_type": "markdown",
   "id": "36e36ad6",
   "metadata": {},
   "source": [
    "**（2）求合并数据集的中位数**\n"
   ]
  },
  {
   "cell_type": "code",
   "execution_count": 15,
   "id": "b59af266",
   "metadata": {},
   "outputs": [
    {
     "name": "stdout",
     "output_type": "stream",
     "text": [
      "95.5\n"
     ]
    }
   ],
   "source": [
    "list3= [91, 95, 97, 99, 92, 93, 96, 98]\n",
    "import numpy as np \n",
    "medinum = np.median(list3)\n",
    "print(medinum)"
   ]
  },
  {
   "cell_type": "markdown",
   "id": "25e5b878",
   "metadata": {},
   "source": [
    "# 7.\t对于二次函数，实现最速下降法和共轭梯度法，举例说明共轭梯度法有限次终止性；\n"
   ]
  },
  {
   "cell_type": "code",
   "execution_count": 25,
   "id": "037252e7",
   "metadata": {},
   "outputs": [
    {
     "name": "stdout",
     "output_type": "stream",
     "text": [
      "[[ 4.         -2.        ]\n",
      " [ 6.76190476 -8.9047619 ]\n",
      " [ 2.         -7.        ]]\n",
      "[[ 4.0000000e+00 -2.0000000e+00]\n",
      " [ 3.9960000e+00 -1.9900000e+00]\n",
      " [ 3.9920080e+00 -1.9799800e+00]\n",
      " ...\n",
      " [ 2.0016704e+00  1.7050071e+10]\n",
      " [ 2.0016704e+00  1.7115607e+10]\n",
      " [ 2.0016704e+00  1.7181143e+10]]\n"
     ]
    }
   ],
   "source": [
    "import numpy as np\n",
    "import matplotlib.pyplot as plt\n",
    "def testFun(x, y):\n",
    "    t =x-2\n",
    "    u =y+7\n",
    "    z = np.power(t, 2) - np.power(u, 2)\n",
    "    return z\n",
    "\n",
    "\n",
    "def gradTestFun(x, y):\n",
    "    '''\n",
    "    求函数的梯度\n",
    "    '''\n",
    "    delta_x = 1e-6      #x方向差分小量\n",
    "    delta_y = 1e-6      #y方向差分小量\n",
    "    grad_x = (testFun(x+delta_x, y)-testFun(x-delta_x, y))/(2.0*delta_x)\n",
    "    grad_y = (testFun(x, y+delta_y)-testFun(x, y-delta_y))/(2.0*delta_y)\n",
    "    grad_xy = np.array([grad_x, grad_y])\n",
    "    return grad_xy\n",
    "\n",
    "def getStepLengthByNewton(array_xy, array_d):\n",
    "    '''\n",
    "    采用牛顿法，精确线性搜索确定移动步长\n",
    "    '''\n",
    "    a0 = 1.0           #初始猜测值\n",
    "    e0 = 1e-6          #退出搜索循环的条件\n",
    "    delta_a = 1e-6     #对a作差分的小量\n",
    "    while(1):\n",
    "        new_a = array_xy + a0*array_d\n",
    "        new_a_l = array_xy + (a0-delta_a)*array_d\n",
    "        new_a_h = array_xy + (a0+delta_a)*array_d\n",
    "        diff_a0 = (testFun(new_a_h[0], new_a_h[1]) - testFun(new_a_l[0], new_a_l[1]))/(2.0*delta_a)\n",
    "        if np.abs(diff_a0) < e0:\n",
    "            break\n",
    "        ddiff_a0 = (testFun(new_a_h[0], new_a_h[1]) + testFun(new_a_l[0], new_a_l[1]) - 2.0*testFun(new_a[0], new_a[1]))/(delta_a*delta_a)\n",
    "        a0 = a0 - diff_a0/ddiff_a0\n",
    "    return a0\n",
    "\n",
    "\n",
    "\n",
    "def mainFRCG():\n",
    "    '''\n",
    "    使用CG算法优化，用FR公式计算组合系数\n",
    "    '''\n",
    "    ls_xy_history = []                           #存储初始坐标的迭代结果\n",
    "    xy0 = np.array([4.0, -2.0])                   #初始点\n",
    "    grad_xy = gradTestFun(xy0[0], xy0[1])\n",
    "    d = -1.0*grad_xy                             #初始搜索方向\n",
    "    e0 = 1e-6                                    #迭代退出条件\n",
    "    xy = xy0\n",
    "    while(1):\n",
    "        ls_xy_history.append(xy)\n",
    "        grad_xy = gradTestFun(xy[0], xy[1])\n",
    "        tag_reach = np.abs(grad_xy) < e0\n",
    "        if tag_reach.all():\n",
    "            break\n",
    "        step_length = getStepLengthByNewton(xy, d)\n",
    "        xy_new = xy + step_length*d\n",
    "        grad_xy_new = gradTestFun(xy_new[0], xy_new[1])\n",
    "        b = np.dot(grad_xy_new, grad_xy_new)/np.dot(grad_xy, grad_xy)       #根据FR公式计算组合系数\n",
    "        d = b*d - grad_xy_new\n",
    "        xy = xy_new\n",
    "    array_xy_history = np.array(ls_xy_history)\n",
    "\n",
    "    return array_xy_history\n",
    "\n",
    "def mainGD():\n",
    "    '''\n",
    "    使用梯度下降法计优化函数\n",
    "    '''\n",
    "    ls_xy_history = []\n",
    "    xy0 = np.array([4.0, -2.0])\n",
    "    ls_xy_history.append(xy0)\n",
    "    grad_xy = gradTestFun(xy0[0], xy0[1])\n",
    "    alpha = 1e-3      \n",
    "    e0 = 1e-3\n",
    "    xy = xy0\n",
    "    while(1):\n",
    "        tag_reach = np.abs(grad_xy)<e0\n",
    "        if tag_reach.all():\n",
    "            break\n",
    "        xy = xy - alpha*grad_xy\n",
    "        grad_xy = gradTestFun(xy[0], xy[1])\n",
    "        ls_xy_history.append(xy)\n",
    "    array_xy_history = np.array(ls_xy_history)\n",
    "\n",
    "    return array_xy_history\n",
    "\n",
    "\n",
    "print(mainFRCG())\n",
    "print(mainGD())"
   ]
  }
 ],
 "metadata": {
  "kernelspec": {
   "display_name": "Python 3 (ipykernel)",
   "language": "python",
   "name": "python3"
  },
  "language_info": {
   "codemirror_mode": {
    "name": "ipython",
    "version": 3
   },
   "file_extension": ".py",
   "mimetype": "text/x-python",
   "name": "python",
   "nbconvert_exporter": "python",
   "pygments_lexer": "ipython3",
   "version": "3.9.7"
  }
 },
 "nbformat": 4,
 "nbformat_minor": 5
}
