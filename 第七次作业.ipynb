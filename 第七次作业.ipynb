{
 "cells": [
  {
   "cell_type": "markdown",
   "id": "a286dd55",
   "metadata": {},
   "source": [
    "# 1.打开某网站，分别完成requests中的七个方法的操作"
   ]
  },
  {
   "cell_type": "markdown",
   "id": "170e0aff",
   "metadata": {},
   "source": [
    "在此选取的网站为百度：www.baidu.com"
   ]
  },
  {
   "cell_type": "code",
   "execution_count": 28,
   "id": "0262f885",
   "metadata": {},
   "outputs": [],
   "source": [
    "# 首先导入requests模块\n",
    "\n",
    "import requests"
   ]
  },
  {
   "cell_type": "markdown",
   "id": "7a705ac3",
   "metadata": {},
   "source": [
    "以下的r_1到r_7对应了七种方法返回的结果"
   ]
  },
  {
   "cell_type": "code",
   "execution_count": 29,
   "id": "28ca40fe",
   "metadata": {},
   "outputs": [
    {
     "name": "stdout",
     "output_type": "stream",
     "text": [
      "200\n"
     ]
    }
   ],
   "source": [
    "# request方法\n",
    "\n",
    "url =' http://www.baidu.com'\n",
    "r_1 = requests.request(method = 'get',url = url)\n",
    "print(r_1.status_code)"
   ]
  },
  {
   "cell_type": "code",
   "execution_count": 30,
   "id": "b823b2b9",
   "metadata": {},
   "outputs": [
    {
     "name": "stdout",
     "output_type": "stream",
     "text": [
      "200\n"
     ]
    }
   ],
   "source": [
    "# get方法\n",
    "\n",
    "url =' http://www.baidu.com'\n",
    "r_2 = requests.get(url = url)\n",
    "print(r_2.status_code)"
   ]
  },
  {
   "cell_type": "code",
   "execution_count": 31,
   "id": "59337b15",
   "metadata": {},
   "outputs": [
    {
     "name": "stdout",
     "output_type": "stream",
     "text": [
      "{'Cache-Control': 'private, no-cache, no-store, proxy-revalidate, no-transform', 'Connection': 'keep-alive', 'Content-Encoding': 'gzip', 'Content-Type': 'text/html', 'Date': 'Sun, 11 Sep 2022 02:22:13 GMT', 'Last-Modified': 'Mon, 13 Jun 2016 02:50:08 GMT', 'Pragma': 'no-cache', 'Server': 'bfe/1.0.8.18'}\n"
     ]
    }
   ],
   "source": [
    "# head方法\n",
    "\n",
    "r_3 = requests.head(url = url)\n",
    "print(r_3.headers)"
   ]
  },
  {
   "cell_type": "code",
   "execution_count": 33,
   "id": "d896458b",
   "metadata": {},
   "outputs": [
    {
     "name": "stdout",
     "output_type": "stream",
     "text": [
      "302\n"
     ]
    }
   ],
   "source": [
    "# POST方法\n",
    "\n",
    "\n",
    "\n",
    "r_4 = requests.post(url = url)\n",
    "print(r_4.status_code)"
   ]
  },
  {
   "cell_type": "code",
   "execution_count": 34,
   "id": "9bb5df6d",
   "metadata": {},
   "outputs": [
    {
     "name": "stdout",
     "output_type": "stream",
     "text": [
      "PUT\n"
     ]
    }
   ],
   "source": [
    "# PUT方法\n",
    "\n",
    "r_5 = requests.put(url = url)\n",
    "print(r_5.request.method)\n"
   ]
  },
  {
   "cell_type": "code",
   "execution_count": 35,
   "id": "2698c76e",
   "metadata": {},
   "outputs": [
    {
     "name": "stdout",
     "output_type": "stream",
     "text": [
      "<html>\r\n",
      "<head>\r\n",
      "<meta http-equiv=\"content-type\" content=\"text/html;charset=utf-8\">\r\n",
      "<style data-for=\"result\" id=\"css_result\">\r\n",
      "body{color:#333;background:#fff;padding:6px 0 0;margin:0;position:relative;min-width:900px}body,th,td,.p1,.p2{font-family:arial}p,form,ol,ul,li,dl,dt,dd,h3{margin:0;padding:0;list-style:none}input{padding-top:0;padding-bottom:0;-moz-box-sizing:border-box;-webkit-box-sizing:border-box;box-sizing:border-box}table,img{border:0}td{font-size:9pt;line-height:18px}\r\n",
      "\r\n",
      "\r\n",
      "\r\n",
      "#foot{font-size:12px}.logo{width:117px;height:38px;cursor:pointer}\r\n",
      "\r\n",
      "#u,#head,#tool,#search,.p1{line-height:120%;margin-left:-12pt}.p2{width:100%;line-height:120%;margin-left:-12pt}#wrapper{_zoom:1}#container{word-break:break-all;word-wrap:break-word}.container_s{width:1002px}.container_l{width:1222px}#content_left{width:636px;float:left;padding-left:35px}#content_right{border-left:1px solid #e1e1e1;float:right}.container_s #content_right{width:271px}.container_l #content_right{width:434px}.content_none{padding-left:35px}#u{color:#999;white-space:nowrap;position:absolute;right:10px;top:4px;z-index:299}#u a{color:#00c;margin:0 5px}#u .reg{margin:0}#u .last{margin-right:0}#u .un{font-weight:bold;margin-right:5px}#u ul{width:100%;background:#fff;border:1px solid #9b9b9b}#u li{height:25px}#u li a{width:100%;height:25px;line-height:25px;display:block;text-align:left;text-decoration:none;text-indent:6px;margin:0;filter:none\\9}#u li a:hover{background:#ebebeb}#u li.nl{border-top:1px solid #ebebeb}#user{position:relative;display:inline-block}#user_center{position:relative;display:inline-block}#user_center .user_center_btn{margin-right:5px}.userMenu{width:64px;position:absolute;right:7px;_right:2px;top:15px;top:14px\\9;*top:15px;padding-top:4px;display:none;*background:#fff}#head{padding-left:35px;margin-bottom:20px;width:900px}\r\n",
      "\r\n",
      ".fm{clear:both;position:relative;z-index:297}.nv a,.nv b,.btn,#page,#more{font-size:14px}\r\n",
      "\r\n",
      ".s_nav{height:45px}.s_nav .s_logo{margin-right:20px;float:left}.s_nav .s_logo img{border:0;display:block}.s_tab{line-height:18px;padding:20px 0 0;float:left}.s_nav a{color:#00c;font-size:14px}.s_nav b{font-size:14px}.s_ipt_wr{width:536px;height:30px;display:inline-block;margin-right:5px;background-position:0 -96px;border:1px solid #b6b6b6;border-color:#7b7b7b #b6b6b6 #b6b6b6 #7b7b7b;vertical-align:top}.s_ipt{width:523px;height:22px;font:16px/22px arial;margin:5px 0 0 7px;padding:0;background:#fff;border:0;outline:0;-webkit-appearance:none}.s_btn{width:95px;height:32px;padding-top:2px\\9;font-size:14px;padding:0;background-color:#ddd;background-position:0 -48px;border:0;cursor:pointer}.s_btn_h{background-position:-240px -48px}.s_btn_wr{width:97px;height:34px;display:inline-block;background-position:-120px -48px;*position:relative;z-index:0;vertical-align:top}.sethf{padding:0;margin:0;font-size:14px}.set_h{display:none;behavior:url(#default#homepage)}.set_f{display:none}.shouji{margin-left:19px}.shouji a{text-decoration:none}.bdsug{position:absolute;width:536px;background:#fff;display:none;border:1px solid #817f82}\r\n",
      "\r\n",
      "\r\n",
      "#page{font:14px arial;white-space:nowrap;padding-left:35px}#page a,#page strong{display:inline-block;vertical-align:text-bottom;height:66px;text-align:center;line-height:34px;text-decoration:none;overflow:hidden;margin-right:9px;background:white}#page a{cursor:pointer}#page a:hover{background:0}#page .n:hover,#page a:hover .pc{background:#f2f8ff;border:1px solid #38f}#page .n{height:34px;padding:0 18px;border:1px solid #e1e2e3}#page span{display:block}#page .pc{width:34px;height:34px;border:1px solid #e1e2e3;cursor:pointer}#page .fk{width:24px;height:24px;margin-bottom:6px;margin-left:6px;cursor:pointer}#page strong .fk,#page strong .pc{cursor:auto}#page .fk .c-icon-bear-pn{top:-3px;position:relative}#page .fkd .c-icon-bear-pn{top:3px;position:relative}#page .fk_cur .c-icon-bear-p{top:-2px;position:relative}#page strong .pc{border:0;width:36px;height:36px;line-height:36px}#page .nums{display:inline-block;vertical-align:text-bottom;height:36px;line-height:36px;margin-left:10px}#rs{width:900px;background:#fff;padding:8px 0;margin:20px 0 0 15px}#rs td{width:5%}#rs th{font-size:14px;font-weight:normal;line-height:19px;white-space:nowrap;text-align:left;vertical-align:top}#rs .tt{font-weight:bold;padding:0 10px 0 20px}#rs_top{font-size:14px;margin-bottom:22px}#rs_top a{margin-right:18px}#search{width:900px;padding:35px 0 16px 35px}#search .s_help{position:relative;top:10px}\r\n",
      "\r\n",
      "#foot{height:20px;line-height:20px;color:#77c;background:#e6e6e6;text-align:center}#foot span{color:#666}\r\n",
      "\r\n",
      ".to_zhidao,.to_tieba,.to_zhidao_bottom{font-size:16px;line-height:24px;margin:20px 0 0 35px}.to_tieba .c-icon-tieba{float:left}.f{line-height:115%;*line-height:120%;font-size:100%;width:33.7em;word-break:break-all;word-wrap:break-word}.h{margin-left:8px;width:100%}.r{word-break:break-all;cursor:hand;width:238px}.t{font-weight:normal;font-size:medium;margin-bottom:1px}.pl{padding-left:3px;height:8px;padding-right:2px;font-size:14px}.mo,a.mo:link,a.mo:visited{color:#666;font-size:100%;line-height:10px}.htb{margin-bottom:5px}.jc a{color:#c00}a font[size=\"3\"] font,font[size=\"3\"] a font{text-decoration:underline}div.blog,div.bbs{color:#707070;padding-top:2px;font-size:13px}.result{width:33.7em;table-layout:fixed}.result-op .f{word-wrap:normal}.nums{font-size:12px;color:#999}.tools{position:absolute;top:10px;white-space:nowrap}\r\n",
      "\r\n",
      "#mHolder{width:62px;position:relative;z-index:296;top:-18px;margin-left:9px;margin-right:-12px;display:none}#mCon{height:18px;position:absolute;top:3px;top:6px\\9;cursor:pointer;line-height:18px}.wrapper_l #mCon{right:7px}#mCon span{color:#00c;cursor:default;display:block}#mCon .hw{text-decoration:underline;cursor:pointer;display:inline-block}#mCon .pinyin{display:inline-block}#mCon .c-icon-chevron-unfold2{margin-left:5px}#mMenu{width:56px;border:1px solid #9b9b9b;position:absolute;right:7px;top:23px;display:none;background:#fff}#mMenu a{width:100%;height:100%;color:#00c;display:block;line-height:22px;text-indent:6px;text-decoration:none;filter:none\\9}#mMenu a:hover{background:#ebebeb}#mMenu .ln{height:1px;background:#ebebeb;overflow:hidden;font-size:1px;line-height:1px;margin-top:-1px}\r\n",
      "\r\n",
      "\r\n",
      "#index_guide{display:none}#index_logo{display:none}#u1{display:none}.s_ipt_wr{height:32px}body{padding:0}.s_form:after,.s_tab:after{content:\".\";display:block;height:0;clear:both;visibility:hidden}.s_form{zoom:1;height:63px;padding:0 0 0 10px}\r\n",
      "\r\n",
      "#result_logo{float:left;margin:11px 6px 0 6px}#result_logo img{width:104px}\r\n",
      "\r\n",
      "#head{padding:0;margin:0;width:100%;position:absolute;z-index:301;min-width:1000px;background:#fff;border-bottom:1px solid #ebebeb;position:fixed;_position:absolute}#head .head_wrapper{_width:1000px}#head.s_down{box-shadow:0 0 5px #888}.fm{clear:none;float:left;margin:15px 0 0 12px}#s_tab{background:#f8f8f8;line-height:36px;height:38px;padding:63px 0 0 138px;float:none;zoom:1}#s_tab a,#s_tab b{width:54px;display:inline-block;text-decoration:none;text-align:center;color:#666;font-size:14px}#s_tab b{border-bottom:2px solid #38f;font-weight:bold;color:#323232}#s_tab a:hover{color:#323232}#content_left{width:540px;padding-left:138px;padding-top:5px}#content_right{margin-top:45px}\r\n",
      "#page{padding:0 0 0 138px;margin:30px 0 40px 0}\r\n",
      "\r\n",
      "\r\n",
      "#help{background:#f5f6f5;zoom:1;padding:0 0 0 50px;float:right}#help a{color:#777;padding:0 15px;text-decoration:none}#help a:hover{color:#333}\r\n",
      "\r\n",
      "#foot{background:#f5f6f5;border-top:1px solid #ebebeb;text-align:left;height:42px;line-height:42px}#foot .foot_c{float:left;padding:0 0 0 138px}.content_none{padding:30px 0 0 138px}\r\n",
      "\r\n",
      "#mCon{top:5px}\r\n",
      "\r\n",
      ".s_ipt_wr.bg,.s_btn_wr.bg,#su.bg{background-image:none}.s_btn_wr{width:auto;height:auto;border-bottom:1px solid transparent;*border-bottom:0}.s_btn{width:100px;height:34px;color:white;letter-spacing:1px;background:#3385ff;border-bottom:1px solid #2d78f4;outline:medium;*border-bottom:0;-webkit-appearance:none;-webkit-border-radius:0}.s_btn.btnhover{background:#317ef3;border-bottom:1px solid #2868c8;*border-bottom:0;box-shadow:1px 1px 1px #ccc}\r\n",
      "\r\n",
      ".s_btn_h{background:#3075dc;box-shadow:inset 1px 1px 3px #2964bb;-webkit-box-shadow:inset 1px 1px 3px #2964bb;-moz-box-shadow:inset 1px 1px 3px #2964bb;-o-box-shadow:inset 1px 1px 3px #2964bb}#head .bdsug{top:33px}.bdsug{width:538px;border-color:#ccc;box-shadow:1px 1px 3px #ededed;-webkit-box-shadow:1px 1px 3px #ededed;-moz-box-shadow:1px 1px 3px #ededed;-o-box-shadow:1px 1px 3px #ededed}\r\n",
      "\r\n",
      ".bdsug.bdsugbg{background-repeat:no-repeat;background-position:100% 100%;background-size:100px 110px;background-image:url(http://s1.bdstatic.com/r/www/cache/static/home/img/sugbg_6a9201c2.png);background-image:url(http://s1.bdstatic.com/r/www/cache/static/home/img/sugbg_d24a0811.gif)\\9}.bdsug li{width:522px;line-height:22px}.bdsug li.bdsug-s{background:#f0f0f0}.bdsug-ala h3{margin:8px 0 5px 0}#wrapper_wrapper .container_l .EC_ppim_top,#wrapper_wrapper .container_xl .EC_ppim_top{width:640px}#wrapper_wrapper .container_s .EC_ppim_top{width:570px}#head .c-icon-bear-round{display:none}.container_l #content_right{width:384px}.container_l{width:1212px}.container_xl #content_right{width:384px}.container_xl{width:1257px}.index_tab_top{display:none}.index_tab_bottom{display:none}#lg{display:none}#m{display:none}#ftCon{display:none}#ent_sug{margin:40px 0 0 145px;font-size:13px;color:#666}.c-icon{background:url(http://s1.bdstatic.com/r/www/cache/static/global/img/icons_3bfb8e45.png) no-repeat 0 0;_background-image:url(\"http://s1.bdstatic.com/r/www/cache/static/global/img/icons_f72fb1cc.gif\")}\r\n",
      "\r\n",
      "\r\n",
      "\r\n",
      "</style>\r\n",
      "<meta http-equiv=\"X-UA-Compatible\" content=\"IE=Edge\">\r\n",
      "<title>页面不存在_百度搜索</title>\r\n",
      "\r\n",
      "<style data-for=\"debug\">\r\n",
      "\t#debug{display:none!important}\r\n",
      "</style>\r\n",
      "\r\n",
      "<style data-for=\"result\" id=\"css_index_result\">\r\n",
      "#seth{display:none;behavior:url(#default#homepage)}#setf{display:none}#sekj{margin-left:14px}#st,#sekj{display:none}.s_ipt_wr{border:1px solid #b6b6b6;border-color:#7b7b7b #b6b6b6 #b6b6b6 #7b7b7b;background:#fff;display:inline-block;vertical-align:top;width:539px;margin-right:0;border-right-width:0;border-color:#b8b8b8 transparent #ccc #b8b8b8}/*.wrapper_s .s_ipt_wr{width:439px}*//*.wrapper_s .s_ipt{width:434px}*/.s_ipt_wr:hover,.s_ipt_wr.ipthover{border-color:#999 transparent #b3b3b3 #999}.s_ipt_wr.iptfocus{border-color:#4791ff transparent #4791ff #4791ff}.s_ipt_tip{color:#aaa;position:absolute}.s_ipt{width:526px;height:22px;font:16px/22px arial;margin:6px 0 0 7px;padding:0;background:transparent;border:0;outline:0;-webkit-appearance:none}#kw{position:relative}.bdpfmenu,.usermenu{border:1px solid #d1d1d1;position:absolute;width:105px;top:36px;padding:1px 0;z-index:302;overflow:hidden;box-shadow:1px 1px 5px #d1d1d1;-webkit-box-shadow:1px 1px 5px #d1d1d1;-moz-box-shadow:1px 1px 5px #d1d1d1;-o-box-shadow:1px 1px 5px #d1d1d1}\r\n",
      ".bdpfmenu{font-size:12px}.bdpfmenu a,.usermenu a{display:block;text-align:left;margin:0!important;padding:0 9px;line-height:26px;text-decoration:none}\r\n",
      "\r\n",
      "#u .bri:hover,#u .bri.brihover{background-position:-18px 3px}#mCon #imeSIcon{background-position:-408px -144px;margin-left:0}#mCon span{color:#333}.bdpfmenu a:link,.bdpfmenu a:visited,#u .usermenu a:link,#u .usermenu a:visited{background:white;color:#333}.bdpfmenu a:hover,.bdpfmenu a:active,#u .usermenu a:hover,#u .usermenu a:active{background:#38f;text-decoration:none;color:white}.bdpfmenu{width:70px}.usermenu{width:68px;right:8px}#wrapper .bdnuarrow{width:24px;height:13px;position:absolute;z-index:303;top:24px;background:url(http://s1.bdstatic.com/r/www/cache/static/home/img/sugbg_6a9201c2.png) no-repeat -90px -1px;background-size:300px 21px;background-image:url(http://s1.bdstatic.com/r/www/cache/static/home/img/icons_0a1fc6ac.gif)\\9}#prefpanel{background:#fafafa;display:none;opacity:0;position:fixed;_position:absolute;top:-359px;z-index:500;width:100%;min-width:960px;height:359px;border-bottom:1px solid #ebebeb}#prefpanel form{_width:850px}#kw_tip{cursor:default;display:none}#bds-message-wrapper{top:43px}\r\n",
      "\r\n",
      "input::-ms-clear{display:none}\r\n",
      "</style>\r\n",
      "\r\n",
      "</head>\r\n",
      "\r\n",
      "<body link=\"#0000cc\">\r\n",
      "<div id=\"wrapper\" style=\"\" class=\"wrapper_s\">\r\n",
      "\r\n",
      " <div id=\"head\"> <div class=\"head_wrapper\"> <div class=\"s_form\"> <div class=\"s_form_wrapper\"> <div id=\"lg\"> <img hidefocus=\"true\" src=\"//www.baidu.com/img/bd_logo1.png\" width=\"270\" height=\"129\"> </div> <a href=\"/\" id=\"result_logo\" onmousedown=\"return c({'fm':'tab','tab':'logo'})\"> <img src=\"//www.baidu.com/img/baidu_jgylogo3.gif\" alt=\"到百度首页\" title=\"到百度首页\"> </a> <form id=\"form\" name=\"f\" action=\"/s\" class=\"fm\"> <input type=\"hidden\" name=\"ie\" value=\"utf-8\"> <input type=\"hidden\" name=\"f\" value=\"8\"> <input type=\"hidden\" name=\"rsv_bp\" value=\"1\"> <input type=\"hidden\" name=\"rsv_idx\" value=\"1\"> <input type=\"hidden\" name=\"ch\" value=\"\"> <input type=\"hidden\" name=\"tn\" value=\"baiduerr\"> <input type=\"hidden\" name=\"bar\" value=\"\"> <span class=\"bg s_ipt_wr\"> <input id=\"kw_tip\" unselectable=\"on\" onselectstart=\"return false;\" class=\"s_ipt s_ipt_tip\" disabled=\"\" autocomplete=\"off\" value=\"\" maxlength=\"100\" style=\"display: none;\"> <input id=\"kw\" name=\"wd\" class=\"s_ipt\" value=\"\" maxlength=\"100\" autocomplete=\"off\"> </span><span class=\"bg s_btn_wr\"> <input type=\"submit\" id=\"su\" value=\"百度一下\" class=\"bg s_btn\"> </span><span class=\"tools\"> <span id=\"mHolder\"> <div id=\"mCon\"> <span>输入法</span> </div> <ul id=\"mMenu\"> <li><a href=\"javascript:;\" name=\"ime_hw\">手写</a> </li> <li><a href=\"javascript:;\" name=\"ime_py\">拼音</a> </li> <li class=\"ln\"></li> <li><a href=\"javascript:;\" name=\"ime_cl\">关闭</a> </li> </ul> </span> <span class=\"shouji\" style=\"display: none;\"><a href=\"http://w.x.baidu.com/go/mini/8/10000020\" onmousedown=\"return ns_c({'fm':'behs','tab':'bdbrowser'})\">百度浏览器，打开网页快2秒！</a> </span> </span> <input type=\"hidden\" name=\"rn\" value=\"\"> <input type=\"hidden\" name=\"rsv_enter\" value=\"1\"> </form> <div id=\"m\"></div> </div></div> </div></div> <div class=\"s_tab\" id=\"s_tab\"> <b>网页</b> <a href=\"http://news.baidu.com/ns?cl=2&amp;rn=20&amp;tn=news&amp;word=\" wdfield=\"word\" onmousedown=\"return c({'fm':'tab','tab':'news'})\">新闻</a><a href=\"http://tieba.baidu.com/f?kw=&amp;fr=wwwt\" wdfield=\"kw\" onmousedown=\"return c({'fm':'tab','tab':'tieba'})\">贴吧</a><a href=\"http://zhidao.baidu.com/q?ct=17&amp;pn=0&amp;tn=ikaslist&amp;rn=10&amp;word=&amp;fr=wwwt\" wdfield=\"word\" onmousedown=\"return c({'fm':'tab','tab':'zhidao'})\">知道</a><a href=\"http://music.baidu.com/search?fr=ps&amp;key=\" wdfield=\"key\" onmousedown=\"return c({'fm':'tab','tab':'music'})\">音乐</a><a href=\"http://image.baidu.com/i?tn=baiduimage&amp;ps=1&amp;ct=201326592&amp;lm=-1&amp;cl=2&amp;nc=1&amp;word=\" wdfield=\"word\" onmousedown=\"return c({'fm':'tab','tab':'pic'})\">图片</a><a href=\"http://v.baidu.com/v?ct=301989888&amp;rn=20&amp;pn=0&amp;db=0&amp;s=25&amp;word=\" wdfield=\"word\" onmousedown=\"return c({'fm':'tab','tab':'video'})\">视频</a><a href=\"http://map.baidu.com/m?word=&amp;fr=ps01000\" wdfield=\"word\" onmousedown=\"return c({'fm':'tab','tab':'map'})\">地图</a><a href=\"http://wenku.baidu.com/search?word=&amp;lm=0&amp;od=0\" wdfield=\"word\" onmousedown=\"return c({'fm':'tab','tab':'wenku'})\">文库</a><a href=\"//www.baidu.com/more/\" onmousedown=\"return c({'fm':'tab','tab':'more'})\">更多»</a> </div>\r\n",
      "<div id=\"ftCon\"><div id=\"ftConw\"><p id=\"lh\"> <a id=\"seth\" onclick=\"h(this)\" href=\"/\" onmousedown=\"return ns_c({'fm':'behs','tab':'homepage','pos':0})\">把百度设为主页</a><a id=\"setf\" href=\"http://www.baidu.com/cache/sethelp/index.html\" onmousedown=\"return ns_c({'fm':'behs','tab':'favorites','pos':0})\" target=\"_blank\" style=\"display: inline;\">把百度设为主页</a><a onmousedown=\"return ns_c({'fm':'behs','tab':'tj_about'})\" href=\"http://home.baidu.com\">关于百度</a><a onmousedown=\"return ns_c({'fm':'behs','tab':'tj_about_en'})\" href=\"http://ir.baidu.com\">About Baidu</a> </p> <p id=\"cp\">©2014&nbsp;Baidu&nbsp;<a href=\"/duty/\" name=\"tj_duty\">使用百度前必读</a>&nbsp;京ICP证030173号&nbsp;<i class=\"c-icon-icrlogo\"></i> </p> </div> </div>\r\n",
      "<div id=\"wrapper_wrapper\" style=\"display: block;\">\r\n",
      "\t<style>\r\n",
      "\t\t\t.nors{\r\n",
      "\t\t\t\tposition: relative;\r\n",
      "\t\t\t}\r\n",
      "\t\t\t.norsTitle{\r\n",
      "\t\t\t\tfont-size: 22px;\r\n",
      "\t\t\t\tfont-family: Microsoft Yahei;\r\n",
      "\t\t\t\tfont-weight: normal;\r\n",
      "\t\t\t\tcolor: #333;\r\n",
      "\t\t\t\tmargin: 35px 0 25px 0;\r\n",
      "\t\t\t}\r\n",
      "\t\t\t.norsSuggest {\r\n",
      "\t\t\t\tdisplay: inline-block;\r\n",
      "\t\t\t\tcolor:#333;\r\n",
      "\t\t\t\tfont-family:arial;\r\n",
      "\t\t\t\tfont-size: 13px;\r\n",
      "\t\t\t\tposition: relative;\r\n",
      "\t\t\t}\r\n",
      "\r\n",
      "\t\t\t.norsSuggest li{\r\n",
      "\t\t\t\tlist-style: decimal;\r\n",
      "\t\t\t}\r\n",
      "\t\t\t.norsTitle2 {\r\n",
      "\t\t\t\tfont-family: arial;\r\n",
      "\t\t\t\tfont-size: 13px;\r\n",
      "\t\t\t\tcolor: #666;\t\r\n",
      "\t\t\t}\r\n",
      "\t\t\t.norsSuggest li{\r\n",
      "\t\t\t\tmargin: 13px 0;\r\n",
      "\t\t\t}\r\n",
      "\t\t\t.norsSuggest ol{\r\n",
      "\t\t\t\tmargin-left: 47px;\r\n",
      "\t\t\t}\r\n",
      "\t\t\t#foot{\r\n",
      "\t\t\t\tposition: fixed;\r\n",
      "\t\t\t\t_position: absolute;\r\n",
      "\t\t\t\tbottom: 0;\r\n",
      "\t\t\t\twidth: 100%;\r\n",
      "\t\t\t\tclear: both;\r\n",
      "\t\t\t}\r\n",
      "\t</style>\r\n",
      "\t<div id=\"content_left\">\r\n",
      "\t\t<div class=\"nors\">\r\n",
      "\t\t\t<div class=\"norsSuggest\">\r\n",
      "\t\t\t\t<h3 class=\"norsTitle\">很抱歉，您要访问的页面不存在！</h3>\r\n",
      "\t\t\t\t<p class=\"norsTitle2\">温馨提示：</p>\r\n",
      "\t\t\t\t<ol>\r\n",
      "\t\t\t\t\t<li>请检查您访问的网址是否正确</li> \r\n",
      "\t\t\t\t\t<li>如果您不能确认访问的网址，请浏览<a href=\"http://www.baidu.com/more/index.html\">百度更多</a>页面查看更多网址。</li>\r\n",
      "\t\t\t\t\t<li>回到顶部重新发起搜索</li>\r\n",
      "\t\t\t\t\t<li>如有任何意见或建议，请及时<a href=\"http://qingting.baidu.com/index\">反馈给我们</a>。</li>\r\n",
      "\t\t\t\t\t\r\n",
      "\r\n",
      "\t\t\t\t</ol>\r\n",
      "\t\t\t</div>\r\n",
      "\t\t</div>\r\n",
      "\t</div>\r\n",
      "\r\n",
      "<div id=\"foot\"><span class=\"foot_c\">©2015&nbsp;Baidu&nbsp;<span>此内容系百度根据您的指令自动搜索的结果，不代表百度赞成被搜索网站的内容或立场</span></span>\r\n",
      "<span id=\"help\"><a href=\"http://www.baidu.com/search/jubao.html\" target=\"_blank\">举报</a></span></div>\r\n",
      "\r\n",
      "<div class=\"c-tips-container\" id=\"c-tips-container\"></div></div></div><div class=\"c-tips-container\" id=\"c-tips-container\"></div>\r\n",
      "\r\n",
      "</body></html>\n"
     ]
    }
   ],
   "source": [
    "# patch方法\n",
    "\n",
    "r_6 = requests.patch(url = url)\n",
    "print(r_6.content.decode())\n"
   ]
  },
  {
   "cell_type": "code",
   "execution_count": 36,
   "id": "7d86f73e",
   "metadata": {},
   "outputs": [
    {
     "name": "stdout",
     "output_type": "stream",
     "text": [
      "302\n"
     ]
    }
   ],
   "source": [
    "# delete方法\n",
    "\n",
    "r_7 = requests.delete(url = url)\n",
    "print(r_7.status_code)"
   ]
  },
  {
   "cell_type": "markdown",
   "id": "64081dc3",
   "metadata": {},
   "source": [
    "+ 现在许多网页并不支持除了get与POST以外的方法，一般也不需要使用"
   ]
  },
  {
   "cell_type": "markdown",
   "id": "a0c18ba6",
   "metadata": {},
   "source": [
    "# 2.\t采用网络爬虫在https://hellogithub.com/report/tiobe/  网站查询最受欢迎的编程语言，\n",
    "**1）\tTop10编程语言的走势图进行存储；**\n",
    "\n",
    "**2）\t并利用beatifulsoup解析出前30个最受欢迎的语言列表；**\n"
   ]
  },
  {
   "cell_type": "markdown",
   "id": "66b04438",
   "metadata": {},
   "source": [
    "第一问涉及js，略过\n",
    "\n",
    "第二问，首先导入beautifulsoup，并定义所需函数"
   ]
  },
  {
   "cell_type": "code",
   "execution_count": 51,
   "id": "2ccdbfa0",
   "metadata": {},
   "outputs": [],
   "source": [
    "import requests\n",
    "from bs4 import BeautifulSoup\n",
    "\n",
    "url_2 = 'https://hellogithub.com/report/tiobe/'\n",
    "\n",
    "\n",
    "def get_data(url):\n",
    "    try:\n",
    "        response = requests.get(url=url,timeout = 20)\n",
    "        response.raise_for_status()\n",
    "        response.encoding = response.apparent_encoding\n",
    "        return response.text\n",
    "    except:\n",
    "        return''\n",
    "    \n",
    "    \n",
    "    \n",
    "    \n",
    "def parse_data(data):\n",
    "    bs = BeautifulSoup(data,\"html.parser\")\n",
    "    table = bs.table.tbody.find_all('tr')\n",
    "    result = []\n",
    "    for list in table:\n",
    "        temp = {}\n",
    "        temp['rank']=list.find_all('td')[0].string\n",
    "        temp['p_lan']=list.find_all('td')[1].string\n",
    "        temp['pop']=list.find_all('td')[2].string\n",
    "        result.append(temp)\n",
    "        \n",
    "    return result\n",
    "    \n",
    "    \n",
    "\n",
    "def printlist(list):\n",
    "    f = '{:8}\\t{:16}\\t{:16}'\n",
    "    print(f.format('序号','编程语言','流行度'))\n",
    "    for i in range(len(list)):\n",
    "        if i < 30:\n",
    "            print(f.format(list[i]['rank'],list[i]['p_lan'],list[i]['pop']))\n",
    "        else:\n",
    "            break\n",
    "        \n",
    "    \n",
    "    \n",
    "    \n",
    "    \n",
    "def run():\n",
    "    data = get_data(url=url_2)\n",
    "    result = parse_data(data)\n",
    "    printlist(result)\n",
    "    \n",
    "    pass"
   ]
  },
  {
   "cell_type": "code",
   "execution_count": 52,
   "id": "7b00f2d3",
   "metadata": {},
   "outputs": [
    {
     "name": "stdout",
     "output_type": "stream",
     "text": [
      "序号      \t编程语言            \t流行度             \n",
      "1       \tPython          \t12.74%          \n",
      "2       \tC               \t11.59%          \n",
      "3       \tJava            \t10.99%          \n",
      "4       \tC++             \t8.83%           \n",
      "5       \tC#              \t6.39%           \n",
      "6       \tVisual Basic    \t5.86%           \n",
      "7       \tJavaScript      \t2.12%           \n",
      "8       \tAssembly language\t1.92%           \n",
      "9       \tSQL             \t1.87%           \n",
      "10      \tPHP             \t1.52%           \n",
      "11      \tDelphi/Object Pascal\t1.42%           \n",
      "12      \tSwift           \t1.23%           \n",
      "13      \tR               \t1.22%           \n",
      "14      \tGo              \t1.11%           \n",
      "15      \tClassic Visual Basic\t1.03%           \n",
      "16      \tObjective-C     \t1.03%           \n",
      "17      \tPerl            \t0.99%           \n",
      "18      \tLua             \t0.98%           \n",
      "19      \tRuby            \t0.86%           \n",
      "20      \tMATLAB          \t0.82%           \n",
      "21      \tProlog          \t0.81%           \n",
      "22      \tSAS             \t0.79%           \n",
      "23      \t(Visual) FoxPro \t0.68%           \n",
      "24      \tScratch         \t0.65%           \n",
      "25      \tJulia           \t0.64%           \n",
      "26      \tCOBOL           \t0.62%           \n",
      "27      \tAda             \t0.46%           \n",
      "28      \tRust            \t0.39%           \n",
      "29      \tKotlin          \t0.39%           \n",
      "30      \tFortran         \t0.38%           \n"
     ]
    }
   ],
   "source": [
    "if __name__ == '__main__':\n",
    "    run()"
   ]
  }
 ],
 "metadata": {
  "kernelspec": {
   "display_name": "Python 3 (ipykernel)",
   "language": "python",
   "name": "python3"
  },
  "language_info": {
   "codemirror_mode": {
    "name": "ipython",
    "version": 3
   },
   "file_extension": ".py",
   "mimetype": "text/x-python",
   "name": "python",
   "nbconvert_exporter": "python",
   "pygments_lexer": "ipython3",
   "version": "3.9.7"
  }
 },
 "nbformat": 4,
 "nbformat_minor": 5
}
