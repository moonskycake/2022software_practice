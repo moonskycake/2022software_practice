{
 "cells": [
  {
   "cell_type": "markdown",
   "id": "a286dd55",
   "metadata": {},
   "source": [
    "# 1.打开某网站，分别完成requests中的七个方法的操作"
   ]
  },
  {
   "cell_type": "markdown",
   "id": "170e0aff",
   "metadata": {},
   "source": [
    "在此选取的网站为百度：www.baidu.com"
   ]
  },
  {
   "cell_type": "code",
   "execution_count": 28,
   "id": "0262f885",
   "metadata": {},
   "outputs": [],
   "source": [
    "# 首先导入requests模块\n",
    "\n",
    "import requests"
   ]
  },
  {
   "cell_type": "markdown",
   "id": "7a705ac3",
   "metadata": {},
   "source": [
    "以下的r_1到r_7对应了七种方法返回的结果"
   ]
  },
  {
   "cell_type": "code",
   "execution_count": 29,
   "id": "28ca40fe",
   "metadata": {},
   "outputs": [
    {
     "name": "stdout",
     "output_type": "stream",
     "text": [
      "200\n"
     ]
    }
   ],
   "source": [
    "# request方法\n",
    "\n",
    "url =' http://www.baidu.com'\n",
    "r_1 = requests.request(method = 'get',url = url)\n",
    "print(r_1.status_code)"
   ]
  },
  {
   "cell_type": "code",
   "execution_count": 30,
   "id": "b823b2b9",
   "metadata": {},
   "outputs": [
    {
     "name": "stdout",
     "output_type": "stream",
     "text": [
      "200\n"
     ]
    }
   ],
   "source": [
    "# get方法\n",
    "\n",
    "url =' http://www.baidu.com'\n",
    "r_2 = requests.get(url = url)\n",
    "print(r_2.status_code)"
   ]
  },
  {
   "cell_type": "code",
   "execution_count": 31,
   "id": "59337b15",
   "metadata": {},
   "outputs": [
    {
     "name": "stdout",
     "output_type": "stream",
     "text": [
      "{'Cache-Control': 'private, no-cache, no-store, proxy-revalidate, no-transform', 'Connection': 'keep-alive', 'Content-Encoding': 'gzip', 'Content-Type': 'text/html', 'Date': 'Sun, 11 Sep 2022 02:22:13 GMT', 'Last-Modified': 'Mon, 13 Jun 2016 02:50:08 GMT', 'Pragma': 'no-cache', 'Server': 'bfe/1.0.8.18'}\n"
     ]
    }
   ],
   "source": [
    "# head方法\n",
    "\n",
    "r_3 = requests.head(url = url)\n",
    "print(r_3.headers)"
   ]
  },
  {
   "cell_type": "code",
   "execution_count": 33,
   "id": "d896458b",
   "metadata": {},
   "outputs": [
    {
     "name": "stdout",
     "output_type": "stream",
     "text": [
      "302\n"
     ]
    }
   ],
   "source": [
    "# POST方法\n",
    "\n",
    "\n",
    "\n",
    "r_4 = requests.post(url = url)\n",
    "print(r_4.status_code)"
   ]
  },
  {
   "cell_type": "code",
   "execution_count": 34,
   "id": "9bb5df6d",
   "metadata": {},
   "outputs": [
    {
     "name": "stdout",
     "output_type": "stream",
     "text": [
      "PUT\n"
     ]
    }
   ],
   "source": [
    "# PUT方法\n",
    "\n",
    "r_5 = requests.put(url = url)\n",
    "print(r_5.request.method)\n"
   ]
  },
  {
   "cell_type": "code",
   "execution_count": 35,
   "id": "2698c76e",
   "metadata": {},
   "outputs": [
    {
     "name": "stdout",
     "output_type": "stream",
     "text": [
      "<html>\r\n",
      "<head>\r\n",
      "<meta http-equiv=\"content-type\" content=\"text/html;charset=utf-8\">\r\n",
      "<style data-for=\"result\" id=\"css_result\">\r\n",
      "body{color:#333;background:#fff;padding:6px 0 0;margin:0;position:relative;min-width:900px}body,th,td,.p1,.p2{font-family:arial}p,form,ol,ul,li,dl,dt,dd,h3{margin:0;padding:0;list-style:none}input{padding-top:0;padding-bottom:0;-moz-box-sizing:border-box;-webkit-box-sizing:border-box;box-sizing:border-box}table,img{border:0}td{font-size:9pt;line-height:18px}\r\n",
      "\r\n",
      "\r\n",
      "\r\n",
      "#foot{font-size:12px}.logo{width:117px;height:38px;cursor:pointer}\r\n",
      "\r\n",
      "#u,#head,#tool,#search,.p1{line-height:120%;margin-left:-12pt}.p2{width:100%;line-height:120%;margin-left:-12pt}#wrapper{_zoom:1}#container{word-break:break-all;word-wrap:break-word}.container_s{width:1002px}.container_l{width:1222px}#content_left{width:636px;float:left;padding-left:35px}#content_right{border-left:1px solid #e1e1e1;float:right}.container_s #content_right{width:271px}.container_l #content_right{width:434px}.content_none{padding-left:35px}#u{color:#999;white-space:nowrap;position:absolute;right:10px;top:4px;z-index:299}#u a{color:#00c;margin:0 5px}#u .reg{margin:0}#u .last{margin-right:0}#u .un{font-weight:bold;margin-right:5px}#u ul{width:100%;background:#fff;border:1px solid #9b9b9b}#u li{height:25px}#u li a{width:100%;height:25px;line-height:25px;display:block;text-align:left;text-decoration:none;text-indent:6px;margin:0;filter:none\\9}#u li a:hover{background:#ebebeb}#u li.nl{border-top:1px solid #ebebeb}#user{position:relative;display:inline-block}#user_center{position:relative;display:inline-block}#user_center .user_center_btn{margin-right:5px}.userMenu{width:64px;position:absolute;right:7px;_right:2px;top:15px;top:14px\\9;*top:15px;padding-top:4px;display:none;*background:#fff}#head{padding-left:35px;margin-bottom:20px;width:900px}\r\n",
      "\r\n",
      ".fm{clear:both;position:relative;z-index:297}.nv a,.nv b,.btn,#page,#more{font-size:14px}\r\n",
      "\r\n",
      ".s_nav{height:45px}.s_nav .s_logo{margin-right:20px;float:left}.s_nav .s_logo img{border:0;display:block}.s_tab{line-height:18px;padding:20px 0 0;float:left}.s_nav a{color:#00c;font-size:14px}.s_nav b{font-size:14px}.s_ipt_wr{width:536px;height:30px;display:inline-block;margin-right:5px;background-position:0 -96px;border:1px solid #b6b6b6;border-color:#7b7b7b #b6b6b6 #b6b6b6 #7b7b7b;vertical-align:top}.s_ipt{width:523px;height:22px;font:16px/22px arial;margin:5px 0 0 7px;padding:0;background:#fff;border:0;outline:0;-webkit-appearance:none}.s_btn{width:95px;height:32px;padding-top:2px\\9;font-size:14px;padding:0;background-color:#ddd;background-position:0 -48px;border:0;cursor:pointer}.s_btn_h{background-position:-240px -48px}.s_btn_wr{width:97px;height:34px;display:inline-block;background-position:-120px -48px;*position:relative;z-index:0;vertical-align:top}.sethf{padding:0;margin:0;font-size:14px}.set_h{display:none;behavior:url(#default#homepage)}.set_f{display:none}.shouji{margin-left:19px}.shouji a{text-decoration:none}.bdsug{position:absolute;width:536px;background:#fff;display:none;border:1px solid #817f82}\r\n",
      "\r\n",
      "\r\n",
      "#page{font:14px arial;white-space:nowrap;padding-left:35px}#page a,#page strong{display:inline-block;vertical-align:text-bottom;height:66px;text-align:center;line-height:34px;text-decoration:none;overflow:hidden;margin-right:9px;background:white}#page a{cursor:pointer}#page a:hover{background:0}#page .n:hover,#page a:hover .pc{background:#f2f8ff;border:1px solid #38f}#page .n{height:34px;padding:0 18px;border:1px solid #e1e2e3}#page span{display:block}#page .pc{width:34px;height:34px;border:1px solid #e1e2e3;cursor:pointer}#page .fk{width:24px;height:24px;margin-bottom:6px;margin-left:6px;cursor:pointer}#page strong .fk,#page strong .pc{cursor:auto}#page .fk .c-icon-bear-pn{top:-3px;position:relative}#page .fkd .c-icon-bear-pn{top:3px;position:relative}#page .fk_cur .c-icon-bear-p{top:-2px;position:relative}#page strong .pc{border:0;width:36px;height:36px;line-height:36px}#page .nums{display:inline-block;vertical-align:text-bottom;height:36px;line-height:36px;margin-left:10px}#rs{width:900px;background:#fff;padding:8px 0;margin:20px 0 0 15px}#rs td{width:5%}#rs th{font-size:14px;font-weight:normal;line-height:19px;white-space:nowrap;text-align:left;vertical-align:top}#rs .tt{font-weight:bold;padding:0 10px 0 20px}#rs_top{font-size:14px;margin-bottom:22px}#rs_top a{margin-right:18px}#search{width:900px;padding:35px 0 16px 35px}#search .s_help{position:relative;top:10px}\r\n",
      "\r\n",
      "#foot{height:20px;line-height:20px;color:#77c;background:#e6e6e6;text-align:center}#foot span{color:#666}\r\n",
      "\r\n",
      ".to_zhidao,.to_tieba,.to_zhidao_bottom{font-size:16px;line-height:24px;margin:20px 0 0 35px}.to_tieba .c-icon-tieba{float:left}.f{line-height:115%;*line-height:120%;font-size:100%;width:33.7em;word-break:break-all;word-wrap:break-word}.h{margin-left:8px;width:100%}.r{word-break:break-all;cursor:hand;width:238px}.t{font-weight:normal;font-size:medium;margin-bottom:1px}.pl{padding-left:3px;height:8px;padding-right:2px;font-size:14px}.mo,a.mo:link,a.mo:visited{color:#666;font-size:100%;line-height:10px}.htb{margin-bottom:5px}.jc a{color:#c00}a font[size=\"3\"] font,font[size=\"3\"] a font{text-decoration:underline}div.blog,div.bbs{color:#707070;padding-top:2px;font-size:13px}.result{width:33.7em;table-layout:fixed}.result-op .f{word-wrap:normal}.nums{font-size:12px;color:#999}.tools{position:absolute;top:10px;white-space:nowrap}\r\n",
      "\r\n",
      "#mHolder{width:62px;position:relative;z-index:296;top:-18px;margin-left:9px;margin-right:-12px;display:none}#mCon{height:18px;position:absolute;top:3px;top:6px\\9;cursor:pointer;line-height:18px}.wrapper_l #mCon{right:7px}#mCon span{color:#00c;cursor:default;display:block}#mCon .hw{text-decoration:underline;cursor:pointer;display:inline-block}#mCon .pinyin{display:inline-block}#mCon .c-icon-chevron-unfold2{margin-left:5px}#mMenu{width:56px;border:1px solid #9b9b9b;position:absolute;right:7px;top:23px;display:none;background:#fff}#mMenu a{width:100%;height:100%;color:#00c;display:block;line-height:22px;text-indent:6px;text-decoration:none;filter:none\\9}#mMenu a:hover{background:#ebebeb}#mMenu .ln{height:1px;background:#ebebeb;overflow:hidden;font-size:1px;line-height:1px;margin-top:-1px}\r\n",
      "\r\n",
      "\r\n",
      "#index_guide{display:none}#index_logo{display:none}#u1{display:none}.s_ipt_wr{height:32px}body{padding:0}.s_form:after,.s_tab:after{content:\".\";display:block;height:0;clear:both;visibility:hidden}.s_form{zoom:1;height:63px;padding:0 0 0 10px}\r\n",
      "\r\n",
      "#result_logo{float:left;margin:11px 6px 0 6px}#result_logo img{width:104px}\r\n",
      "\r\n",
      "#head{padding:0;margin:0;width:100%;position:absolute;z-index:301;min-width:1000px;background:#fff;border-bottom:1px solid #ebebeb;position:fixed;_position:absolute}#head .head_wrapper{_width:1000px}#head.s_down{box-shadow:0 0 5px #888}.fm{clear:none;float:left;margin:15px 0 0 12px}#s_tab{background:#f8f8f8;line-height:36px;height:38px;padding:63px 0 0 138px;float:none;zoom:1}#s_tab a,#s_tab b{width:54px;display:inline-block;text-decoration:none;text-align:center;color:#666;font-size:14px}#s_tab b{border-bottom:2px solid #38f;font-weight:bold;color:#323232}#s_tab a:hover{color:#323232}#content_left{width:540px;padding-left:138px;padding-top:5px}#content_right{margin-top:45px}\r\n",
      "#page{padding:0 0 0 138px;margin:30px 0 40px 0}\r\n",
      "\r\n",
      "\r\n",
      "#help{background:#f5f6f5;zoom:1;padding:0 0 0 50px;float:right}#help a{color:#777;padding:0 15px;text-decoration:none}#help a:hover{color:#333}\r\n",
      "\r\n",
      "#foot{background:#f5f6f5;border-top:1px solid #ebebeb;text-align:left;height:42px;line-height:42px}#foot .foot_c{float:left;padding:0 0 0 138px}.content_none{padding:30px 0 0 138px}\r\n",
      "\r\n",
      "#mCon{top:5px}\r\n",
      "\r\n",
      ".s_ipt_wr.bg,.s_btn_wr.bg,#su.bg{background-image:none}.s_btn_wr{width:auto;height:auto;border-bottom:1px solid transparent;*border-bottom:0}.s_btn{width:100px;height:34px;color:white;letter-spacing:1px;background:#3385ff;border-bottom:1px solid #2d78f4;outline:medium;*border-bottom:0;-webkit-appearance:none;-webkit-border-radius:0}.s_btn.btnhover{background:#317ef3;border-bottom:1px solid #2868c8;*border-bottom:0;box-shadow:1px 1px 1px #ccc}\r\n",
      "\r\n",
      ".s_btn_h{background:#3075dc;box-shadow:inset 1px 1px 3px #2964bb;-webkit-box-shadow:inset 1px 1px 3px #2964bb;-moz-box-shadow:inset 1px 1px 3px #2964bb;-o-box-shadow:inset 1px 1px 3px #2964bb}#head .bdsug{top:33px}.bdsug{width:538px;border-color:#ccc;box-shadow:1px 1px 3px #ededed;-webkit-box-shadow:1px 1px 3px #ededed;-moz-box-shadow:1px 1px 3px #ededed;-o-box-shadow:1px 1px 3px #ededed}\r\n",
      "\r\n",
      ".bdsug.bdsugbg{background-repeat:no-repeat;background-position:100% 100%;background-size:100px 110px;background-image:url(http://s1.bdstatic.com/r/www/cache/static/home/img/sugbg_6a9201c2.png);background-image:url(http://s1.bdstatic.com/r/www/cache/static/home/img/sugbg_d24a0811.gif)\\9}.bdsug li{width:522px;line-height:22px}.bdsug li.bdsug-s{background:#f0f0f0}.bdsug-ala h3{margin:8px 0 5px 0}#wrapper_wrapper .container_l .EC_ppim_top,#wrapper_wrapper .container_xl .EC_ppim_top{width:640px}#wrapper_wrapper .container_s .EC_ppim_top{width:570px}#head .c-icon-bear-round{display:none}.container_l #content_right{width:384px}.container_l{width:1212px}.container_xl #content_right{width:384px}.container_xl{width:1257px}.index_tab_top{display:none}.index_tab_bottom{display:none}#lg{display:none}#m{display:none}#ftCon{display:none}#ent_sug{margin:40px 0 0 145px;font-size:13px;color:#666}.c-icon{background:url(http://s1.bdstatic.com/r/www/cache/static/global/img/icons_3bfb8e45.png) no-repeat 0 0;_background-image:url(\"http://s1.bdstatic.com/r/www/cache/static/global/img/icons_f72fb1cc.gif\")}\r\n",
      "\r\n",
      "\r\n",
      "\r\n",
      "</style>\r\n",
      "<meta http-equiv=\"X-UA-Compatible\" content=\"IE=Edge\">\r\n",
      "<title>页面不存在_百度搜索</title>\r\n",
      "\r\n",
      "<style data-for=\"debug\">\r\n",
      "\t#debug{display:none!important}\r\n",
      "</style>\r\n",
      "\r\n",
      "<style data-for=\"result\" id=\"css_index_result\">\r\n",
      "#seth{display:none;behavior:url(#default#homepage)}#setf{display:none}#sekj{margin-left:14px}#st,#sekj{display:none}.s_ipt_wr{border:1px solid #b6b6b6;border-color:#7b7b7b #b6b6b6 #b6b6b6 #7b7b7b;background:#fff;display:inline-block;vertical-align:top;width:539px;margin-right:0;border-right-width:0;border-color:#b8b8b8 transparent #ccc #b8b8b8}/*.wrapper_s .s_ipt_wr{width:439px}*//*.wrapper_s .s_ipt{width:434px}*/.s_ipt_wr:hover,.s_ipt_wr.ipthover{border-color:#999 transparent #b3b3b3 #999}.s_ipt_wr.iptfocus{border-color:#4791ff transparent #4791ff #4791ff}.s_ipt_tip{color:#aaa;position:absolute}.s_ipt{width:526px;height:22px;font:16px/22px arial;margin:6px 0 0 7px;padding:0;background:transparent;border:0;outline:0;-webkit-appearance:none}#kw{position:relative}.bdpfmenu,.usermenu{border:1px solid #d1d1d1;position:absolute;width:105px;top:36px;padding:1px 0;z-index:302;overflow:hidden;box-shadow:1px 1px 5px #d1d1d1;-webkit-box-shadow:1px 1px 5px #d1d1d1;-moz-box-shadow:1px 1px 5px #d1d1d1;-o-box-shadow:1px 1px 5px #d1d1d1}\r\n",
      ".bdpfmenu{font-size:12px}.bdpfmenu a,.usermenu a{display:block;text-align:left;margin:0!important;padding:0 9px;line-height:26px;text-decoration:none}\r\n",
      "\r\n",
      "#u .bri:hover,#u .bri.brihover{background-position:-18px 3px}#mCon #imeSIcon{background-position:-408px -144px;margin-left:0}#mCon span{color:#333}.bdpfmenu a:link,.bdpfmenu a:visited,#u .usermenu a:link,#u .usermenu a:visited{background:white;color:#333}.bdpfmenu a:hover,.bdpfmenu a:active,#u .usermenu a:hover,#u .usermenu a:active{background:#38f;text-decoration:none;color:white}.bdpfmenu{width:70px}.usermenu{width:68px;right:8px}#wrapper .bdnuarrow{width:24px;height:13px;position:absolute;z-index:303;top:24px;background:url(http://s1.bdstatic.com/r/www/cache/static/home/img/sugbg_6a9201c2.png) no-repeat -90px -1px;background-size:300px 21px;background-image:url(http://s1.bdstatic.com/r/www/cache/static/home/img/icons_0a1fc6ac.gif)\\9}#prefpanel{background:#fafafa;display:none;opacity:0;position:fixed;_position:absolute;top:-359px;z-index:500;width:100%;min-width:960px;height:359px;border-bottom:1px solid #ebebeb}#prefpanel form{_width:850px}#kw_tip{cursor:default;display:none}#bds-message-wrapper{top:43px}\r\n",
      "\r\n",
      "input::-ms-clear{display:none}\r\n",
      "</style>\r\n",
      "\r\n",
      "</head>\r\n",
      "\r\n",
      "<body link=\"#0000cc\">\r\n",
      "<div id=\"wrapper\" style=\"\" class=\"wrapper_s\">\r\n",
      "\r\n",
      " <div id=\"head\"> <div class=\"head_wrapper\"> <div class=\"s_form\"> <div class=\"s_form_wrapper\"> <div id=\"lg\"> <img hidefocus=\"true\" src=\"//www.baidu.com/img/bd_logo1.png\" width=\"270\" height=\"129\"> </div> <a href=\"/\" id=\"result_logo\" onmousedown=\"return c({'fm':'tab','tab':'logo'})\"> <img src=\"//www.baidu.com/img/baidu_jgylogo3.gif\" alt=\"到百度首页\" title=\"到百度首页\"> </a> <form id=\"form\" name=\"f\" action=\"/s\" class=\"fm\"> <input type=\"hidden\" name=\"ie\" value=\"utf-8\"> <input type=\"hidden\" name=\"f\" value=\"8\"> <input type=\"hidden\" name=\"rsv_bp\" value=\"1\"> <input type=\"hidden\" name=\"rsv_idx\" value=\"1\"> <input type=\"hidden\" name=\"ch\" value=\"\"> <input type=\"hidden\" name=\"tn\" value=\"baiduerr\"> <input type=\"hidden\" name=\"bar\" value=\"\"> <span class=\"bg s_ipt_wr\"> <input id=\"kw_tip\" unselectable=\"on\" onselectstart=\"return false;\" class=\"s_ipt s_ipt_tip\" disabled=\"\" autocomplete=\"off\" value=\"\" maxlength=\"100\" style=\"display: none;\"> <input id=\"kw\" name=\"wd\" class=\"s_ipt\" value=\"\" maxlength=\"100\" autocomplete=\"off\"> </span><span class=\"bg s_btn_wr\"> <input type=\"submit\" id=\"su\" value=\"百度一下\" class=\"bg s_btn\"> </span><span class=\"tools\"> <span id=\"mHolder\"> <div id=\"mCon\"> <span>输入法</span> </div> <ul id=\"mMenu\"> <li><a href=\"javascript:;\" name=\"ime_hw\">手写</a> </li> <li><a href=\"javascript:;\" name=\"ime_py\">拼音</a> </li> <li class=\"ln\"></li> <li><a href=\"javascript:;\" name=\"ime_cl\">关闭</a> </li> </ul> </span> <span class=\"shouji\" style=\"display: none;\"><a href=\"http://w.x.baidu.com/go/mini/8/10000020\" onmousedown=\"return ns_c({'fm':'behs','tab':'bdbrowser'})\">百度浏览器，打开网页快2秒！</a> </span> </span> <input type=\"hidden\" name=\"rn\" value=\"\"> <input type=\"hidden\" name=\"rsv_enter\" value=\"1\"> </form> <div id=\"m\"></div> </div></div> </div></div> <div class=\"s_tab\" id=\"s_tab\"> <b>网页</b> <a href=\"http://news.baidu.com/ns?cl=2&amp;rn=20&amp;tn=news&amp;word=\" wdfield=\"word\" onmousedown=\"return c({'fm':'tab','tab':'news'})\">新闻</a><a href=\"http://tieba.baidu.com/f?kw=&amp;fr=wwwt\" wdfield=\"kw\" onmousedown=\"return c({'fm':'tab','tab':'tieba'})\">贴吧</a><a href=\"http://zhidao.baidu.com/q?ct=17&amp;pn=0&amp;tn=ikaslist&amp;rn=10&amp;word=&amp;fr=wwwt\" wdfield=\"word\" onmousedown=\"return c({'fm':'tab','tab':'zhidao'})\">知道</a><a href=\"http://music.baidu.com/search?fr=ps&amp;key=\" wdfield=\"key\" onmousedown=\"return c({'fm':'tab','tab':'music'})\">音乐</a><a href=\"http://image.baidu.com/i?tn=baiduimage&amp;ps=1&amp;ct=201326592&amp;lm=-1&amp;cl=2&amp;nc=1&amp;word=\" wdfield=\"word\" onmousedown=\"return c({'fm':'tab','tab':'pic'})\">图片</a><a href=\"http://v.baidu.com/v?ct=301989888&amp;rn=20&amp;pn=0&amp;db=0&amp;s=25&amp;word=\" wdfield=\"word\" onmousedown=\"return c({'fm':'tab','tab':'video'})\">视频</a><a href=\"http://map.baidu.com/m?word=&amp;fr=ps01000\" wdfield=\"word\" onmousedown=\"return c({'fm':'tab','tab':'map'})\">地图</a><a href=\"http://wenku.baidu.com/search?word=&amp;lm=0&amp;od=0\" wdfield=\"word\" onmousedown=\"return c({'fm':'tab','tab':'wenku'})\">文库</a><a href=\"//www.baidu.com/more/\" onmousedown=\"return c({'fm':'tab','tab':'more'})\">更多»</a> </div>\r\n",
      "<div id=\"ftCon\"><div id=\"ftConw\"><p id=\"lh\"> <a id=\"seth\" onclick=\"h(this)\" href=\"/\" onmousedown=\"return ns_c({'fm':'behs','tab':'homepage','pos':0})\">把百度设为主页</a><a id=\"setf\" href=\"http://www.baidu.com/cache/sethelp/index.html\" onmousedown=\"return ns_c({'fm':'behs','tab':'favorites','pos':0})\" target=\"_blank\" style=\"display: inline;\">把百度设为主页</a><a onmousedown=\"return ns_c({'fm':'behs','tab':'tj_about'})\" href=\"http://home.baidu.com\">关于百度</a><a onmousedown=\"return ns_c({'fm':'behs','tab':'tj_about_en'})\" href=\"http://ir.baidu.com\">About Baidu</a> </p> <p id=\"cp\">©2014&nbsp;Baidu&nbsp;<a href=\"/duty/\" name=\"tj_duty\">使用百度前必读</a>&nbsp;京ICP证030173号&nbsp;<i class=\"c-icon-icrlogo\"></i> </p> </div> </div>\r\n",
      "<div id=\"wrapper_wrapper\" style=\"display: block;\">\r\n",
      "\t<style>\r\n",
      "\t\t\t.nors{\r\n",
      "\t\t\t\tposition: relative;\r\n",
      "\t\t\t}\r\n",
      "\t\t\t.norsTitle{\r\n",
      "\t\t\t\tfont-size: 22px;\r\n",
      "\t\t\t\tfont-family: Microsoft Yahei;\r\n",
      "\t\t\t\tfont-weight: normal;\r\n",
      "\t\t\t\tcolor: #333;\r\n",
      "\t\t\t\tmargin: 35px 0 25px 0;\r\n",
      "\t\t\t}\r\n",
      "\t\t\t.norsSuggest {\r\n",
      "\t\t\t\tdisplay: inline-block;\r\n",
      "\t\t\t\tcolor:#333;\r\n",
      "\t\t\t\tfont-family:arial;\r\n",
      "\t\t\t\tfont-size: 13px;\r\n",
      "\t\t\t\tposition: relative;\r\n",
      "\t\t\t}\r\n",
      "\r\n",
      "\t\t\t.norsSuggest li{\r\n",
      "\t\t\t\tlist-style: decimal;\r\n",
      "\t\t\t}\r\n",
      "\t\t\t.norsTitle2 {\r\n",
      "\t\t\t\tfont-family: arial;\r\n",
      "\t\t\t\tfont-size: 13px;\r\n",
      "\t\t\t\tcolor: #666;\t\r\n",
      "\t\t\t}\r\n",
      "\t\t\t.norsSuggest li{\r\n",
      "\t\t\t\tmargin: 13px 0;\r\n",
      "\t\t\t}\r\n",
      "\t\t\t.norsSuggest ol{\r\n",
      "\t\t\t\tmargin-left: 47px;\r\n",
      "\t\t\t}\r\n",
      "\t\t\t#foot{\r\n",
      "\t\t\t\tposition: fixed;\r\n",
      "\t\t\t\t_position: absolute;\r\n",
      "\t\t\t\tbottom: 0;\r\n",
      "\t\t\t\twidth: 100%;\r\n",
      "\t\t\t\tclear: both;\r\n",
      "\t\t\t}\r\n",
      "\t</style>\r\n",
      "\t<div id=\"content_left\">\r\n",
      "\t\t<div class=\"nors\">\r\n",
      "\t\t\t<div class=\"norsSuggest\">\r\n",
      "\t\t\t\t<h3 class=\"norsTitle\">很抱歉，您要访问的页面不存在！</h3>\r\n",
      "\t\t\t\t<p class=\"norsTitle2\">温馨提示：</p>\r\n",
      "\t\t\t\t<ol>\r\n",
      "\t\t\t\t\t<li>请检查您访问的网址是否正确</li> \r\n",
      "\t\t\t\t\t<li>如果您不能确认访问的网址，请浏览<a href=\"http://www.baidu.com/more/index.html\">百度更多</a>页面查看更多网址。</li>\r\n",
      "\t\t\t\t\t<li>回到顶部重新发起搜索</li>\r\n",
      "\t\t\t\t\t<li>如有任何意见或建议，请及时<a href=\"http://qingting.baidu.com/index\">反馈给我们</a>。</li>\r\n",
      "\t\t\t\t\t\r\n",
      "\r\n",
      "\t\t\t\t</ol>\r\n",
      "\t\t\t</div>\r\n",
      "\t\t</div>\r\n",
      "\t</div>\r\n",
      "\r\n",
      "<div id=\"foot\"><span class=\"foot_c\">©2015&nbsp;Baidu&nbsp;<span>此内容系百度根据您的指令自动搜索的结果，不代表百度赞成被搜索网站的内容或立场</span></span>\r\n",
      "<span id=\"help\"><a href=\"http://www.baidu.com/search/jubao.html\" target=\"_blank\">举报</a></span></div>\r\n",
      "\r\n",
      "<div class=\"c-tips-container\" id=\"c-tips-container\"></div></div></div><div class=\"c-tips-container\" id=\"c-tips-container\"></div>\r\n",
      "\r\n",
      "</body></html>\n"
     ]
    }
   ],
   "source": [
    "# patch方法\n",
    "\n",
    "r_6 = requests.patch(url = url)\n",
    "print(r_6.content.decode())\n"
   ]
  },
  {
   "cell_type": "code",
   "execution_count": 36,
   "id": "7d86f73e",
   "metadata": {},
   "outputs": [
    {
     "name": "stdout",
     "output_type": "stream",
     "text": [
      "302\n"
     ]
    }
   ],
   "source": [
    "# delete方法\n",
    "\n",
    "r_7 = requests.delete(url = url)\n",
    "print(r_7.status_code)"
   ]
  },
  {
   "cell_type": "markdown",
   "id": "64081dc3",
   "metadata": {},
   "source": [
    "+ 现在许多网页并不支持用户发送除了get与POST以外的方法，一般也不需要使用"
   ]
  },
  {
   "cell_type": "markdown",
   "id": "a0c18ba6",
   "metadata": {},
   "source": [
    "# 2.\t采用网络爬虫在https://hellogithub.com/report/tiobe/  网站查询最受欢迎的编程语言，\n",
    "**1）\tTop10编程语言的走势图进行存储；**\n",
    "\n",
    "**2）\t并利用beatifulsoup解析出前30个最受欢迎的语言列表；**\n"
   ]
  },
  {
   "cell_type": "markdown",
   "id": "66b04438",
   "metadata": {},
   "source": [
    "第一问涉及js，略过\n",
    "\n",
    "第二问，首先导入beautifulsoup，并定义所需函数"
   ]
  },
  {
   "cell_type": "code",
   "execution_count": 15,
   "id": "2ccdbfa0",
   "metadata": {},
   "outputs": [],
   "source": [
    "import requests\n",
    "from bs4 import BeautifulSoup\n",
    "import re\n",
    "\n",
    "\n",
    "\n",
    "url_2 = 'https://hellogithub.com/report/tiobe/'\n",
    "\n",
    "\n",
    "def get_data(url):\n",
    "    try:\n",
    "        response = requests.get(url=url,timeout = 20)\n",
    "        response.raise_for_status()\n",
    "        response.encoding = response.apparent_encoding\n",
    "        return response.text\n",
    "    except:\n",
    "        return''\n",
    "    \n",
    "    \n",
    "    \n",
    "    \n",
    "def parse_data(data):\n",
    "    bs = BeautifulSoup(data,\"html.parser\")\n",
    "    table = bs.table.tbody.find_all('tr')\n",
    "    result = []\n",
    "    for list in table:\n",
    "        temp = {}\n",
    "        temp['rank']=list.find_all('td')[0].string\n",
    "        temp['p_lan']=list.find_all('td')[1].string\n",
    "        temp['pop']=list.find_all('td')[2].string\n",
    "        result.append(temp)\n",
    "        \n",
    "    return result\n",
    "    \n",
    "    \n",
    "\n",
    "def printlist(list):\n",
    "    f = '{:8}\\t{:16}\\t{:16}'\n",
    "    print(f.format('序号','编程语言','流行度'))\n",
    "    for i in range(len(list)):\n",
    "        if i < 30:\n",
    "            print(f.format(list[i]['rank'],list[i]['p_lan'],list[i]['pop']))\n",
    "        else:\n",
    "            break\n",
    "        \n",
    "    \n",
    "    \n",
    "    \n",
    "    \n",
    "def run():\n",
    "    data = get_data(url=url_2)\n",
    "    result = parse_data(data)\n",
    "    printlist(result)\n",
    "    \n",
    "    pass\n",
    "\n",
    "def scrapy_js():\n",
    "    data = get_data(url=url_2)\n",
    "    pattern = re.compile(r\"var chart[0-9]* = new Highcharts.Chart\\(.*?\\}\\);\",re.DOTALL | re.MULTILINE | re.UNICODE)\n",
    "    js = pattern.findall(data)\n",
    "    print(js[0].strip())"
   ]
  },
  {
   "cell_type": "code",
   "execution_count": 11,
   "id": "7b00f2d3",
   "metadata": {},
   "outputs": [
    {
     "name": "stdout",
     "output_type": "stream",
     "text": [
      "序号      \t编程语言            \t流行度             \n",
      "1       \tPython          \t12.74%          \n",
      "2       \tC               \t11.59%          \n",
      "3       \tJava            \t10.99%          \n",
      "4       \tC++             \t8.83%           \n",
      "5       \tC#              \t6.39%           \n",
      "6       \tVisual Basic    \t5.86%           \n",
      "7       \tJavaScript      \t2.12%           \n",
      "8       \tAssembly language\t1.92%           \n",
      "9       \tSQL             \t1.87%           \n",
      "10      \tPHP             \t1.52%           \n",
      "11      \tDelphi/Object Pascal\t1.42%           \n",
      "12      \tSwift           \t1.23%           \n",
      "13      \tR               \t1.22%           \n",
      "14      \tGo              \t1.11%           \n",
      "15      \tClassic Visual Basic\t1.03%           \n",
      "16      \tObjective-C     \t1.03%           \n",
      "17      \tPerl            \t0.99%           \n",
      "18      \tLua             \t0.98%           \n",
      "19      \tRuby            \t0.86%           \n",
      "20      \tMATLAB          \t0.82%           \n",
      "21      \tProlog          \t0.81%           \n",
      "22      \tSAS             \t0.79%           \n",
      "23      \t(Visual) FoxPro \t0.68%           \n",
      "24      \tScratch         \t0.65%           \n",
      "25      \tJulia           \t0.64%           \n",
      "26      \tCOBOL           \t0.62%           \n",
      "27      \tAda             \t0.46%           \n",
      "28      \tRust            \t0.39%           \n",
      "29      \tKotlin          \t0.39%           \n",
      "30      \tFortran         \t0.38%           \n"
     ]
    }
   ],
   "source": [
    "if __name__ == '__main__':\n",
    "    run()"
   ]
  },
  {
   "cell_type": "markdown",
   "id": "58eff000",
   "metadata": {},
   "source": [
    "+ 以下是爬取图表的js代码"
   ]
  },
  {
   "cell_type": "code",
   "execution_count": 16,
   "id": "c01f6354",
   "metadata": {},
   "outputs": [
    {
     "name": "stdout",
     "output_type": "stream",
     "text": [
      "var chart = new Highcharts.Chart('container', {\n",
      "            credits: {\n",
      "                  enabled: false\n",
      "            },\n",
      "            chart: {\n",
      "                type: 'spline'\n",
      "            },\n",
      "            plotOptions: {\n",
      "                spline: {\n",
      "                    lineWidth: 4,\n",
      "                    states: {\n",
      "                        hover: {\n",
      "                            lineWidth: 5\n",
      "                        }\n",
      "                    },\n",
      "                    marker: {\n",
      "                        enabled: false\n",
      "                    }\n",
      "                }\n",
      "            },\n",
      "            title: {\n",
      "                text: 'TOP 10 编程语言的走势图',\n",
      "                x: -20,\n",
      "                useHTML: true\n",
      "            },\n",
      "            subtitle: {\n",
      "                text: 'Source: www.tiobe.com',\n",
      "                x: -20,\n",
      "                useHTML: true\n",
      "            },\n",
      "            xAxis: {\n",
      "                type: 'datetime',\n",
      "                dateTimeLabelFormats: {\n",
      "                    year: '%Y'\n",
      "                }\n",
      "            },\n",
      "            yAxis: {\n",
      "                title: {\n",
      "                    text: '评级 (%)'\n",
      "                },\n",
      "                min: 0,\n",
      "                plotLines: [{\n",
      "                    value: 0,\n",
      "                    width: 1,\n",
      "                    color: '#808080'\n",
      "                }]\n",
      "            },\n",
      "            tooltip: {\n",
      "                valueSuffix: '%',\n",
      "                dateTimeLabelFormats: {\n",
      "                    week: \"%B %Y\"\n",
      "                }\n",
      "            },\n",
      "            legend: {\n",
      "              layout: 'vertical',align: 'right',verticalAlign: 'middle',borderWidth: 0,useHTML: true\n",
      "            },\n",
      "            series: [\n",
      "                {name: 'Python',data:[[993859200000, 1.25],[996451200000, 1.135],[999129600000, 1.197],[1001635200000, 1.17],[1004054400000, 1.284],[1006905600000, 1.234],[1009756800000, 1.043],[1012348800000, 1.017],[1014768000000, 0.987],[1017360000000, 0.989],[1020038400000, 1.069],[1022630400000, 1.057],[1025308800000, 1.125],[1028073600000, 1.081],[1030579200000, 1.217],[1033257600000, 1.081],[1035936000000, 1.187],[1038528000000, 1.005],[1041292800000, 1.002],[1043971200000, 1.033],[1046390400000, 0.974],[1049068800000, 0.988],[1051660800000, 1.007],[1054252800000, 1.161],[1056931200000, 1.285],[1059609600000, 1.297],[1062288000000, 1.425],[1064880000000, 1.486],[1067558400000, 1.766],[1070150400000, 1.097],[1072828800000, 1.125],[1075507200000, 1.006],[1078012800000, 1.018],[1080691200000, 1.008],[1083283200000, 4.565],[1085875200000, 6.579],[1088553600000, 4.963],[1091232000000, 4.704],[1093824000000, 5.597],[1096502400000, 4.438],[1099180800000, 5.2],[1101772800000, 3.029],[1104451200000, 2.842],[1107129600000, 2.506],[1109548800000, 2.424],[1112227200000, 2.697],[1114819200000, 2.48],[1117497600000, 2.802],[1120089600000, 2.525],[1122768000000, 2.883],[1125446400000, 3.032],[1128038400000, 2.882],[1133568000000, 2.678],[1136332800000, 2.605],[1138838400000, 2.669],[1141171200000, 3.093],[1143936000000, 2.759],[1146441600000, 3.042],[1149120000000, 3.464],[1151798400000, 3.017],[1154476800000, 3.071],[1157155200000, 3.144],[1159660800000, 3.466],[1162425600000, 3.641],[1164931200000, 3.762],[1167696000000, 3.502],[1170460800000, 3.566],[1172880000000, 3.897],[1175385600000, 3.814],[1178323200000, 3.779],[1180742400000, 3.161],[1183334400000, 3.024],[1186272000000, 2.749],[1188691200000, 3.025],[1191456000000, 3.433],[1194134400000, 4.227],[1196640000000, 4.697],[1199318400000, 5.538],[1202342400000, 4.763],[1212278400000, 4.899],[1214956800000, 4.973],[1217721600000, 4.975],[1220400000000, 5.012],[1223251200000, 4.565],[1225584000000, 5.14],[1228262400000, 4.169],[1230854400000, 4.731],[1233446400000, 4.567],[1236211200000, 5.185],[1239062400000, 6.08],[1241136000000, 5.548],[1244073600000, 4.756],[1246492800000, 4.435],[1249084800000, 4.489],[1252108800000, 3.93],[1254441600000, 3.901],[1257120000000, 4.672],[1259712000000, 5.185],[1262649600000, 4.453],[1265500800000, 4.314],[1267920000000, 4.23],[1270425600000, 4.205],[1273881600000, 4.097],[1278374400000, 4.217],[1280448000000, 4.223],[1284163200000, 4.583],[1285977600000, 4.86],[1288742400000, 5.679],[1291680000000, 6.482],[1293926400000, 6.265],[1297123200000, 7.038],[1299542400000, 5.737],[1301788800000, 4.931],[1304294400000, 4.583],[1307232000000, 3.899],[1309132800000, 3.899],[1310083200000, 3.583],[1312329600000, 3.415],[1315612800000, 4.0],[1318118400000, 3.944],[1320624000000, 3.617],[1322956800000, 3.492],[1325980800000, 3.213],[1328400000000, 3.148],[1331424000000, 3.291],[1333843200000, 3.665],[1336521600000, 3.819],[1339286400000, 3.848],[1341360000000, 4.0],[1344556800000, 3.876],[1346544000000, 3.861],[1349395200000, 3.895],[1351987200000, 4.062],[1354406400000, 3.848],[1357344000000, 4.173],[1360281600000, 4.949],[1362960000000, 4.388],[1365292800000, 4.442],[1367971200000, 4.322],[1370736000000, 4.183],[1373155200000, 4.035],[1373587200000, 4.035],[1375574400000, 3.603],[1378857600000, 3.169],[1381363200000, 3.107],[1383955200000, 3.11],[1386288000000, 2.21],[1388534400000, 2.373],[1391817600000, 2.157],[1393804800000, 2.021],[1397088000000, 1.993],[1399420800000, 3.057],[1402185600000, 2.71],[1404604800000, 2.656],[1407715200000, 3.121],[1409529600000, 2.782],[1412294400000, 2.333],[1415404800000, 2.589],[1417910400000, 2.287],[1420502400000, 2.613],[1423094400000, 2.882],[1425686400000, 2.614],[1428883200000, 2.69],[1431475200000, 3.725],[1433548800000, 3.999],[1436659200000, 4.257],[1438819200000, 4.066],[1441411200000, 3.664],[1443916800000, 4.512],[1446854400000, 3.771],[1449187200000, 4.429],[1451692800000, 3.854],[1454371200000, 4.18],[1456963200000, 4.257],[1459987200000, 3.33],[1462492800000, 3.789],[1465084800000, 3.9],[1467590400000, 4.166],[1470441600000, 4.404],[1473292800000, 4.302],[1475798400000, 3.775],[1478304000000, 3.567],[1480809600000, 4.239],[1483747200000, 3.465],[1486512000000, 4.043],[1488844800000, 3.919],[1491696000000, 3.457],[1494028800000, 3.548],[1496448000000, 4.333],[1499385600000, 3.543],[1501632000000, 3.692],[1504656000000, 2.983],[1507161600000, 3.803],[1510444800000, 4.482],[1512777600000, 3.777],[1514937600000, 4.678],[1518048000000, 5.168],[1520380800000, 5.869],[1522540800000, 5.803],[1525564800000, 5.192],[1528588800000, 5.761],[1530921600000, 6.361],[1533081600000, 6.992],[1535932800000, 7.653],[1538697600000, 7.156],[1541635200000, 7.683],[1543708800000, 8.376],[1546560000000, 8.294],[1549411200000, 7.574],[1551484800000, 8.262],[1554595200000, 8.166],[1556928000000, 7.83],[1560038400000, 8.53],[1562371200000, 9.26],[1564963200000, 10.02],[1567987200000, 9.874],[1570233600000, 9.089],[1572739200000, 9.842],[1575590400000, 10.308],[1578182400000, 9.704],[1580774400000, 9.345],[1583280000000, 10.11],[1585785600000, 9.31],[1588377600000, 9.12],[1590969600000, 8.36],[1593820800000, 9.09],[1596326400000, 9.69],[1599350400000, 10.47],[1601769600000, 11.28],[1604361600000, 12.12],[1606953600000, 12.21],[1609545600000, 11.72],[1612569600000, 10.86],[1614816000000, 10.31],[1617494400000, 11.03],[1619913600000, 11.87],[1622851200000, 11.84],[1625356800000, 10.95],[1627948800000, 11.86],[1631318400000, 11.67],[1633478400000, 11.27],[1636156800000, 11.77],[1638662400000, 12.9],[1640995200000, 13.58],[1643500800000, 15.33],[1643760000000, 15.33],[1646179200000, 14.26],[1649116800000, 13.92],[1651536000000, 12.74]]},{name: 'C',data:[[993859200000, 20.24],[996451200000, 20.773],[999129600000, 20.747],[1001635200000, 20.772],[1004054400000, 19.751],[1006905600000, 19.212],[1009756800000, 20.136],[1012348800000, 18.825],[1014768000000, 19.888],[1017360000000, 19.852],[1020038400000, 19.82],[1022630400000, 19.987],[1025308800000, 19.573],[1028073600000, 19.251],[1030579200000, 18.162],[1033257600000, 18.695],[1035936000000, 18.727],[1038528000000, 17.505],[1041292800000, 17.259],[1043971200000, 18.249],[1046390400000, 18.54],[1049068800000, 17.213],[1051660800000, 18.017],[1054252800000, 18.501],[1056931200000, 18.516],[1059609600000, 17.969],[1062288000000, 17.776],[1064880000000, 18.309],[1067558400000, 17.002],[1070150400000, 18.473],[1072828800000, 18.6],[1075507200000, 18.195],[1078012800000, 18.928],[1080691200000, 17.75],[1083283200000, 17.951],[1085875200000, 18.29],[1088553600000, 17.144],[1091232000000, 16.335],[1093824000000, 17.122],[1096502400000, 18.172],[1099180800000, 17.992],[1101772800000, 19.696],[1104451200000, 20.709],[1107129600000, 19.82],[1109548800000, 19.465],[1112227200000, 18.63],[1114819200000, 18.522],[1117497600000, 19.368],[1120089600000, 19.846],[1122768000000, 19.473],[1125446400000, 19.16],[1128038400000, 18.773],[1133568000000, 19.632],[1136332800000, 19.008],[1138838400000, 18.33],[1141171200000, 17.794],[1143936000000, 17.688],[1146441600000, 17.69],[1149120000000, 18.253],[1151798400000, 17.829],[1154476800000, 17.43],[1157155200000, 18.059],[1159660800000, 17.664],[1162425600000, 17.198],[1164931200000, 16.616],[1167696000000, 15.807],[1170460800000, 16.104],[1172880000000, 15.633],[1175385600000, 14.937],[1178323200000, 15.152],[1180742400000, 15.967],[1183334400000, 16.363],[1186272000000, 15.699],[1188691200000, 14.908],[1191456000000, 14.591],[1194134400000, 13.969],[1196640000000, 13.173],[1199318400000, 13.916],[1202342400000, 14.859],[1212278400000, 15.513],[1214956800000, 15.945],[1217721600000, 16.178],[1220400000000, 15.379],[1223251200000, 15.565],[1225584000000, 15.276],[1228262400000, 15.017],[1230854400000, 15.931],[1233446400000, 15.837],[1236211200000, 15.862],[1239062400000, 15.472],[1241136000000, 16.128],[1244073600000, 16.779],[1246492800000, 17.319],[1249084800000, 17.22],[1252108800000, 16.861],[1254441600000, 16.843],[1257120000000, 17.315],[1259712000000, 16.285],[1262649600000, 16.215],[1265500800000, 16.602],[1267920000000, 17.279],[1270425600000, 18.058],[1273881600000, 18.186],[1278374400000, 18.48],[1280448000000, 17.866],[1284163200000, 17.147],[1285977600000, 17.177],[1288742400000, 16.717],[1291680000000, 16.076],[1293926400000, 15.822],[1297123200000, 14.986],[1299542400000, 15.262],[1301788800000, 16.162],[1304294400000, 16.17],[1307232000000, 16.278],[1309132800000, 16.278],[1310083200000, 17.28],[1312329600000, 17.39],[1315612800000, 18.002],[1318118400000, 17.707],[1320624000000, 17.322],[1322956800000, 17.057],[1325980800000, 16.967],[1328400000000, 16.523],[1331424000000, 17.087],[1333843200000, 17.555],[1336521600000, 17.346],[1339286400000, 17.725],[1341360000000, 18.331],[1344556800000, 18.937],[1346544000000, 19.295],[1349395200000, 19.822],[1351987200000, 19.224],[1354406400000, 18.696],[1357344000000, 17.855],[1360281600000, 17.08],[1362960000000, 17.141],[1365292800000, 17.862],[1367971200000, 18.729],[1370736000000, 17.809],[1373155200000, 17.628],[1373587200000, 17.628],[1375574400000, 15.974],[1378857600000, 16.975],[1381363200000, 17.246],[1383955200000, 18.155],[1386288000000, 17.89],[1388534400000, 17.944],[1391817600000, 18.334],[1393804800000, 17.535],[1397088000000, 17.631],[1399420800000, 16.926],[1402185600000, 16.191],[1404604800000, 17.145],[1407715200000, 16.401],[1409529600000, 16.721],[1412294400000, 17.655],[1415404800000, 17.469],[1417910400000, 17.588],[1420502400000, 16.703],[1423094400000, 16.488],[1425686400000, 16.642],[1428883200000, 15.745],[1431475200000, 16.847],[1433548800000, 16.788],[1436659200000, 16.147],[1438819200000, 14.732],[1441411200000, 15.621],[1443916800000, 16.19],[1446854400000, 17.145],[1449187200000, 16.46],[1451692800000, 16.036],[1454371200000, 15.594],[1456963200000, 14.6],[1459987200000, 13.905],[1462492800000, 13.223],[1465084800000, 12.376],[1467590400000, 12.238],[1470441600000, 11.303],[1473292800000, 10.955],[1475798400000, 9.835],[1478304000000, 9.203],[1480809600000, 8.726],[1483747200000, 9.349],[1486512000000, 8.445],[1488844800000, 7.742],[1491696000000, 6.966],[1494028800000, 7.002],[1496448000000, 6.848],[1499385600000, 7.321],[1501632000000, 6.477],[1504656000000, 7.382],[1507161600000, 8.374],[1510444800000, 9.293],[1512777600000, 10.158],[1514937600000, 11.037],[1518048000000, 11.857],[1520380800000, 12.76],[1522540800000, 13.589],[1525564800000, 14.0],[1528588800000, 14.936],[1530921600000, 14.662],[1533081600000, 14.966],[1535932800000, 15.447],[1538697600000, 15.376],[1541635200000, 14.396],[1543708800000, 14.282],[1546560000000, 13.337],[1549411200000, 12.424],[1551484800000, 13.305],[1554595200000, 14.076],[1556928000000, 14.243],[1560038400000, 13.3],[1562371200000, 14.211],[1564963200000, 15.154],[1567987200000, 15.205],[1570233600000, 16.18],[1572739200000, 16.037],[1575590400000, 16.086],[1578182400000, 15.773],[1580774400000, 16.766],[1583280000000, 16.33],[1585785600000, 16.72],[1588377600000, 17.07],[1590969600000, 17.19],[1593820800000, 16.45],[1596326400000, 16.98],[1599350400000, 15.95],[1601769600000, 16.95],[1604361600000, 16.21],[1606953600000, 16.48],[1609545600000, 17.38],[1612569600000, 16.34],[1614816000000, 15.33],[1617494400000, 14.32],[1619913600000, 13.38],[1622851200000, 12.54],[1625356800000, 11.62],[1627948800000, 12.57],[1631318400000, 11.83],[1633478400000, 11.16],[1636156800000, 10.72],[1638662400000, 11.8],[1640995200000, 12.44],[1643500800000, 14.08],[1643760000000, 14.08],[1646179200000, 13.06],[1649116800000, 12.71],[1651536000000, 11.59]]},{name: 'Java',data:[[993859200000, 26.492],[996451200000, 25.028],[999129600000, 24.66],[1001635200000, 24.817],[1004054400000, 25.676],[1006905600000, 24.369],[1009756800000, 24.195],[1012348800000, 24.063],[1014768000000, 24.005],[1017360000000, 24.409],[1020038400000, 25.049],[1022630400000, 25.195],[1025308800000, 24.196],[1028073600000, 24.534],[1030579200000, 22.886],[1033257600000, 24.482],[1035936000000, 24.201],[1038528000000, 24.116],[1041292800000, 24.227],[1043971200000, 24.791],[1046390400000, 24.775],[1049068800000, 24.596],[1051660800000, 24.664],[1054252800000, 23.108],[1056931200000, 22.337],[1059609600000, 23.209],[1062288000000, 22.242],[1064880000000, 21.902],[1067558400000, 23.084],[1070150400000, 25.008],[1072828800000, 23.573],[1075507200000, 22.564],[1078012800000, 23.173],[1080691200000, 24.24],[1083283200000, 18.692],[1085875200000, 17.539],[1088553600000, 17.055],[1091232000000, 16.997],[1093824000000, 15.896],[1096502400000, 17.05],[1099180800000, 14.804],[1101772800000, 16.332],[1104451200000, 17.478],[1107129600000, 18.34],[1109548800000, 18.871],[1112227200000, 16.981],[1114819200000, 17.397],[1117497600000, 18.569],[1120089600000, 19.659],[1122768000000, 21.206],[1125446400000, 22.442],[1128038400000, 21.871],[1133568000000, 22.128],[1136332800000, 22.255],[1138838400000, 22.43],[1141171200000, 21.889],[1143936000000, 21.275],[1146441600000, 21.316],[1149120000000, 21.128],[1151798400000, 21.853],[1154476800000, 22.377],[1157155200000, 21.532],[1159660800000, 21.172],[1162425600000, 20.4],[1164931200000, 19.907],[1167696000000, 19.16],[1170460800000, 18.978],[1172880000000, 18.044],[1175385600000, 18.36],[1178323200000, 19.14],[1180742400000, 20.025],[1183334400000, 21.014],[1186272000000, 21.768],[1188691200000, 21.701],[1191456000000, 21.616],[1194134400000, 20.542],[1196640000000, 20.049],[1199318400000, 20.849],[1202342400000, 21.483],[1212278400000, 20.89],[1214956800000, 21.345],[1217721600000, 21.571],[1220400000000, 20.715],[1223251200000, 20.949],[1225584000000, 20.299],[1228262400000, 17.917],[1230854400000, 19.022],[1233446400000, 19.401],[1236211200000, 19.797],[1239062400000, 19.341],[1241136000000, 19.537],[1244073600000, 20.147],[1246492800000, 20.452],[1249084800000, 19.527],[1252108800000, 19.383],[1254441600000, 18.65],[1257120000000, 18.373],[1259712000000, 17.061],[1262649600000, 17.482],[1265500800000, 17.348],[1267920000000, 17.509],[1270425600000, 18.051],[1273881600000, 17.957],[1278374400000, 18.673],[1280448000000, 17.994],[1284163200000, 17.915],[1285977600000, 18.166],[1288742400000, 18.509],[1291680000000, 17.999],[1293926400000, 17.773],[1297123200000, 18.482],[1299542400000, 19.711],[1301788800000, 19.043],[1304294400000, 18.16],[1307232000000, 18.58],[1309132800000, 18.58],[1310083200000, 19.251],[1312329600000, 19.409],[1315612800000, 18.761],[1318118400000, 17.913],[1320624000000, 17.874],[1322956800000, 17.561],[1325980800000, 17.468],[1328400000000, 17.05],[1331424000000, 17.11],[1333843200000, 17.026],[1336521600000, 16.599],[1339286400000, 16.265],[1341360000000, 16.087],[1344556800000, 16.352],[1346544000000, 16.267],[1349395200000, 17.193],[1351987200000, 17.455],[1354406400000, 17.567],[1357344000000, 17.417],[1360281600000, 18.387],[1362960000000, 18.156],[1365292800000, 17.681],[1367971200000, 16.914],[1370736000000, 16.656],[1373155200000, 15.906],[1373587200000, 15.906],[1375574400000, 15.978],[1378857600000, 16.154],[1381363200000, 16.107],[1383955200000, 16.521],[1386288000000, 17.311],[1388534400000, 16.523],[1391817600000, 17.316],[1393804800000, 16.406],[1397088000000, 17.348],[1399420800000, 16.907],[1402185600000, 16.113],[1404604800000, 15.688],[1407715200000, 14.984],[1409529600000, 14.14],[1412294400000, 13.506],[1415404800000, 14.391],[1417910400000, 14.959],[1420502400000, 15.528],[1423094400000, 15.345],[1425686400000, 15.58],[1428883200000, 16.041],[1431475200000, 16.869],[1433548800000, 17.822],[1436659200000, 17.728],[1438819200000, 19.274],[1441411200000, 19.565],[1443916800000, 19.543],[1446854400000, 20.403],[1449187200000, 20.973],[1451692800000, 21.465],[1454371200000, 21.145],[1456963200000, 20.528],[1459987200000, 20.846],[1462492800000, 20.956],[1465084800000, 20.794],[1467590400000, 19.804],[1470441600000, 19.01],[1473292800000, 18.236],[1475798400000, 18.799],[1478304000000, 18.755],[1480809600000, 17.856],[1483747200000, 17.278],[1486512000000, 16.676],[1488844800000, 16.384],[1491696000000, 15.568],[1494028800000, 14.639],[1496448000000, 14.493],[1499385600000, 13.774],[1501632000000, 12.961],[1504656000000, 12.687],[1507161600000, 12.431],[1510444800000, 13.231],[1512777600000, 13.268],[1514937600000, 14.215],[1518048000000, 14.988],[1520380800000, 14.941],[1522540800000, 15.777],[1525564800000, 16.38],[1528588800000, 15.368],[1530921600000, 16.139],[1533081600000, 16.881],[1535932800000, 17.436],[1538697600000, 17.801],[1541635200000, 16.746],[1543708800000, 15.932],[1546560000000, 16.904],[1549411200000, 15.876],[1551484800000, 14.88],[1554595200000, 15.035],[1556928000000, 16.005],[1560038400000, 15.004],[1562371200000, 15.058],[1564963200000, 16.028],[1567987200000, 16.661],[1570233600000, 16.884],[1572739200000, 16.246],[1575590400000, 17.253],[1578182400000, 16.896],[1580774400000, 17.358],[1583280000000, 17.78],[1585785600000, 16.73],[1588377600000, 16.28],[1590969600000, 16.1],[1593820800000, 15.1],[1596326400000, 14.43],[1599350400000, 13.48],[1601769600000, 12.56],[1604361600000, 11.68],[1606953600000, 12.53],[1609545600000, 11.96],[1612569600000, 11.29],[1614816000000, 10.45],[1617494400000, 11.23],[1619913600000, 11.74],[1622851200000, 11.54],[1625356800000, 11.17],[1627948800000, 10.43],[1631318400000, 11.12],[1633478400000, 10.46],[1636156800000, 10.72],[1638662400000, 10.12],[1640995200000, 10.66],[1643500800000, 12.13],[1643760000000, 12.13],[1646179200000, 11.19],[1649116800000, 10.82],[1651536000000, 10.99]]},{name: 'C++',data:[[993859200000, 14.2],[996451200000, 16.111],[999129600000, 16.124],[1001635200000, 15.852],[1004054400000, 16.097],[1006905600000, 15.673],[1009756800000, 14.963],[1012348800000, 15.182],[1014768000000, 15.537],[1017360000000, 15.912],[1020038400000, 15.372],[1022630400000, 14.857],[1025308800000, 14.179],[1028073600000, 14.939],[1030579200000, 14.769],[1033257600000, 15.897],[1035936000000, 15.035],[1038528000000, 13.644],[1041292800000, 13.186],[1043971200000, 14.634],[1046390400000, 15.533],[1049068800000, 14.572],[1051660800000, 15.801],[1054252800000, 15.584],[1056931200000, 16.719],[1059609600000, 16.577],[1062288000000, 17.531],[1064880000000, 16.173],[1067558400000, 16.312],[1070150400000, 17.422],[1072828800000, 16.083],[1075507200000, 15.71],[1078012800000, 14.5],[1080691200000, 15.99],[1083283200000, 12.27],[1085875200000, 12.548],[1088553600000, 13.442],[1091232000000, 15.306],[1093824000000, 14.916],[1096502400000, 15.016],[1099180800000, 13.865],[1101772800000, 11.914],[1104451200000, 11.927],[1107129600000, 11.337],[1109548800000, 11.632],[1112227200000, 10.191],[1114819200000, 9.903],[1117497600000, 9.722],[1120089600000, 11.06],[1122768000000, 10.514],[1125446400000, 11.168],[1128038400000, 11.82],[1133568000000, 11.027],[1136332800000, 11.465],[1138838400000, 11.295],[1141171200000, 11.159],[1143936000000, 10.9],[1146441600000, 10.935],[1149120000000, 10.67],[1151798400000, 9.779],[1154476800000, 10.254],[1157155200000, 10.753],[1159660800000, 11.063],[1162425600000, 11.055],[1164931200000, 10.409],[1167696000000, 10.425],[1170460800000, 10.768],[1172880000000, 11.109],[1175385600000, 10.718],[1178323200000, 10.114],[1180742400000, 11.118],[1183334400000, 10.502],[1186272000000, 10.111],[1188691200000, 9.938],[1191456000000, 9.584],[1194134400000, 8.75],[1196640000000, 7.871],[1199318400000, 8.73],[1202342400000, 9.274],[1212278400000, 10.806],[1214956800000, 10.693],[1217721600000, 10.057],[1220400000000, 10.716],[1223251200000, 10.954],[1225584000000, 10.357],[1228262400000, 10.096],[1230854400000, 10.116],[1233446400000, 9.633],[1236211200000, 10.357],[1239062400000, 10.741],[1241136000000, 11.068],[1244073600000, 10.594],[1246492800000, 10.419],[1249084800000, 10.501],[1252108800000, 9.988],[1254441600000, 9.879],[1257120000000, 10.002],[1259712000000, 9.175],[1262649600000, 9.709],[1265500800000, 9.447],[1267920000000, 9.61],[1270425600000, 9.707],[1273881600000, 10.378],[1278374400000, 10.469],[1280448000000, 9.658],[1284163200000, 9.812],[1285977600000, 9.802],[1288742400000, 9.497],[1291680000000, 9.014],[1293926400000, 8.783],[1297123200000, 8.187],[1299542400000, 8.754],[1301788800000, 9.225],[1304294400000, 9.146],[1307232000000, 9.83],[1309132800000, 9.83],[1310083200000, 9.017],[1312329600000, 8.433],[1315612800000, 8.849],[1318118400000, 9.072],[1320624000000, 8.084],[1322956800000, 8.252],[1325980800000, 8.052],[1328400000000, 7.853],[1331424000000, 8.047],[1333843200000, 8.896],[1336521600000, 9.825],[1339286400000, 9.358],[1341360000000, 9.118],[1344556800000, 9.333],[1346544000000, 9.147],[1349395200000, 9.26],[1351987200000, 9.698],[1354406400000, 9.203],[1357344000000, 9.14],[1360281600000, 8.758],[1362960000000, 9.115],[1365292800000, 9.714],[1367971200000, 9.198],[1370736000000, 8.819],[1373155200000, 8.749],[1373587200000, 8.749],[1375574400000, 9.371],[1378857600000, 8.664],[1381363200000, 8.664],[1383955200000, 8.369],[1386288000000, 8.268],[1388534400000, 7.562],[1391817600000, 6.892],[1393804800000, 6.313],[1397088000000, 6.137],[1399420800000, 5.986],[1402185600000, 6.425],[1404604800000, 5.52],[1407715200000, 4.695],[1409529600000, 4.674],[1412294400000, 4.868],[1415404800000, 6.098],[1417910400000, 6.104],[1420502400000, 6.705],[1423094400000, 6.612],[1425686400000, 6.636],[1428883200000, 6.962],[1431475200000, 7.875],[1433548800000, 7.756],[1436659200000, 8.641],[1438819200000, 7.735],[1441411200000, 6.782],[1443916800000, 5.749],[1446854400000, 6.198],[1449187200000, 5.943],[1451692800000, 6.914],[1454371200000, 6.907],[1456963200000, 6.721],[1459987200000, 5.918],[1462492800000, 6.698],[1465084800000, 6.199],[1467590400000, 6.311],[1470441600000, 5.8],[1473292800000, 6.657],[1475798400000, 5.797],[1478304000000, 5.415],[1480809600000, 5.335],[1483747200000, 6.301],[1486512000000, 5.429],[1488844800000, 5.184],[1491696000000, 4.554],[1494028800000, 4.751],[1496448000000, 5.723],[1499385600000, 5.576],[1501632000000, 5.55],[1504656000000, 5.565],[1507161600000, 5.007],[1510444800000, 5.343],[1512777600000, 4.717],[1514937600000, 5.603],[1518048000000, 5.726],[1520380800000, 6.452],[1522540800000, 7.218],[1525564800000, 7.668],[1528588800000, 8.337],[1530921600000, 7.615],[1533081600000, 7.471],[1535932800000, 7.394],[1538697600000, 7.593],[1541635200000, 8.282],[1543708800000, 7.562],[1546560000000, 8.158],[1549411200000, 7.444],[1551484800000, 8.126],[1554595200000, 8.838],[1556928000000, 8.095],[1560038400000, 7.384],[1562371200000, 6.705],[1564963200000, 6.057],[1567987200000, 5.635],[1570233600000, 6.229],[1572739200000, 5.605],[1575590400000, 6.196],[1578182400000, 5.574],[1580774400000, 6.164],[1583280000000, 6.79],[1585785600000, 6.78],[1588377600000, 6.13],[1590969600000, 5.95],[1593820800000, 6.21],[1596326400000, 6.84],[1599350400000, 7.11],[1601769600000, 6.94],[1604361600000, 7.6],[1606953600000, 6.91],[1609545600000, 7.56],[1612569600000, 6.88],[1614816000000, 6.52],[1617494400000, 7.14],[1619913600000, 7.81],[1622851200000, 7.36],[1625356800000, 8.01],[1627948800000, 7.36],[1631318400000, 7.13],[1633478400000, 7.5],[1636156800000, 8.28],[1638662400000, 7.73],[1640995200000, 8.29],[1643500800000, 8.01],[1643760000000, 8.01],[1646179200000, 8.66],[1649116800000, 8.28],[1651536000000, 8.83]]},{name: 'C#',data:[[993859200000, 0.385],[996451200000, 0.429],[999129600000, 0.384],[1001635200000, 0.391],[1004054400000, 0.424],[1006905600000, 0.764],[1009756800000, 0.591],[1012348800000, 0.616],[1014768000000, 0.744],[1017360000000, 0.741],[1020038400000, 1.178],[1022630400000, 1.164],[1025308800000, 1.464],[1028073600000, 1.36],[1030579200000, 1.464],[1033257600000, 1.653],[1035936000000, 1.78],[1038528000000, 2.38],[1041292800000, 2.455],[1043971200000, 1.986],[1046390400000, 1.976],[1049068800000, 2.377],[1051660800000, 1.884],[1054252800000, 1.935],[1056931200000, 1.776],[1059609600000, 2.001],[1062288000000, 2.062],[1064880000000, 1.94],[1067558400000, 1.899],[1070150400000, 1.705],[1072828800000, 1.799],[1075507200000, 2.177],[1078012800000, 2.237],[1080691200000, 2.137],[1083283200000, 1.877],[1085875200000, 1.649],[1088553600000, 1.666],[1091232000000, 1.633],[1093824000000, 1.634],[1096502400000, 1.644],[1099180800000, 1.504],[1101772800000, 1.947],[1104451200000, 2.203],[1107129600000, 2.363],[1109548800000, 2.527],[1112227200000, 2.82],[1114819200000, 2.767],[1117497600000, 2.783],[1120089600000, 3.142],[1122768000000, 3.485],[1125446400000, 3.29],[1128038400000, 3.462],[1133568000000, 3.31],[1136332800000, 3.555],[1138838400000, 3.972],[1141171200000, 3.146],[1143936000000, 3.948],[1146441600000, 3.271],[1149120000000, 3.238],[1151798400000, 3.401],[1154476800000, 2.683],[1157155200000, 2.992],[1159660800000, 3.065],[1162425600000, 3.023],[1164931200000, 3.171],[1167696000000, 3.521],[1170460800000, 3.189],[1172880000000, 3.365],[1175385600000, 3.551],[1178323200000, 3.656],[1180742400000, 3.483],[1183334400000, 3.71],[1186272000000, 3.987],[1188691200000, 3.583],[1191456000000, 3.74],[1194134400000, 3.917],[1196640000000, 3.994],[1199318400000, 4.856],[1202342400000, 4.51],[1212278400000, 4.058],[1214956800000, 4.0],[1217721600000, 3.697],[1220400000000, 4.334],[1223251200000, 3.767],[1225584000000, 4.026],[1228262400000, 4.578],[1230854400000, 5.609],[1233446400000, 5.062],[1236211200000, 4.321],[1239062400000, 4.059],[1241136000000, 4.266],[1244073600000, 4.536],[1246492800000, 4.54],[1249084800000, 4.443],[1252108800000, 4.186],[1254441600000, 4.417],[1257120000000, 5.346],[1259712000000, 6.258],[1262649600000, 5.767],[1265500800000, 5.015],[1267920000000, 4.264],[1270425600000, 4.435],[1273881600000, 4.779],[1278374400000, 5.73],[1280448000000, 4.986],[1284163200000, 5.016],[1285977600000, 4.963],[1288742400000, 5.706],[1291680000000, 6.687],[1293926400000, 6.226],[1297123200000, 6.809],[1299542400000, 7.21],[1301788800000, 7.185],[1304294400000, 7.539],[1307232000000, 6.844],[1309132800000, 6.844],[1310083200000, 6.221],[1312329600000, 6.042],[1315612800000, 6.819],[1318118400000, 6.723],[1320624000000, 7.319],[1322956800000, 8.205],[1325980800000, 8.763],[1328400000000, 8.653],[1331424000000, 8.244],[1333843200000, 7.348],[1336521600000, 6.823],[1339286400000, 7.026],[1341360000000, 6.668],[1344556800000, 6.59],[1346544000000, 6.596],[1349395200000, 6.53],[1351987200000, 5.591],[1354406400000, 5.547],[1357344000000, 6.196],[1360281600000, 6.68],[1362960000000, 6.597],[1365292800000, 6.15],[1367971200000, 6.119],[1370736000000, 5.783],[1373155200000, 6.212],[1373587200000, 6.212],[1375574400000, 6.117],[1378857600000, 5.564],[1381363200000, 5.718],[1383955200000, 6.024],[1386288000000, 5.62],[1388534400000, 5.85],[1391817600000, 6.45],[1393804800000, 5.572],[1397088000000, 4.82],[1399420800000, 3.745],[1402185600000, 3.944],[1404604800000, 4.051],[1407715200000, 3.409],[1409529600000, 4.352],[1412294400000, 4.748],[1415404800000, 4.985],[1417910400000, 4.328],[1420502400000, 5.045],[1423094400000, 5.738],[1425686400000, 4.923],[1428883200000, 4.947],[1431475200000, 5.264],[1433548800000, 5.056],[1436659200000, 5.652],[1438819200000, 4.837],[1441411200000, 4.909],[1443916800000, 4.825],[1446854400000, 4.318],[1449187200000, 4.114],[1451692800000, 4.707],[1454371200000, 4.4],[1456963200000, 4.271],[1459987200000, 3.796],[1462492800000, 4.481],[1465084800000, 3.786],[1467590400000, 3.92],[1470441600000, 4.907],[1473292800000, 5.493],[1475798400000, 4.367],[1478304000000, 3.659],[1480809600000, 3.171],[1483747200000, 4.039],[1486512000000, 4.902],[1488844800000, 4.409],[1491696000000, 3.579],[1494028800000, 3.457],[1496448000000, 3.53],[1499385600000, 3.518],[1501632000000, 4.195],[1504656000000, 4.779],[1507161600000, 3.858],[1510444800000, 3.012],[1512777600000, 2.822],[1514937600000, 3.754],[1518048000000, 4.453],[1520380800000, 5.067],[1522540800000, 5.265],[1525564800000, 4.402],[1528588800000, 4.314],[1530921600000, 3.795],[1533081600000, 3.541],[1535932800000, 3.295],[1538697600000, 3.485],[1541635200000, 3.952],[1543708800000, 3.455],[1546560000000, 3.284],[1549411200000, 2.846],[1551484800000, 3.267],[1554595200000, 3.515],[1556928000000, 3.984],[1560038400000, 4.483],[1562371200000, 4.365],[1564963200000, 3.842],[1567987200000, 3.399],[1570233600000, 3.86],[1572739200000, 4.316],[1575590400000, 4.801],[1578182400000, 5.349],[1580774400000, 5.927],[1583280000000, 5.32],[1585785600000, 4.74],[1588377600000, 4.29],[1590969600000, 4.73],[1593820800000, 5.25],[1596326400000, 4.68],[1599350400000, 4.58],[1601769600000, 4.16],[1604361600000, 4.67],[1606953600000, 4.2],[1609545600000, 3.95],[1612569600000, 4.44],[1614816000000, 4.97],[1617494400000, 4.91],[1619913600000, 4.41],[1622851200000, 4.33],[1625356800000, 4.83],[1627948800000, 5.14],[1631318400000, 5.78],[1633478400000, 5.26],[1636156800000, 6.06],[1638662400000, 6.4],[1640995200000, 5.68],[1643500800000, 5.37],[1643760000000, 5.37],[1646179200000, 5.92],[1649116800000, 6.82],[1651536000000, 6.39]]},{name: 'Visual Basic',data:[[1284163200000, 0.33],[1285977600000, 0.33],[1288742400000, 0.32],[1291680000000, 0.26],[1293926400000, 0.26],[1297123200000, 0.59],[1299542400000, 0.56],[1301788800000, 0.34],[1304294400000, 0.48],[1307232000000, 0.43],[1309132800000, 0.43],[1310083200000, 0.48],[1312329600000, 0.46],[1315612800000, 0.31],[1318118400000, 0.48],[1320624000000, 0.53],[1322956800000, 0.36],[1325980800000, 0.48],[1328400000000, 0.8],[1331424000000, 0.78],[1333843200000, 0.98],[1336521600000, 1.27],[1339286400000, 1.22],[1341360000000, 0.92],[1344556800000, 0.88],[1346544000000, 0.84],[1349395200000, 0.6],[1351987200000, 0.77],[1354406400000, 0.89],[1357344000000, 1.04],[1360281600000, 1.01],[1362960000000, 0.89],[1365292800000, 1.1],[1367971200000, 1.13],[1370736000000, 1.07],[1373155200000, 1.25],[1373587200000, 1.25],[1375574400000, 1.32],[1378857600000, 1.84],[1381363200000, 1.93],[1383955200000, 1.97],[1386288000000, 1.69],[1388534400000, 1.56],[1391817600000, 1.8],[1393804800000, 1.86],[1397088000000, 1.75],[1399420800000, 1.26],[1402185600000, 1.91],[1404604800000, 1.49],[1407715200000, 1.31],[1409529600000, 1.53],[1412294400000, 1.75],[1415404800000, 2.06],[1417910400000, 2.23],[1420502400000, 1.07],[1423094400000, 2.03],[1425686400000, 2.33],[1428883200000, 2.13],[1431475200000, 2.97],[1433548800000, 3.17],[1436659200000, 2.42],[1438819200000, 2.71],[1441411200000, 2.06],[1443916800000, 2.46],[1446854400000, 2.22],[1449187200000, 2.39],[1451692800000, 2.58],[1454371200000, 2.45],[1456963200000, 2.56],[1459987200000, 2.27],[1462492800000, 2.32],[1465084800000, 2.35],[1467590400000, 2.52],[1470441600000, 2.52],[1473292800000, 2.34],[1475798400000, 2.66],[1478304000000, 3.17],[1480809600000, 3.3],[1483747200000, 2.96],[1486512000000, 2.82],[1488844800000, 3.17],[1491696000000, 3.25],[1494028800000, 3.39],[1496448000000, 3.11],[1499385600000, 3.05],[1501632000000, 2.57],[1504656000000, 1.98],[1507161600000, 2.74],[1510444800000, 2.91],[1512777600000, 2.47],[1514937600000, 3.26],[1518048000000, 4.07],[1520380800000, 4.08],[1522540800000, 4.95],[1525564800000, 4.12],[1528588800000, 3.76],[1530921600000, 4.25],[1533081600000, 4.76],[1535932800000, 5.31],[1538697600000, 5.88],[1541635200000, 6.49],[1543708800000, 7.13],[1546560000000, 6.46],[1549411200000, 7.09],[1551484800000, 6.43],[1554595200000, 5.8],[1556928000000, 5.19],[1560038400000, 4.62],[1562371200000, 4.21],[1564963200000, 3.69],[1567987200000, 3.29],[1570233600000, 3.74],[1572739200000, 4.23],[1575590400000, 4.74],[1578182400000, 5.29],[1580774400000, 5.86],[1583280000000, 5.26],[1585785600000, 4.72],[1588377600000, 4.18],[1590969600000, 4.69],[1593820800000, 5.23],[1596326400000, 4.66],[1599350400000, 4.12],[1601769600000, 3.97],[1604361600000, 4.01],[1606953600000, 3.92],[1609545600000, 3.84],[1612569600000, 4.33],[1614816000000, 4.85],[1617494400000, 4.55],[1619913600000, 4.02],[1622851200000, 4.01],[1625356800000, 4.5],[1627948800000, 4.67],[1631318400000, 4.62],[1633478400000, 5.24],[1636156800000, 5.72],[1638662400000, 5.4],[1640995200000, 4.74],[1643500800000, 5.23],[1643760000000, 5.23],[1646179200000, 5.77],[1649116800000, 5.4],[1651536000000, 5.86]]},{name: 'JavaScript',data:[[993859200000, 1.547],[996451200000, 1.723],[999129600000, 1.66],[1001635200000, 1.629],[1004054400000, 1.511],[1006905600000, 1.466],[1009756800000, 1.456],[1012348800000, 2.725],[1014768000000, 1.476],[1017360000000, 1.468],[1020038400000, 1.366],[1022630400000, 1.363],[1025308800000, 1.433],[1028073600000, 1.154],[1030579200000, 2.022],[1033257600000, 1.908],[1035936000000, 1.978],[1038528000000, 2.486],[1041292800000, 2.423],[1043971200000, 2.915],[1046390400000, 2.806],[1049068800000, 2.626],[1051660800000, 3.256],[1054252800000, 1.715],[1056931200000, 1.686],[1059609600000, 1.791],[1062288000000, 1.897],[1064880000000, 1.656],[1067558400000, 1.918],[1070150400000, 1.738],[1072828800000, 1.745],[1075507200000, 2.138],[1078012800000, 2.063],[1080691200000, 1.783],[1083283200000, 1.778],[1085875200000, 1.45],[1088553600000, 1.61],[1091232000000, 1.681],[1093824000000, 1.51],[1096502400000, 1.267],[1099180800000, 1.195],[1101772800000, 1.595],[1104451200000, 1.703],[1107129600000, 1.779],[1109548800000, 1.65],[1112227200000, 1.642],[1114819200000, 1.443],[1117497600000, 1.387],[1120089600000, 1.779],[1122768000000, 1.921],[1125446400000, 1.768],[1128038400000, 2.036],[1133568000000, 1.838],[1136332800000, 1.538],[1138838400000, 1.512],[1141171200000, 1.733],[1143936000000, 1.567],[1146441600000, 2.191],[1149120000000, 1.456],[1151798400000, 2.108],[1154476800000, 2.019],[1157155200000, 2.442],[1159660800000, 2.202],[1162425600000, 2.31],[1164931200000, 2.562],[1167696000000, 2.845],[1170460800000, 2.982],[1172880000000, 3.485],[1175385600000, 3.137],[1178323200000, 3.072],[1180742400000, 2.616],[1183334400000, 2.515],[1186272000000, 2.575],[1188691200000, 2.722],[1191456000000, 2.685],[1194134400000, 2.928],[1196640000000, 2.733],[1199318400000, 3.203],[1202342400000, 2.334],[1212278400000, 2.927],[1214956800000, 2.757],[1217721600000, 2.892],[1220400000000, 3.13],[1223251200000, 2.67],[1225584000000, 2.925],[1228262400000, 2.972],[1230854400000, 3.36],[1233446400000, 3.54],[1236211200000, 3.607],[1239062400000, 3.678],[1241136000000, 3.548],[1244073600000, 4.021],[1246492800000, 3.513],[1249084800000, 2.812],[1252108800000, 2.995],[1254441600000, 3.025],[1257120000000, 2.916],[1259712000000, 3.515],[1262649600000, 2.707],[1265500800000, 2.636],[1267920000000, 2.651],[1270425600000, 2.469],[1273881600000, 2.084],[1278374400000, 2.432],[1280448000000, 2.401],[1284163200000, 1.665],[1285977600000, 1.659],[1288742400000, 1.664],[1291680000000, 1.509],[1293926400000, 1.589],[1297123200000, 2.558],[1299542400000, 1.866],[1301788800000, 1.513],[1304294400000, 1.394],[1307232000000, 1.501],[1309132800000, 1.501],[1310083200000, 2.242],[1312329600000, 1.557],[1315612800000, 1.469],[1318118400000, 2.191],[1320624000000, 2.565],[1322956800000, 2.199],[1325980800000, 2.316],[1328400000000, 2.465],[1331424000000, 3.386],[1333843200000, 2.879],[1336521600000, 2.135],[1339286400000, 1.474],[1341360000000, 1.454],[1344556800000, 1.365],[1346544000000, 1.328],[1349395200000, 1.261],[1351987200000, 1.278],[1354406400000, 1.321],[1357344000000, 1.976],[1360281600000, 1.423],[1362960000000, 1.37],[1365292800000, 1.509],[1367971200000, 1.536],[1370736000000, 1.654],[1373155200000, 1.844],[1373587200000, 1.844],[1375574400000, 2.093],[1378857600000, 2.015],[1381363200000, 2.038],[1383955200000, 2.05],[1386288000000, 1.852],[1388534400000, 1.576],[1391817600000, 1.929],[1393804800000, 1.899],[1397088000000, 1.75],[1399420800000, 1.788],[1402185600000, 2.0],[1404604800000, 1.806],[1407715200000, 2.172],[1409529600000, 2.448],[1412294400000, 1.771],[1415404800000, 2.088],[1417910400000, 2.433],[1420502400000, 3.274],[1423094400000, 3.514],[1425686400000, 3.629],[1428883200000, 3.297],[1431475200000, 3.127],[1433548800000, 2.295],[1436659200000, 2.194],[1438819200000, 2.162],[1441411200000, 2.342],[1443916800000, 2.292],[1446854400000, 2.473],[1449187200000, 2.363],[1451692800000, 2.565],[1454371200000, 2.201],[1456963200000, 2.333],[1459987200000, 2.566],[1462492800000, 2.34],[1465084800000, 2.583],[1467590400000, 2.643],[1470441600000, 2.705],[1473292800000, 2.929],[1475798400000, 2.751],[1478304000000, 2.705],[1480809600000, 2.862],[1483747200000, 2.85],[1486512000000, 2.872],[1488844800000, 2.667],[1491696000000, 2.851],[1494028800000, 3.071],[1496448000000, 3.025],[1499385600000, 2.606],[1501632000000, 2.098],[1504656000000, 2.017],[1507161600000, 3.01],[1510444800000, 2.972],[1512777600000, 2.474],[1514937600000, 3.465],[1518048000000, 3.165],[1520380800000, 3.916],[1522540800000, 3.492],[1525564800000, 2.923],[1528588800000, 2.495],[1530921600000, 2.831],[1533081600000, 2.411],[1535932800000, 2.131],[1538697600000, 2.28],[1541635200000, 2.655],[1543708800000, 3.063],[1546560000000, 3.302],[1549411200000, 2.848],[1551484800000, 2.426],[1554595200000, 2.507],[1556928000000, 2.69],[1560038400000, 2.716],[1562371200000, 2.304],[1564963200000, 2.258],[1567987200000, 2.128],[1570233600000, 2.076],[1572739200000, 1.929],[1575590400000, 2.09],[1578182400000, 2.451],[1580774400000, 2.06],[1583280000000, 2.05],[1585785600000, 2.38],[1588377600000, 2.68],[1590969600000, 2.27],[1593820800000, 2.48],[1596326400000, 2.87],[1599350400000, 2.54],[1601769600000, 2.14],[1604361600000, 2.03],[1606953600000, 2.35],[1609545600000, 2.2],[1612569600000, 2.27],[1614816000000, 2.11],[1617494400000, 2.44],[1619913600000, 2.45],[1622851200000, 2.33],[1625356800000, 2.71],[1627948800000, 2.95],[1631318400000, 2.55],[1633478400000, 2.19],[1636156800000, 2.66],[1638662400000, 2.3],[1640995200000, 2.09],[1643500800000, 1.83],[1643760000000, 1.83],[1646179200000, 2.09],[1649116800000, 2.41],[1651536000000, 2.12]]},{name: 'Assembly language',data:[[1291680000000, 0.66],[1293926400000, 0.86],[1297123200000, 1.27],[1299542400000, 1.34],[1301788800000, 0.97],[1304294400000, 1.04],[1307232000000, 0.67],[1309132800000, 0.67],[1310083200000, 0.62],[1312329600000, 0.6],[1315612800000, 0.59],[1318118400000, 0.62],[1320624000000, 0.53],[1322956800000, 0.56],[1325980800000, 0.54],[1328400000000, 0.52],[1331424000000, 0.43],[1333843200000, 0.47],[1336521600000, 0.52],[1339286400000, 0.54],[1341360000000, 0.55],[1344556800000, 0.5],[1346544000000, 0.53],[1349395200000, 0.57],[1351987200000, 0.59],[1354406400000, 0.58],[1357344000000, 0.63],[1360281600000, 0.64],[1362960000000, 0.63],[1365292800000, 0.71],[1367971200000, 0.64],[1370736000000, 0.5],[1373155200000, 0.58],[1373587200000, 0.58],[1375574400000, 0.62],[1378857600000, 0.48],[1381363200000, 0.47],[1383955200000, 0.53],[1386288000000, 0.58],[1388534400000, 0.49],[1391817600000, 0.4],[1393804800000, 0.73],[1397088000000, 0.85],[1399420800000, 0.77],[1402185600000, 0.77],[1404604800000, 0.78],[1407715200000, 0.65],[1409529600000, 0.58],[1412294400000, 0.41],[1415404800000, 0.6],[1417910400000, 0.52],[1420502400000, 1.17],[1423094400000, 0.75],[1425686400000, 0.62],[1428883200000, 0.66],[1431475200000, 0.76],[1433548800000, 0.75],[1436659200000, 1.54],[1438819200000, 1.76],[1441411200000, 1.81],[1443916800000, 1.57],[1446854400000, 1.88],[1449187200000, 1.93],[1451692800000, 2.09],[1454371200000, 1.83],[1456963200000, 1.85],[1459987200000, 2.19],[1462492800000, 1.88],[1465084800000, 2.12],[1467590400000, 2.28],[1470441600000, 2.36],[1473292800000, 2.42],[1475798400000, 2.23],[1478304000000, 2.44],[1480809600000, 2.54],[1483747200000, 2.7],[1486512000000, 2.11],[1488844800000, 2.23],[1491696000000, 2.17],[1494028800000, 2.86],[1496448000000, 2.25],[1499385600000, 2.24],[1501632000000, 1.81],[1504656000000, 1.64],[1507161600000, 2.37],[1510444800000, 1.72],[1512777600000, 1.47],[1514937600000, 2.06],[1518048000000, 1.83],[1520380800000, 1.71],[1522540800000, 1.65],[1525564800000, 1.0],[1528588800000, 0.92],[1530921600000, 1.15],[1533081600000, 1.41],[1535932800000, 1.23],[1538697600000, 1.25],[1541635200000, 1.11],[1543708800000, 1.37],[1546560000000, 1.2],[1549411200000, 1.38],[1551484800000, 1.41],[1554595200000, 1.71],[1556928000000, 1.82],[1560038400000, 1.48],[1562371200000, 1.39],[1564963200000, 1.11],[1567987200000, 1.38],[1570233600000, 1.31],[1572739200000, 1.02],[1575590400000, 1.07],[1578182400000, 0.88],[1580774400000, 1.11],[1583280000000, 1.25],[1585785600000, 1.16],[1588377600000, 1.12],[1590969600000, 0.97],[1593820800000, 0.94],[1596326400000, 1.04],[1599350400000, 1.3],[1601769600000, 1.08],[1604361600000, 1.17],[1606953600000, 1.35],[1609545600000, 1.64],[1612569600000, 1.65],[1614816000000, 1.97],[1617494400000, 2.32],[1619913600000, 2.43],[1622851200000, 2.05],[1625356800000, 2.4],[1627948800000, 2.03],[1631318400000, 2.42],[1633478400000, 2.06],[1636156800000, 2.52],[1638662400000, 2.25],[1640995200000, 1.85],[1643500800000, 1.6],[1643760000000, 1.6],[1646179200000, 1.9],[1649116800000, 2.35],[1651536000000, 1.92]]},{name: 'SQL',data:[[993859200000, 2.956],[996451200000, 2.766],[999129600000, 2.383],[1001635200000, 2.361],[1004054400000, 2.242],[1006905600000, 1.84],[1009756800000, 1.87],[1012348800000, 1.943],[1014768000000, 2.09],[1017360000000, 2.062],[1020038400000, 2.333],[1022630400000, 2.359],[1025308800000, 2.527],[1028073600000, 2.66],[1030579200000, 2.654],[1033257600000, 2.544],[1035936000000, 2.638],[1038528000000, 2.38],[1041292800000, 2.519],[1043971200000, 2.559],[1046390400000, 2.505],[1049068800000, 2.562],[1051660800000, 2.649],[1054252800000, 3.119],[1056931200000, 3.04],[1059609600000, 2.994],[1062288000000, 3.244],[1064880000000, 3.718],[1067558400000, 3.697],[1070150400000, 2.926],[1072828800000, 3.095],[1075507200000, 3.513],[1078012800000, 3.098],[1080691200000, 2.968],[1083283200000, 2.443],[1518048000000, 2.356],[1520380800000, 2.686],[1522540800000, 2.65],[1525564800000, 1.987],[1528588800000, 2.339],[1530921600000, 2.334],[1533081600000, 2.316],[1535932800000, 2.062],[1538697600000, 2.038],[1541635200000, 1.844],[1543708800000, 2.184],[1546560000000, 2.277],[1549411200000, 1.9],[1551484800000, 1.926],[1554595200000, 2.272],[1556928000000, 2.555],[1560038400000, 2.224],[1562371200000, 1.977],[1564963200000, 1.625],[1567987200000, 1.944],[1570233600000, 1.935],[1572739200000, 1.69],[1575590400000, 1.843],[1578182400000, 1.504],[1580774400000, 1.526],[1583280000000, 1.83],[1585785600000, 2.17],[1588377600000, 2.09],[1590969600000, 1.73],[1593820800000, 1.4],[1596326400000, 1.46],[1599350400000, 1.76],[1601769600000, 1.57],[1604361600000, 1.54],[1606953600000, 1.53],[1609545600000, 1.61],[1612569600000, 1.72],[1614816000000, 1.87],[1617494400000, 1.83],[1619913600000, 1.71],[1622851200000, 1.88],[1625356800000, 1.53],[1627948800000, 1.47],[1631318400000, 1.8],[1633478400000, 2.17],[1636156800000, 2.11],[1638662400000, 1.79],[1640995200000, 1.8],[1643500800000, 1.55],[1643760000000, 1.55],[1646179200000, 1.85],[1649116800000, 2.28],[1651536000000, 1.87]]},{name: 'PHP',data:[[993859200000, 1.897],[996451200000, 1.378],[999129600000, 1.553],[1001635200000, 1.552],[1004054400000, 1.778],[1006905600000, 4.874],[1009756800000, 7.274],[1012348800000, 8.274],[1014768000000, 7.442],[1017360000000, 7.029],[1020038400000, 5.049],[1022630400000, 5.215],[1025308800000, 5.178],[1028073600000, 6.498],[1030579200000, 5.349],[1033257600000, 4.96],[1035936000000, 5.275],[1038528000000, 7.298],[1041292800000, 7.611],[1043971200000, 4.493],[1046390400000, 4.009],[1049068800000, 4.606],[1051660800000, 4.533],[1054252800000, 4.783],[1056931200000, 3.833],[1059609600000, 4.679],[1062288000000, 5.436],[1064880000000, 5.795],[1067558400000, 3.57],[1070150400000, 5.736],[1072828800000, 6.311],[1075507200000, 7.257],[1078012800000, 7.631],[1080691200000, 9.761],[1083283200000, 7.171],[1085875200000, 8.71],[1088553600000, 10.323],[1091232000000, 10.427],[1093824000000, 8.231],[1096502400000, 7.421],[1099180800000, 7.586],[1101772800000, 11.448],[1104451200000, 9.482],[1107129600000, 10.278],[1109548800000, 9.41],[1112227200000, 8.724],[1114819200000, 9.201],[1117497600000, 7.974],[1120089600000, 9.172],[1122768000000, 7.873],[1125446400000, 8.895],[1128038400000, 9.671],[1133568000000, 9.629],[1136332800000, 9.402],[1138838400000, 8.916],[1141171200000, 9.948],[1143936000000, 10.88],[1146441600000, 10.22],[1149120000000, 9.593],[1151798400000, 10.35],[1154476800000, 9.639],[1157155200000, 9.128],[1159660800000, 9.862],[1162425600000, 9.209],[1164931200000, 8.537],[1167696000000, 7.943],[1170460800000, 8.847],[1172880000000, 9.458],[1175385600000, 8.639],[1178323200000, 8.738],[1180742400000, 8.871],[1183334400000, 8.653],[1186272000000, 9.696],[1188691200000, 10.204],[1191456000000, 9.498],[1194134400000, 8.687],[1196640000000, 8.393],[1199318400000, 9.195],[1202342400000, 9.89],[1212278400000, 10.206],[1214956800000, 9.525],[1217721600000, 9.349],[1220400000000, 9.243],[1223251200000, 8.612],[1225584000000, 8.94],[1228262400000, 9.128],[1230854400000, 8.882],[1233446400000, 8.779],[1236211200000, 9.485],[1239062400000, 9.888],[1241136000000, 9.921],[1244073600000, 9.675],[1246492800000, 9.269],[1249084800000, 9.39],[1252108800000, 10.156],[1254441600000, 10.355],[1257120000000, 10.176],[1259712000000, 9.77],[1262649600000, 10.071],[1265500800000, 10.001],[1267920000000, 9.908],[1270425600000, 9.662],[1273881600000, 9.073],[1278374400000, 8.566],[1280448000000, 9.18],[1284163200000, 8.37],[1285977600000, 8.323],[1288742400000, 7.813],[1291680000000, 7.511],[1293926400000, 7.835],[1297123200000, 6.973],[1299542400000, 6.566],[1301788800000, 6.584],[1304294400000, 6.508],[1307232000000, 6.602],[1309132800000, 6.602],[1310083200000, 6.179],[1312329600000, 6.134],[1315612800000, 6.596],[1318118400000, 6.818],[1320624000000, 6.096],[1322956800000, 6.001],[1325980800000, 5.703],[1328400000000, 5.641],[1331424000000, 5.555],[1333843200000, 5.288],[1336521600000, 5.711],[1339286400000, 5.287],[1341360000000, 5.012],[1344556800000, 5.524],[1346544000000, 5.614],[1349395200000, 5.669],[1351987200000, 5.732],[1354406400000, 5.541],[1357344000000, 5.546],[1360281600000, 5.074],[1362960000000, 4.809],[1365292800000, 5.428],[1367971200000, 5.784],[1370736000000, 5.987],[1373155200000, 7.186],[1373587200000, 7.186],[1375574400000, 6.694],[1378857600000, 6.43],[1381363200000, 6.094],[1383955200000, 5.379],[1386288000000, 5.281],[1388534400000, 4.608],[1391817600000, 4.219],[1393804800000, 3.698],[1397088000000, 2.773],[1399420800000, 3.386],[1402185600000, 2.848],[1404604800000, 2.916],[1407715200000, 2.864],[1409529600000, 3.121],[1412294400000, 2.942],[1415404800000, 3.043],[1417910400000, 2.746],[1420502400000, 3.784],[1423094400000, 3.17],[1425686400000, 3.997],[1428883200000, 3.009],[1431475200000, 2.72],[1433548800000, 2.868],[1436659200000, 2.893],[1438819200000, 2.729],[1441411200000, 2.53],[1443916800000, 2.561],[1446854400000, 3.248],[1449187200000, 2.792],[1451692800000, 2.706],[1454371200000, 2.77],[1456963200000, 2.768],[1459987200000, 2.994],[1462492800000, 2.992],[1465084800000, 3.227],[1467590400000, 3.272],[1470441600000, 3.173],[1473292800000, 2.847],[1475798400000, 2.741],[1478304000000, 3.125],[1480809600000, 2.919],[1483747200000, 2.564],[1486512000000, 3.072],[1488844800000, 3.009],[1491696000000, 3.376],[1494028800000, 2.693],[1496448000000, 2.774],[1499385600000, 3.093],[1501632000000, 2.293],[1504656000000, 2.21],[1507161600000, 2.79],[1510444800000, 1.897],[1512777600000, 1.59],[1514937600000, 2.532],[1518048000000, 3.42],[1520380800000, 4.01],[1522540800000, 4.218],[1525564800000, 3.321],[1528588800000, 2.881],[1530921600000, 2.832],[1533081600000, 2.925],[1535932800000, 2.775],[1538697600000, 2.794],[1541635200000, 2.376],[1543708800000, 2.442],[1546560000000, 2.68],[1549411200000, 2.271],[1551484800000, 2.42],[1554595200000, 2.239],[1556928000000, 2.489],[1560038400000, 2.567],[1562371200000, 2.167],[1564963200000, 2.075],[1567987200000, 1.863],[1570233600000, 1.909],[1572739200000, 1.72],[1575590400000, 2.048],[1578182400000, 2.405],[1580774400000, 2.018],[1583280000000, 2.02],[1585785600000, 2.37],[1588377600000, 2.49],[1590969600000, 2.26],[1593820800000, 1.9],[1596326400000, 2.24],[1599350400000, 2.49],[1601769600000, 2.09],[1604361600000, 1.79],[1606953600000, 2.12],[1609545600000, 1.99],[1612569600000, 1.75],[1614816000000, 2.07],[1617494400000, 1.84],[1619913600000, 1.86],[1622851200000, 2.21],[1625356800000, 2.58],[1627948800000, 2.19],[1631318400000, 1.85],[1633478400000, 2.1],[1636156800000, 1.81],[1638662400000, 1.5],[1640995200000, 1.4],[1643500800000, 1.79],[1643760000000, 1.79],[1646179200000, 1.92],[1649116800000, 1.64],[1651536000000, 1.52]]}\n",
      "            ]\n",
      "        });\n"
     ]
    }
   ],
   "source": [
    "if __name__ == '__main__':\n",
    "    scrapy_js()"
   ]
  }
 ],
 "metadata": {
  "kernelspec": {
   "display_name": "Python 3 (ipykernel)",
   "language": "python",
   "name": "python3"
  },
  "language_info": {
   "codemirror_mode": {
    "name": "ipython",
    "version": 3
   },
   "file_extension": ".py",
   "mimetype": "text/x-python",
   "name": "python",
   "nbconvert_exporter": "python",
   "pygments_lexer": "ipython3",
   "version": "3.9.7"
  }
 },
 "nbformat": 4,
 "nbformat_minor": 5
}
