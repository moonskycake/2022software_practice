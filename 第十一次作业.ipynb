{
 "cells": [
  {
   "cell_type": "markdown",
   "id": "aae5bf53",
   "metadata": {},
   "source": [
    "# 1.\t分别使用pandas 中merge和concat函数完成两个dataframe，比较他们的异同点；\n",
    "参照https://pandas.pydata.org/docs/reference/api/pandas.merge.html#pandas.merge\n",
    "和\n",
    "https://pandas.pydata.org/docs/reference/api/pandas.concat.html\n"
   ]
  },
  {
   "cell_type": "code",
   "execution_count": 2,
   "id": "f96a8957",
   "metadata": {},
   "outputs": [
    {
     "name": "stdout",
     "output_type": "stream",
     "text": [
      "   id  Name_x subject_id_x   Name_y subject_id_y\n",
      "0   1   Smith         sub1  William         sub2\n",
      "1   2   Maiki         sub2   Albert         sub4\n",
      "2   3  Hunter         sub4     Tony         sub3\n",
      "3   4   Hilen         sub6    Allen         sub6\n"
     ]
    }
   ],
   "source": [
    "import pandas as pd \n",
    "left = pd.DataFrame({ \n",
    "   'id':[1,2,3,4], \n",
    "   'Name': ['Smith', 'Maiki', 'Hunter', 'Hilen'], \n",
    "   'subject_id':['sub1','sub2','sub4','sub6']}) \n",
    "right = pd.DataFrame({ \n",
    "    'id':[1,2,3,4], \n",
    "   'Name': ['William', 'Albert', 'Tony', 'Allen'], \n",
    "   'subject_id':['sub2','sub4','sub3','sub6']})\n",
    "\n",
    "print(pd.merge(left,right,on='id'))\n"
   ]
  },
  {
   "cell_type": "code",
   "execution_count": 3,
   "id": "44fd8b21",
   "metadata": {},
   "outputs": [
    {
     "name": "stdout",
     "output_type": "stream",
     "text": [
      "      A   B   C   D\n",
      "x 0  A0  B0  C0  D0\n",
      "  1  A1  B1  C1  D1\n",
      "  2  A2  B2  C2  D2\n",
      "  3  A3  B3  C3  D3\n",
      "y 2  A4  B4  C4  D1\n",
      "  3  A5  B5  C5  D2\n",
      "  4  A6  B6  C6  D5\n",
      "  5  A7  B7  C7  D6\n"
     ]
    }
   ],
   "source": [
    "import pandas as pd\n",
    "a= pd.DataFrame({'A': ['A0', 'A1', 'A2', 'A3'],\n",
    "                    'B': ['B0', 'B1', 'B2', 'B3'],\n",
    "                    'C': ['C0', 'C1', 'C2', 'C3'],\n",
    "                    'D': ['D0', 'D1', 'D2', 'D3']},\n",
    "                    index=[0, 1, 2, 3])\n",
    "\n",
    "b= pd.DataFrame({'A': ['A4', 'A5', 'A6', 'A7'],\n",
    "                    'B': ['B4', 'B5', 'B6', 'B7'],\n",
    "                    'C': ['C4', 'C5', 'C6', 'C7'],\n",
    "                    'D': ['D1', 'D2', 'D5', 'D6']},\n",
    "                     index=[2,3,4,5])\n",
    "\n",
    "\n",
    "print(pd.concat([a,b],keys=['x','y']))"
   ]
  },
  {
   "cell_type": "markdown",
   "id": "316fc410",
   "metadata": {},
   "source": [
    "**.concat()\t可用于两个或多个df间行方向（增加行，下同）或列方向（增加列，下同）进行内联或外联拼接操作，默认行拼接，取并集**"
   ]
  },
  {
   "cell_type": "markdown",
   "id": "9c1a4f9f",
   "metadata": {},
   "source": [
    "**.merge()\t可用于两个df间行方向（一般用join代替）或列方向的拼接操作，默认列拼接，取交集（即：存在相同主键的df1和df2的列拼接）**"
   ]
  },
  {
   "cell_type": "markdown",
   "id": "831ae24b",
   "metadata": {},
   "source": [
    "# 2.\tPandas和Matplotlib相结合作图，试完成https://pandas.pydata.org/docs/reference/api/pandas.DataFrame.boxplot.html\n",
    "所给的例子；\n"
   ]
  },
  {
   "cell_type": "code",
   "execution_count": 5,
   "id": "a344aec2",
   "metadata": {},
   "outputs": [
    {
     "data": {
      "image/png": "[encoded data removed]",
      "text/plain": [
       "<Figure size 432x288 with 2 Axes>"
      ]
     },
     "metadata": {
      "needs_background": "light"
     },
     "output_type": "display_data"
    }
   ],
   "source": [
    "import pandas as pd\n",
    "import numpy as np\n",
    "df = pd.DataFrame(np.random.randn(10, 3),\n",
    "                  columns=['Col1', 'Col2', 'Col3'])\n",
    "df['X'] = pd.Series(['A', 'A', 'A', 'A', 'A',\n",
    "                     'B', 'B', 'B', 'B', 'B'])\n",
    "df['Y'] = pd.Series(['A', 'B', 'A', 'B', 'A',\n",
    "                     'B', 'A', 'B', 'A', 'B'])\n",
    "boxplot = df.boxplot(column=['Col1', 'Col2'], by=['X', 'Y'])"
   ]
  },
  {
   "cell_type": "code",
   "execution_count": null,
   "id": "9f30b1b7",
   "metadata": {},
   "outputs": [],
   "source": []
  }
 ],
 "metadata": {
  "kernelspec": {
   "display_name": "Python 3 (ipykernel)",
   "language": "python",
   "name": "python3"
  },
  "language_info": {
   "codemirror_mode": {
    "name": "ipython",
    "version": 3
   },
   "file_extension": ".py",
   "mimetype": "text/x-python",
   "name": "python",
   "nbconvert_exporter": "python",
   "pygments_lexer": "ipython3",
   "version": "3.9.7"
  }
 },
 "nbformat": 4,
 "nbformat_minor": 5
}
