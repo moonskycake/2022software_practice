{
 "cells": [
  {
   "cell_type": "markdown",
   "id": "8f7c5201",
   "metadata": {},
   "source": [
    "# 第九次作业"
   ]
  },
  {
   "cell_type": "markdown",
   "id": "10400183",
   "metadata": {},
   "source": [
    "1、采用numpy中的内置函数实现斗地主的发牌"
   ]
  },
  {
   "cell_type": "code",
   "execution_count": 3,
   "id": "11413510",
   "metadata": {},
   "outputs": [
    {
     "name": "stdout",
     "output_type": "stream",
     "text": [
      "牌手 1:方J\t红J\t梅3\t红2\t梅7\t方7\t红9\t梅10\t红K\t红6\t红7\t黑J\t方4\t\n",
      "牌手 2:方3\t红3\t梅4\t黑8\t红4\t黑Q\t黑6\t梅6\t方2\t方6\t红Q\t梅5\t梅8\t\n",
      "牌手 3:黑4\t黑9\t黑2\t梅A\t方10\t红10\t方8\t梅2\t梅9\t黑5\t黑K\t黑10\t方A\t\n",
      "牌手 4:黑A\t红A\t黑3\t方9\t黑7\t梅K\t梅J\t方5\t梅Q\t红5\t方K\t方Q\t红8\t\n",
      "\n",
      "按回车键退出\n"
     ]
    }
   ],
   "source": [
    "class Card():\n",
    "      RANKS = [\"A\",\"2\",\"3\",\"4\",\"5\",\"6\",\"7\",\"8\",\"9\",\"10\",\"J\",\"Q\",\"K\"]  \n",
    "      SUITS = [\"梅\",\"方\",\"红\",\"黑\"]  \n",
    "      def __init__(self,rank,suit,face_up=True):\n",
    "          self.rank = rank\n",
    "          self.suit = suit\n",
    "          self.is_face_up = face_up         \n",
    "      def __str__(self):\n",
    "          if self.is_face_up:\n",
    "             rep = self.suit+self.rank\n",
    "          else:\n",
    "             rep = \"XX\"\n",
    "          return rep\n",
    "      def pic_order(self):\n",
    "          if self.rank == \"A\":\n",
    "             Facenum = 1\n",
    "          elif self.rank == \"J\":\n",
    "             Facenum = 11\n",
    "          elif self.rank == \"Q\":\n",
    "             Facenum = 12\n",
    "          elif self.rank == \"K\":\n",
    "             Facenum = 13\n",
    "          else:\n",
    "             Facenum = int(self.rank)\n",
    "          if self.suit ==\"梅\":\n",
    "             Suit=1\n",
    "          elif self.suit ==\"方\":\n",
    "             Suit=2\n",
    "          elif self.suit ==\"红\":\n",
    "             Suit=3\n",
    "          else:\n",
    "             Suit=4\n",
    "          return (Suit-1)*13 +Facenum\n",
    "      def flip(self):                 \n",
    "          self.is_face_up = not self.is_face_up\n",
    "          \n",
    "class Hand():\n",
    "      def __init__(self):\n",
    "          self.cards = []        \n",
    "      def __str__(self):         \n",
    "          if self.cards:\n",
    "             rep = \"\"\n",
    "             for card in self.cards:\n",
    "                 rep += str(card) + \"\\t\"\n",
    "          else:\n",
    "             rep = \"无牌\"\n",
    "          return rep\n",
    "      def clear(self):\n",
    "          self.cards = []\n",
    "      def add(self,card):\n",
    "          self.cards.append(card)\n",
    "      def give(self,card,other_hand):\n",
    "          self.cards.remove(card)\n",
    "          other_hand.add(card)\n",
    "          \n",
    "class Poke(Hand):\n",
    "      def populate(self):            \n",
    "          for suit in Card.SUITS:\n",
    "              for rank in Card.RANKS:\n",
    "                  self.add(Card(rank,suit))\n",
    "      def shuffle(self):\n",
    "          import random\n",
    "          random.shuffle(self.cards)     \n",
    "      def deal(self,hands,per_hand = 13): \n",
    "          for rounds in range(per_hand):\n",
    "              for hand in hands:\n",
    "                  if self.cards:\n",
    "                     top_card = self.cards[0]\n",
    "                     self.give(top_card,hand)  \n",
    "                  else:\n",
    "                     print(\"牌已经发完\")\n",
    "                     \n",
    "if __name__ == \"__main__\":\n",
    "     players = [Hand(),Hand(),Hand(),Hand()]\n",
    "     pokel = Poke()\n",
    "     pokel.populate()             \n",
    "     pokel.shuffle()              \n",
    "     pokel.deal(players,13)       \n",
    "     n=1\n",
    "     for hand in players:\n",
    "         print(\"牌手\",n,end=\":\")\n",
    "         print(hand)\n",
    "         n=n+1\n",
    "     input(\"\\n按回车键退出\")"
   ]
  },
  {
   "cell_type": "markdown",
   "id": "af7f11b1",
   "metadata": {},
   "source": [
    "2、简述numpy中数据存取的形式并实现"
   ]
  },
  {
   "cell_type": "markdown",
   "id": "fe687cb6",
   "metadata": {},
   "source": [
    "（1）、一维或二维数据"
   ]
  },
  {
   "cell_type": "code",
   "execution_count": 11,
   "id": "ca4ef49c",
   "metadata": {},
   "outputs": [
    {
     "data": {
      "text/plain": [
       "array([[1., 1., 1., 1.],\n",
       "       [1., 1., 1., 1.]])"
      ]
     },
     "execution_count": 11,
     "metadata": {},
     "output_type": "execute_result"
    }
   ],
   "source": [
    "import numpy as np\n",
    "x=np.ones((2,4))\n",
    "np.savetxt('x',x,fmt='%1.4e',delimiter=',')\n",
    "np.loadtxt('x',delimiter=',')"
   ]
  },
  {
   "cell_type": "code",
   "execution_count": 16,
   "id": "01897f9f",
   "metadata": {},
   "outputs": [
    {
     "data": {
      "text/plain": [
       "array([0, 1, 2, 3, 4, 5, 6, 7, 8, 9])"
      ]
     },
     "execution_count": 16,
     "metadata": {},
     "output_type": "execute_result"
    }
   ],
   "source": [
    "import numpy as np\n",
    "x=np.arange(10)\n",
    "np.save('x',x)\n",
    "np.load('x.npy')"
   ]
  },
  {
   "cell_type": "markdown",
   "id": "e9297353",
   "metadata": {},
   "source": [
    "（2）、多维数据"
   ]
  },
  {
   "cell_type": "code",
   "execution_count": 29,
   "id": "4d4f9bc0",
   "metadata": {},
   "outputs": [
    {
     "data": {
      "text/plain": [
       "array([[[ 0,  1],\n",
       "        [ 2,  3],\n",
       "        [ 4,  5],\n",
       "        [ 6,  7],\n",
       "        [ 8,  9],\n",
       "        [10, 11],\n",
       "        [12, 13],\n",
       "        [14, 15],\n",
       "        [16, 17],\n",
       "        [18, 19]],\n",
       "\n",
       "       [[20, 21],\n",
       "        [22, 23],\n",
       "        [24, 25],\n",
       "        [26, 27],\n",
       "        [28, 29],\n",
       "        [30, 31],\n",
       "        [32, 33],\n",
       "        [34, 35],\n",
       "        [36, 37],\n",
       "        [38, 39]],\n",
       "\n",
       "       [[40, 41],\n",
       "        [42, 43],\n",
       "        [44, 45],\n",
       "        [46, 47],\n",
       "        [48, 49],\n",
       "        [50, 51],\n",
       "        [52, 53],\n",
       "        [54, 55],\n",
       "        [56, 57],\n",
       "        [58, 59]],\n",
       "\n",
       "       [[60, 61],\n",
       "        [62, 63],\n",
       "        [64, 65],\n",
       "        [66, 67],\n",
       "        [68, 69],\n",
       "        [70, 71],\n",
       "        [72, 73],\n",
       "        [74, 75],\n",
       "        [76, 77],\n",
       "        [78, 79]],\n",
       "\n",
       "       [[80, 81],\n",
       "        [82, 83],\n",
       "        [84, 85],\n",
       "        [86, 87],\n",
       "        [88, 89],\n",
       "        [90, 91],\n",
       "        [92, 93],\n",
       "        [94, 95],\n",
       "        [96, 97],\n",
       "        [98, 99]]])"
      ]
     },
     "execution_count": 29,
     "metadata": {},
     "output_type": "execute_result"
    }
   ],
   "source": [
    "import numpy as np\n",
    "x=np.arange(100).reshape(5,10,2)\n",
    "x.tofile('a.dat',sep=',',format='%d')\n",
    "np.fromfile('a.dat',sep=',',dtype=np.int_).reshape(5,10,2)"
   ]
  }
 ],
 "metadata": {
  "kernelspec": {
   "display_name": "Python 3 (ipykernel)",
   "language": "python",
   "name": "python3"
  },
  "language_info": {
   "codemirror_mode": {
    "name": "ipython",
    "version": 3
   },
   "file_extension": ".py",
   "mimetype": "text/x-python",
   "name": "python",
   "nbconvert_exporter": "python",
   "pygments_lexer": "ipython3",
   "version": "3.9.7"
  }
 },
 "nbformat": 4,
 "nbformat_minor": 5
}
