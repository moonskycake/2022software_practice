{
 "cells": [
  {
   "cell_type": "markdown",
   "id": "c1169d83",
   "metadata": {},
   "source": [
    "# 第二次作业"
   ]
  },
  {
   "cell_type": "markdown",
   "id": "6112ae3a",
   "metadata": {},
   "source": [
    "## 1.简述list和tuple两种数据类型的共同点和差异"
   ]
  },
  {
   "cell_type": "markdown",
   "id": "755a2232",
   "metadata": {},
   "source": [
    "+ 共同点\n",
    "    1. 他们都可以存储不同的数据类型\n",
    "    2. 他们都是序列"
   ]
  },
  {
   "cell_type": "markdown",
   "id": "ed8902d9",
   "metadata": {},
   "source": [
    "+ 不同点\n",
    "    1. 一般来说list是可变的，tuple是不可变的；\n",
    "    2. list用中括号括起来，而tuple用小括号。"
   ]
  },
  {
   "cell_type": "markdown",
   "id": "82968e5f",
   "metadata": {},
   "source": [
    "## 2. 利用dir() 查询list的内置函数，选6个内置函数进行解释并举例说明其具体用法"
   ]
  },
  {
   "cell_type": "markdown",
   "id": "cada4f07",
   "metadata": {},
   "source": [
    "   ### 查询代码与结果如下"
   ]
  },
  {
   "cell_type": "code",
   "execution_count": 2,
   "id": "1d5d2b68",
   "metadata": {},
   "outputs": [
    {
     "data": {
      "text/plain": [
       "['__add__',\n",
       " '__class__',\n",
       " '__class_getitem__',\n",
       " '__contains__',\n",
       " '__delattr__',\n",
       " '__delitem__',\n",
       " '__dir__',\n",
       " '__doc__',\n",
       " '__eq__',\n",
       " '__format__',\n",
       " '__ge__',\n",
       " '__getattribute__',\n",
       " '__getitem__',\n",
       " '__gt__',\n",
       " '__hash__',\n",
       " '__iadd__',\n",
       " '__imul__',\n",
       " '__init__',\n",
       " '__init_subclass__',\n",
       " '__iter__',\n",
       " '__le__',\n",
       " '__len__',\n",
       " '__lt__',\n",
       " '__mul__',\n",
       " '__ne__',\n",
       " '__new__',\n",
       " '__reduce__',\n",
       " '__reduce_ex__',\n",
       " '__repr__',\n",
       " '__reversed__',\n",
       " '__rmul__',\n",
       " '__setattr__',\n",
       " '__setitem__',\n",
       " '__sizeof__',\n",
       " '__str__',\n",
       " '__subclasshook__',\n",
       " 'append',\n",
       " 'clear',\n",
       " 'copy',\n",
       " 'count',\n",
       " 'extend',\n",
       " 'index',\n",
       " 'insert',\n",
       " 'pop',\n",
       " 'remove',\n",
       " 'reverse',\n",
       " 'sort']"
      ]
     },
     "execution_count": 2,
     "metadata": {},
     "output_type": "execute_result"
    }
   ],
   "source": [
    "dir(list)"
   ]
  },
  {
   "cell_type": "markdown",
   "id": "0b511950",
   "metadata": {},
   "source": [
    "### 解释说明"
   ]
  },
  {
   "cell_type": "markdown",
   "id": "5f003519",
   "metadata": {},
   "source": [
    "+ **len()**\n",
    "\n",
    "返回列表元素个数"
   ]
  },
  {
   "cell_type": "code",
   "execution_count": 48,
   "id": "ea941b98",
   "metadata": {},
   "outputs": [],
   "source": [
    "list1 = [1,2,5,6]\n",
    "list2 = [3,8,2,9,4]"
   ]
  },
  {
   "cell_type": "code",
   "execution_count": 49,
   "id": "e95f8a88",
   "metadata": {},
   "outputs": [
    {
     "name": "stdout",
     "output_type": "stream",
     "text": [
      "4\n",
      "5\n"
     ]
    }
   ],
   "source": [
    "print(len(list1))\n",
    "print(len(list2))"
   ]
  },
  {
   "cell_type": "markdown",
   "id": "3b783188",
   "metadata": {},
   "source": [
    "+ **max()**\n",
    "    \n",
    "    返回列表元素最大值"
   ]
  },
  {
   "cell_type": "code",
   "execution_count": 50,
   "id": "a0c3e9a7",
   "metadata": {},
   "outputs": [
    {
     "name": "stdout",
     "output_type": "stream",
     "text": [
      "6\n",
      "9\n"
     ]
    }
   ],
   "source": [
    "print(max(list1))\n",
    "print(max(list2))"
   ]
  },
  {
   "cell_type": "markdown",
   "id": "bb0fadde",
   "metadata": {},
   "source": [
    "+ **min()**\n",
    "\n",
    "    返回列表元素最小值"
   ]
  },
  {
   "cell_type": "code",
   "execution_count": 51,
   "id": "94631f2e",
   "metadata": {},
   "outputs": [
    {
     "name": "stdout",
     "output_type": "stream",
     "text": [
      "1\n",
      "2\n"
     ]
    }
   ],
   "source": [
    "print(min(list1))\n",
    "print(min(list2))"
   ]
  },
  {
   "cell_type": "markdown",
   "id": "9442d0d1",
   "metadata": {},
   "source": [
    "+ **list.append(obj)**\n",
    "\n",
    "    在列表末尾添加新的对象"
   ]
  },
  {
   "cell_type": "code",
   "execution_count": 52,
   "id": "35c8ee0a",
   "metadata": {},
   "outputs": [],
   "source": [
    "list1.append(5)"
   ]
  },
  {
   "cell_type": "code",
   "execution_count": 53,
   "id": "61e0a6ef",
   "metadata": {},
   "outputs": [
    {
     "data": {
      "text/plain": [
       "[1, 2, 5, 6, 5]"
      ]
     },
     "execution_count": 53,
     "metadata": {},
     "output_type": "execute_result"
    }
   ],
   "source": [
    "list1"
   ]
  },
  {
   "cell_type": "markdown",
   "id": "49d3929f",
   "metadata": {},
   "source": [
    "+ \t**list.count(obj)**\n",
    "\n",
    "    统计某个元素在列表中出现的次数"
   ]
  },
  {
   "cell_type": "code",
   "execution_count": 54,
   "id": "bce62e36",
   "metadata": {},
   "outputs": [
    {
     "data": {
      "text/plain": [
       "2"
      ]
     },
     "execution_count": 54,
     "metadata": {},
     "output_type": "execute_result"
    }
   ],
   "source": [
    "list1.count(5)"
   ]
  },
  {
   "cell_type": "markdown",
   "id": "af3b6e67",
   "metadata": {},
   "source": [
    "+ **list.reverse()**\n",
    "    \n",
    "    反向列表中元素"
   ]
  },
  {
   "cell_type": "code",
   "execution_count": 56,
   "id": "2946b33a",
   "metadata": {},
   "outputs": [],
   "source": [
    "list1 = [1,2,5,6]"
   ]
  },
  {
   "cell_type": "code",
   "execution_count": 57,
   "id": "0079e73a",
   "metadata": {},
   "outputs": [
    {
     "name": "stdout",
     "output_type": "stream",
     "text": [
      "[1, 2, 5, 6]\n",
      "[6, 5, 2, 1]\n"
     ]
    }
   ],
   "source": [
    "print(list1)\n",
    "list1.reverse()\n",
    "print(list1)"
   ]
  },
  {
   "cell_type": "markdown",
   "id": "2373b028",
   "metadata": {},
   "source": [
    "## 3. 有两个list，L1和L2，请找出下列元素？\n",
    "### (1) L1和L2共同元素（2）L1中特有的元素 （3）L1中的元素在L2中元素的位置\n"
   ]
  },
  {
   "cell_type": "markdown",
   "id": "1a99ea2f",
   "metadata": {},
   "source": [
    "首先我们假设出两个list"
   ]
  },
  {
   "cell_type": "code",
   "execution_count": 76,
   "id": "74699cee",
   "metadata": {},
   "outputs": [],
   "source": [
    "#L1\n",
    "list_a = [1,5,6,8,3,12,68,21,7]\n",
    "#L2\n",
    "list_b = [2,3,4,6,8,17,22]"
   ]
  },
  {
   "cell_type": "markdown",
   "id": "c40f8071",
   "metadata": {},
   "source": [
    "(1) 求L1和L2共同元素，利用列表生成式，代码如下"
   ]
  },
  {
   "cell_type": "code",
   "execution_count": 71,
   "id": "b7b696da",
   "metadata": {},
   "outputs": [
    {
     "name": "stdout",
     "output_type": "stream",
     "text": [
      "[6, 8, 3]\n"
     ]
    }
   ],
   "source": [
    "a = [x for x in list_a if x in list_b]\n",
    "print(a)"
   ]
  },
  {
   "cell_type": "markdown",
   "id": "a45c9866",
   "metadata": {},
   "source": [
    "(2)求L1中特有的元素，同上，代码如下"
   ]
  },
  {
   "cell_type": "code",
   "execution_count": 72,
   "id": "32e88e59",
   "metadata": {},
   "outputs": [
    {
     "data": {
      "text/plain": [
       "[1, 5, 12, 68, 21, 7]"
      ]
     },
     "execution_count": 72,
     "metadata": {},
     "output_type": "execute_result"
    }
   ],
   "source": [
    "b = [y for y in (list_a + list_b) if y not in (a + list_b)]\n",
    "b"
   ]
  },
  {
   "cell_type": "markdown",
   "id": "eaeb6412",
   "metadata": {},
   "source": [
    "(3)求L1中的元素在L2中元素的位置"
   ]
  },
  {
   "cell_type": "code",
   "execution_count": 82,
   "id": "bb0e1693",
   "metadata": {},
   "outputs": [
    {
     "name": "stdout",
     "output_type": "stream",
     "text": [
      "[3, 4, 1]\n"
     ]
    }
   ],
   "source": [
    "#定义一个列表存放位置，在用循环寻找位置\n",
    "loc = []\n",
    "for i in list_a:\n",
    "    for j in range(len(list_b)):\n",
    "        if i ==list_b[j]:\n",
    "            loc = loc +[j]\n",
    "print(loc)"
   ]
  },
  {
   "cell_type": "markdown",
   "id": "fb865d6b",
   "metadata": {},
   "source": [
    "## 4. 任给一个list 按如下形式进行压缩：例如L=[1,1,2,3,4,4,4,7,7,7,7,9,10,10,10]  缩成下列形式Y=[1,2, 2,1, 3,1, 4,3, 7,4, 9,1, 10,3]，并比较压缩前后的长度。解压缩，已知压缩的Y，怎么还原L？\n"
   ]
  },
  {
   "cell_type": "markdown",
   "id": "3574b7f2",
   "metadata": {},
   "source": [
    "直接利用循环"
   ]
  },
  {
   "cell_type": "code",
   "execution_count": 170,
   "id": "4facf072",
   "metadata": {},
   "outputs": [],
   "source": [
    "    # 先设出list\n",
    "    L = [1,1,2,3,4,4,4,7,7,7,7,9,10,10,10]"
   ]
  },
  {
   "cell_type": "code",
   "execution_count": 171,
   "id": "46917757",
   "metadata": {},
   "outputs": [
    {
     "name": "stdout",
     "output_type": "stream",
     "text": [
      "[1, 2, 2, 1, 3, 1, 4, 3, 7, 4, 9, 1, 10, 3]\n"
     ]
    }
   ],
   "source": [
    "count = 1\n",
    "Y = []\n",
    "temp = 0;\n",
    "\n",
    "for i in range(len(L)):\n",
    "    if len(L) == 1:\n",
    "        Y = L + [1]    \n",
    "    \n",
    "    elif i == 0:\n",
    "        temp = L[i]\n",
    "    \n",
    "    elif L[i] != temp and i < (len(L) - 1):\n",
    "        temp = L[i]\n",
    "        Y += [L[i-1]] + [count]\n",
    "        count = 1\n",
    "        \n",
    "    elif L[i] == temp and i < (len(L) - 1):\n",
    "        count += 1       \n",
    "    \n",
    "    elif L[i] == temp and i == (len(L) - 1):\n",
    "        Y += [L[i]] + [count+1] \n",
    "    \n",
    "    else:\n",
    "        Y += [L[i],1]\n",
    "print(Y)"
   ]
  },
  {
   "cell_type": "markdown",
   "id": "e2c234cb",
   "metadata": {},
   "source": [
    "很明显，压缩前后的长度取决于原列表的格式，原列表中相同相邻的数据越多，压缩后的列表越短\n",
    "\n",
    "以下是解压操作"
   ]
  },
  {
   "cell_type": "code",
   "execution_count": 174,
   "id": "fd93af6d",
   "metadata": {},
   "outputs": [
    {
     "name": "stdout",
     "output_type": "stream",
     "text": [
      "[1, 1, 2, 3, 4, 4, 4, 7, 7, 7, 7, 9, 10, 10, 10]\n"
     ]
    }
   ],
   "source": [
    "L_reset = []\n",
    "for i in range(len(Y)):\n",
    "    if i % 2 == 0:\n",
    "        temp = Y[i]\n",
    "    else:\n",
    "        L_reset += [temp] * Y[i]\n",
    "        \n",
    "print(L_reset)"
   ]
  },
  {
   "cell_type": "markdown",
   "id": "55f12466",
   "metadata": {},
   "source": [
    "## 5. 已知字符串“ENSG00000119714:GPR68|ENST00000238699:SYNONYMOUS_CODING(409;144;48;A;gcC/gcT)|ENST00000529102:SYNONYMOUS_CODING(455;114;38;A;gcC/gcT)|ENST00000531499:SYNONYMOUS_CODING(454;114;38;A;gcC/gcT)|ENST00000535815:SYNONYMOUS_CODING(455;114;38;A;gcC/gcT)|”第一个“|”表示的为基因，后面的“|”表示的为转录本，每两个‘|’中间的”()”中包含密码子转换“gcC/gcT”，请把该字符串整理成list格式，list名为基因名，该字符串的名称为GPR68基因=[[转录本1，密码子转换1]，[转录本2，密码子转换2],… ]\n"
   ]
  },
  {
   "cell_type": "code",
   "execution_count": null,
   "id": "111815b6",
   "metadata": {},
   "outputs": [],
   "source": []
  },
  {
   "cell_type": "markdown",
   "id": "b524d6ab",
   "metadata": {},
   "source": [
    "## 6\t掷骰子正面朝上的样本空间Ω={1，2，3，4，5，6}，输出\n",
    "###  (1)包含{1}   (2)包含{1} {2}   (3)包含{1},{2，3}  的最小的σ代数\n"
   ]
  },
  {
   "cell_type": "markdown",
   "id": "7061adf8",
   "metadata": {},
   "source": [
    "首先用集合表示出样本空间："
   ]
  },
  {
   "cell_type": "code",
   "execution_count": 184,
   "id": "139f7785",
   "metadata": {},
   "outputs": [],
   "source": [
    "Omega = {1,2,3,4,5,6}"
   ]
  },
  {
   "cell_type": "code",
   "execution_count": 185,
   "id": "12fc5fea",
   "metadata": {},
   "outputs": [],
   "source": [
    "## 定义函数，其中运用了函数\n",
    "def sigmamin(a):\n",
    "    sigma_min = a  \n",
    "    def main(a):\n",
    "        flag = 0\n",
    "        for i in a:\n",
    "            bu = Omega - i\n",
    "            if bu not in a:\n",
    "                a += [bu]\n",
    "                flag = 1\n",
    "        for i in a:\n",
    "            for j in a:\n",
    "                jiao = i|j\n",
    "                if i != j and jiao not in a:\n",
    "                    a += [i|j]\n",
    "                    flag = 1\n",
    "        if flag == 1:\n",
    "            main(sigma_min)\n",
    "    main(sigma_min)\n",
    "    return sigma_min"
   ]
  },
  {
   "cell_type": "markdown",
   "id": "f09f9487",
   "metadata": {},
   "source": [
    "接下来运行代码，分别解出各个题目"
   ]
  },
  {
   "cell_type": "code",
   "execution_count": 187,
   "id": "163f7d14",
   "metadata": {},
   "outputs": [],
   "source": [
    "sigma_1 = sigmamin([{1}])\n",
    "sigma_2 = sigmamin([{2}])\n",
    "sigma_3 = sigmamin([{1},{2,3}])"
   ]
  },
  {
   "cell_type": "code",
   "execution_count": 189,
   "id": "f306198d",
   "metadata": {},
   "outputs": [
    {
     "name": "stdout",
     "output_type": "stream",
     "text": [
      "第一题的结果是[{1}, {2, 3, 4, 5, 6}, {1, 2, 3, 4, 5, 6}, set()]，\n",
      "第二题的结果是[{2}, {1, 3, 4, 5, 6}, {1, 2, 3, 4, 5, 6}, set()]，\n",
      "第三题的结果是[{1}, {2, 3}, {2, 3, 4, 5, 6}, {1, 4, 5, 6}, {1, 2, 3}, {1, 2, 3, 4, 5, 6}, {4, 5, 6}, set()]\n"
     ]
    }
   ],
   "source": [
    "print(f\"第一题的结果是{sigma_1}，\\n第二题的结果是{sigma_2}，\\n第三题的结果是{sigma_3}\")"
   ]
  },
  {
   "cell_type": "markdown",
   "id": "89f0fcda",
   "metadata": {},
   "source": [
    "其中set()表示空集"
   ]
  }
 ],
 "metadata": {
  "kernelspec": {
   "display_name": "Python 3 (ipykernel)",
   "language": "python",
   "name": "python3"
  },
  "language_info": {
   "codemirror_mode": {
    "name": "ipython",
    "version": 3
   },
   "file_extension": ".py",
   "mimetype": "text/x-python",
   "name": "python",
   "nbconvert_exporter": "python",
   "pygments_lexer": "ipython3",
   "version": "3.9.7"
  }
 },
 "nbformat": 4,
 "nbformat_minor": 5
}
