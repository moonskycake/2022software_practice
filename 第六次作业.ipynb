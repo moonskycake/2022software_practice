{
 "cells": [
  {
   "cell_type": "markdown",
   "id": "3eec1393",
   "metadata": {},
   "source": [
    "# 第六次作业"
   ]
  },
  {
   "cell_type": "code",
   "execution_count": null,
   "id": "0b756838",
   "metadata": {},
   "outputs": [],
   "source": []
  },
  {
   "cell_type": "markdown",
   "id": "ef2a6be7",
   "metadata": {},
   "source": [
    "2、定义一个学生类，有以下类属性：\n",
    "    （1）、姓名 name （2）、年龄 age （3）、成绩 score（语文、数学、英语）\n",
    "   类方法：\n",
    "    （1）、获取学生姓名 （2）、获取学生年龄 （3）、返回三门科目中的最高分"
   ]
  },
  {
   "cell_type": "code",
   "execution_count": 34,
   "id": "34a469d7",
   "metadata": {},
   "outputs": [
    {
     "name": "stdout",
     "output_type": "stream",
     "text": [
      "姓名：张三\n",
      "年龄：21\n",
      "最高分：93\n",
      "姓名：李四\n",
      "年龄：20\n",
      "最高分：86\n"
     ]
    }
   ],
   "source": [
    "class Student(object):\n",
    "    def __init__(self, name, age, score):\n",
    "        self.__name = name\n",
    "        self.__age = age\n",
    "        self.__score = score\n",
    "    def get_name(self):\n",
    "        return self.__name\n",
    "    def get_age(self):\n",
    "        return self.__age\n",
    "    def get_score(self):\n",
    "        return max(self.__score)\n",
    "stu1=Student('张三',21,[75,82,93])\n",
    "stu2=Student('李四',20,[84,81,86])\n",
    "print(\"姓名：%s\"%(stu1.get_name()))\n",
    "print(\"年龄：%s\"%(stu1.get_age()))\n",
    "print('最高分：{}'.format(stu1.get_score()))\n",
    "print(\"姓名：%s\"%(stu2.get_name()))\n",
    "print(\"年龄：%s\"%(stu2.get_age()))\n",
    "print('最高分：{}'.format(stu2.get_score()))"
   ]
  },
  {
   "cell_type": "markdown",
   "id": "57b52178",
   "metadata": {},
   "source": [
    "3、定义一个集合的操作类：Setinfo\n",
    "    包括的方法：\n",
    "    （1）、集合元素添加 （2）、集合的交集 （3）、集合的并集 （4）、集合的差集"
   ]
  },
  {
   "cell_type": "code",
   "execution_count": 48,
   "id": "f3c17d8f",
   "metadata": {},
   "outputs": [
    {
     "name": "stdout",
     "output_type": "stream",
     "text": [
      "{1, 2, 3, 4, 5, 6, 7, 8, 9, 10, 11}\n",
      "{1, 3, 5, 7, 9}\n",
      "{1, 2, 3, 4, 5, 6, 7, 8, 9, 10, 11}\n",
      "{2, 4, 6, 8, 10}\n"
     ]
    }
   ],
   "source": [
    "class Setinfo(object):\n",
    "    def __init__(self,m):\n",
    "        self.m=m\n",
    "    def add_setinfo(self,keyname):\n",
    "        self.m.add(keyname)\n",
    "        return self.m\n",
    "    def get_intersection(self,unioninfo):\n",
    "        if isinstance(unioninfo,set):\n",
    "            return self.m & unioninfo\n",
    "        else:\n",
    "            return \"输入非同类集合\"\n",
    "    def get_union(self,unioninfo):\n",
    "        return self.m | unioninfo\n",
    "    def del_difference(self,unioninfo):\n",
    "        return self.m-unioninfo\n",
    "A=set([1,2,3,4,5,6,7,8,9,10])\n",
    "B=set([1,3,5,7,9,11])\n",
    "print(my.add_setinfo(11))\n",
    "my=Setinfo(A)\n",
    "print(my.get_intersection(B))\n",
    "print(my.get_union(B))\n",
    "print(my.del_difference(B))"
   ]
  }
 ],
 "metadata": {
  "kernelspec": {
   "display_name": "Python 3 (ipykernel)",
   "language": "python",
   "name": "python3"
  },
  "language_info": {
   "codemirror_mode": {
    "name": "ipython",
    "version": 3
   },
   "file_extension": ".py",
   "mimetype": "text/x-python",
   "name": "python",
   "nbconvert_exporter": "python",
   "pygments_lexer": "ipython3",
   "version": "3.9.7"
  }
 },
 "nbformat": 4,
 "nbformat_minor": 5
}
