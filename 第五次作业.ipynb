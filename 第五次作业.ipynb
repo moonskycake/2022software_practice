{
 "cells": [
  {
   "cell_type": "markdown",
   "id": "0b22dbb5",
   "metadata": {},
   "source": [
    "# 第五次作业 "
   ]
  },
  {
   "cell_type": "markdown",
   "id": "0e006766",
   "metadata": {},
   "source": [
    "# 1、下载英文小说，统计出现次数前二十的单词并打印各自数量"
   ]
  },
  {
   "cell_type": "code",
   "execution_count": 6,
   "id": "12c394cc",
   "metadata": {},
   "outputs": [
    {
     "name": "stdout",
     "output_type": "stream",
     "text": [
      "[('the', 7439), ('of', 3591), ('to', 3042), ('and', 2719), ('a', 2556), ('her', 2038), ('in', 1950), ('he', 1588), ('was', 1510), ('his', 1478), ('she', 1380), ('that', 1278), ('with', 1146), ('on', 1035), ('at', 983), ('had', 968), ('it', 921), ('for', 792), ('him', 706), ('as', 674)]\n"
     ]
    }
   ],
   "source": [
    "import re\n",
    "with open('Madame Bovary.txt') as file:\n",
    "    file_txt=file.read()\n",
    "    word_text=re.sub(r'[?.!,;\"\"/\\[\\]]',' ',file_txt)\n",
    "    word_texts=re.sub(r\"-\",' ',word_text)\n",
    "    wordlist=word_texts.split()\n",
    "    word_dict={}\n",
    "    for word in wordlist:\n",
    "        if word not in word_dict:\n",
    "            word_dict[word]=1\n",
    "        else:\n",
    "            word_dict[word]=word_dict.get(word)+1\n",
    "    dict_order=dict(sorted(word_dict.items(),key=lambda x:x[1],reverse=True))\n",
    "    print(list(dict_order.items())[:20])"
   ]
  },
  {
   "cell_type": "markdown",
   "id": "ac351824",
   "metadata": {},
   "source": [
    "# 2、gtf文件转化为bed文件并输出前六列与前三行，统计chr19中基因个数与基因转录本个数"
   ]
  },
  {
   "cell_type": "code",
   "execution_count": null,
   "id": "a94c5705",
   "metadata": {},
   "outputs": [],
   "source": []
  }
 ],
 "metadata": {
  "kernelspec": {
   "display_name": "Python 3 (ipykernel)",
   "language": "python",
   "name": "python3"
  },
  "language_info": {
   "codemirror_mode": {
    "name": "ipython",
    "version": 3
   },
   "file_extension": ".py",
   "mimetype": "text/x-python",
   "name": "python",
   "nbconvert_exporter": "python",
   "pygments_lexer": "ipython3",
   "version": "3.9.7"
  }
 },
 "nbformat": 4,
 "nbformat_minor": 5
}
